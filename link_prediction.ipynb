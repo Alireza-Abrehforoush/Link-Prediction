{
  "cells": [
    {
      "cell_type": "code",
      "execution_count": 1,
      "id": "659a84d9",
      "metadata": {
        "id": "659a84d9"
      },
      "outputs": [],
      "source": [
        "import math\n",
        "import random\n",
        "import numpy as np\n",
        "import pandas as pd\n",
        "import networkx as nx\n",
        "import scipy as sc\n",
        "from tqdm import tqdm\n",
        "\n",
        "from matplotlib import pyplot as plt\n",
        "from signet.cluster import Cluster\n",
        "from sklearn.model_selection import train_test_split\n",
        "#from sklearn.metrics import adjusted_rand_score\n",
        "from sklearn.metrics import confusion_matrix\n",
        "#from sklearn.metrics import plot_confusion_matrix\n",
        "#from sklearn.metrics import plot_roc_curve\n",
        "from sklearn.metrics import accuracy_score\n",
        "from sklearn.metrics import f1_score\n",
        "from sklearn.metrics import recall_score\n",
        "from sklearn.metrics import precision_score\n",
        "from sklearn.model_selection import train_test_split"
      ]
    },
    {
      "cell_type": "code",
      "execution_count": 2,
      "id": "-pBl8nmmJHDd",
      "metadata": {
        "colab": {
          "base_uri": "https://localhost:8080/"
        },
        "id": "-pBl8nmmJHDd",
        "outputId": "5d3caeb1-5ab2-4c61-d315-6c704fe4a6bb"
      },
      "outputs": [],
      "source": [
        "# for google colab\n",
        "# from google.colab import drive\n",
        "# drive.mount('/content/gdrive')"
      ]
    },
    {
      "cell_type": "code",
      "execution_count": 3,
      "id": "6382090b",
      "metadata": {
        "id": "6382090b"
      },
      "outputs": [],
      "source": [
        "# reading the raw dataset which may contain duplicates, node ids out of range (id of nodes should be assigned from zero to number_of_nodes - 1)\n",
        "#df_raw = pd.read_csv(\"Datasets/New_ Microsoft_ Excel_ Worksheet.csv\")\n",
        "df_raw = pd.read_csv(\"Datasets/soc-sign-epinions_modified.csv\")"
      ]
    },
    {
      "cell_type": "code",
      "execution_count": 4,
      "id": "e3c3cd92",
      "metadata": {
        "colab": {
          "base_uri": "https://localhost:8080/",
          "height": 424
        },
        "id": "e3c3cd92",
        "outputId": "1f27bebd-ecda-4fda-f9f9-fe9b7f33278b"
      },
      "outputs": [
        {
          "data": {
            "text/html": [
              "<div>\n",
              "<style scoped>\n",
              "    .dataframe tbody tr th:only-of-type {\n",
              "        vertical-align: middle;\n",
              "    }\n",
              "\n",
              "    .dataframe tbody tr th {\n",
              "        vertical-align: top;\n",
              "    }\n",
              "\n",
              "    .dataframe thead th {\n",
              "        text-align: right;\n",
              "    }\n",
              "</style>\n",
              "<table border=\"1\" class=\"dataframe\">\n",
              "  <thead>\n",
              "    <tr style=\"text-align: right;\">\n",
              "      <th></th>\n",
              "      <th>source</th>\n",
              "      <th>target</th>\n",
              "      <th>sign</th>\n",
              "    </tr>\n",
              "  </thead>\n",
              "  <tbody>\n",
              "    <tr>\n",
              "      <th>0</th>\n",
              "      <td>1</td>\n",
              "      <td>2</td>\n",
              "      <td>-1</td>\n",
              "    </tr>\n",
              "    <tr>\n",
              "      <th>1</th>\n",
              "      <td>130144</td>\n",
              "      <td>2</td>\n",
              "      <td>1</td>\n",
              "    </tr>\n",
              "    <tr>\n",
              "      <th>2</th>\n",
              "      <td>5080</td>\n",
              "      <td>3</td>\n",
              "      <td>1</td>\n",
              "    </tr>\n",
              "    <tr>\n",
              "      <th>3</th>\n",
              "      <td>3</td>\n",
              "      <td>4</td>\n",
              "      <td>1</td>\n",
              "    </tr>\n",
              "    <tr>\n",
              "      <th>4</th>\n",
              "      <td>117</td>\n",
              "      <td>4</td>\n",
              "      <td>1</td>\n",
              "    </tr>\n",
              "    <tr>\n",
              "      <th>...</th>\n",
              "      <td>...</td>\n",
              "      <td>...</td>\n",
              "      <td>...</td>\n",
              "    </tr>\n",
              "    <tr>\n",
              "      <th>841367</th>\n",
              "      <td>92808</td>\n",
              "      <td>131814</td>\n",
              "      <td>-1</td>\n",
              "    </tr>\n",
              "    <tr>\n",
              "      <th>841368</th>\n",
              "      <td>131816</td>\n",
              "      <td>131817</td>\n",
              "      <td>1</td>\n",
              "    </tr>\n",
              "    <tr>\n",
              "      <th>841369</th>\n",
              "      <td>131819</td>\n",
              "      <td>131820</td>\n",
              "      <td>-1</td>\n",
              "    </tr>\n",
              "    <tr>\n",
              "      <th>841370</th>\n",
              "      <td>131824</td>\n",
              "      <td>131825</td>\n",
              "      <td>1</td>\n",
              "    </tr>\n",
              "    <tr>\n",
              "      <th>841371</th>\n",
              "      <td>131826</td>\n",
              "      <td>131827</td>\n",
              "      <td>1</td>\n",
              "    </tr>\n",
              "  </tbody>\n",
              "</table>\n",
              "<p>841372 rows × 3 columns</p>\n",
              "</div>"
            ],
            "text/plain": [
              "        source  target  sign\n",
              "0            1       2    -1\n",
              "1       130144       2     1\n",
              "2         5080       3     1\n",
              "3            3       4     1\n",
              "4          117       4     1\n",
              "...        ...     ...   ...\n",
              "841367   92808  131814    -1\n",
              "841368  131816  131817     1\n",
              "841369  131819  131820    -1\n",
              "841370  131824  131825     1\n",
              "841371  131826  131827     1\n",
              "\n",
              "[841372 rows x 3 columns]"
            ]
          },
          "execution_count": 4,
          "metadata": {},
          "output_type": "execute_result"
        }
      ],
      "source": [
        "df_raw"
      ]
    },
    {
      "cell_type": "code",
      "execution_count": 5,
      "id": "73e49f09",
      "metadata": {
        "id": "73e49f09"
      },
      "outputs": [],
      "source": [
        "df_no_dup = df_raw.drop_duplicates(inplace = False)\n",
        "df_no_dup = df_no_dup.reset_index(drop=True)"
      ]
    },
    {
      "cell_type": "code",
      "execution_count": 6,
      "id": "44d62bca",
      "metadata": {
        "colab": {
          "base_uri": "https://localhost:8080/",
          "height": 424
        },
        "id": "44d62bca",
        "outputId": "3e6681d3-b178-415b-b00c-dab5f794223f",
        "scrolled": true
      },
      "outputs": [
        {
          "data": {
            "text/html": [
              "<div>\n",
              "<style scoped>\n",
              "    .dataframe tbody tr th:only-of-type {\n",
              "        vertical-align: middle;\n",
              "    }\n",
              "\n",
              "    .dataframe tbody tr th {\n",
              "        vertical-align: top;\n",
              "    }\n",
              "\n",
              "    .dataframe thead th {\n",
              "        text-align: right;\n",
              "    }\n",
              "</style>\n",
              "<table border=\"1\" class=\"dataframe\">\n",
              "  <thead>\n",
              "    <tr style=\"text-align: right;\">\n",
              "      <th></th>\n",
              "      <th>source</th>\n",
              "      <th>target</th>\n",
              "      <th>sign</th>\n",
              "    </tr>\n",
              "  </thead>\n",
              "  <tbody>\n",
              "    <tr>\n",
              "      <th>0</th>\n",
              "      <td>1</td>\n",
              "      <td>2</td>\n",
              "      <td>-1</td>\n",
              "    </tr>\n",
              "    <tr>\n",
              "      <th>1</th>\n",
              "      <td>130144</td>\n",
              "      <td>2</td>\n",
              "      <td>1</td>\n",
              "    </tr>\n",
              "    <tr>\n",
              "      <th>2</th>\n",
              "      <td>5080</td>\n",
              "      <td>3</td>\n",
              "      <td>1</td>\n",
              "    </tr>\n",
              "    <tr>\n",
              "      <th>3</th>\n",
              "      <td>3</td>\n",
              "      <td>4</td>\n",
              "      <td>1</td>\n",
              "    </tr>\n",
              "    <tr>\n",
              "      <th>4</th>\n",
              "      <td>117</td>\n",
              "      <td>4</td>\n",
              "      <td>1</td>\n",
              "    </tr>\n",
              "    <tr>\n",
              "      <th>...</th>\n",
              "      <td>...</td>\n",
              "      <td>...</td>\n",
              "      <td>...</td>\n",
              "    </tr>\n",
              "    <tr>\n",
              "      <th>841367</th>\n",
              "      <td>92808</td>\n",
              "      <td>131814</td>\n",
              "      <td>-1</td>\n",
              "    </tr>\n",
              "    <tr>\n",
              "      <th>841368</th>\n",
              "      <td>131816</td>\n",
              "      <td>131817</td>\n",
              "      <td>1</td>\n",
              "    </tr>\n",
              "    <tr>\n",
              "      <th>841369</th>\n",
              "      <td>131819</td>\n",
              "      <td>131820</td>\n",
              "      <td>-1</td>\n",
              "    </tr>\n",
              "    <tr>\n",
              "      <th>841370</th>\n",
              "      <td>131824</td>\n",
              "      <td>131825</td>\n",
              "      <td>1</td>\n",
              "    </tr>\n",
              "    <tr>\n",
              "      <th>841371</th>\n",
              "      <td>131826</td>\n",
              "      <td>131827</td>\n",
              "      <td>1</td>\n",
              "    </tr>\n",
              "  </tbody>\n",
              "</table>\n",
              "<p>841372 rows × 3 columns</p>\n",
              "</div>"
            ],
            "text/plain": [
              "        source  target  sign\n",
              "0            1       2    -1\n",
              "1       130144       2     1\n",
              "2         5080       3     1\n",
              "3            3       4     1\n",
              "4          117       4     1\n",
              "...        ...     ...   ...\n",
              "841367   92808  131814    -1\n",
              "841368  131816  131817     1\n",
              "841369  131819  131820    -1\n",
              "841370  131824  131825     1\n",
              "841371  131826  131827     1\n",
              "\n",
              "[841372 rows x 3 columns]"
            ]
          },
          "execution_count": 6,
          "metadata": {},
          "output_type": "execute_result"
        }
      ],
      "source": [
        "df_no_dup"
      ]
    },
    {
      "cell_type": "code",
      "execution_count": 7,
      "id": "05691ab6",
      "metadata": {
        "id": "05691ab6"
      },
      "outputs": [],
      "source": [
        "# function to assign new ids to nodes regarding keeping ids in zero to num_of_nodes - 1\n",
        "def relabel(df):\n",
        "    source_old_labels = df[\"source\"].drop_duplicates().to_numpy()\n",
        "    #print(source_old_labels)\n",
        "    target_old_labels = df[\"target\"].drop_duplicates().to_numpy()\n",
        "    all_old_labels = np.union1d(source_old_labels, target_old_labels)\n",
        "    index_map = dict(enumerate(all_old_labels))\n",
        "    new_index_map = dict([(value, key) for key, value in index_map.items()])\n",
        "    #print(index_map == new_index_map)\n",
        "    new_df = df.copy()\n",
        "    for index, row in new_df.iterrows():\n",
        "        #print(row[\"source\"])\n",
        "        row[\"source\"] = new_index_map[row[\"source\"]]\n",
        "        row[\"target\"] = new_index_map[row[\"target\"]]\n",
        "    return new_index_map, new_df"
      ]
    },
    {
      "cell_type": "code",
      "execution_count": 8,
      "id": "12f8a5fc",
      "metadata": {
        "id": "12f8a5fc"
      },
      "outputs": [],
      "source": [
        "ind_map, df_relabled = relabel(df_no_dup)"
      ]
    },
    {
      "attachments": {},
      "cell_type": "markdown",
      "id": "9ca26b10",
      "metadata": {
        "id": "9ca26b10"
      },
      "source": [
        "#### اگر طوقه داشته باشه دیتاست نباید از MultiDiGraph استفاده شود"
      ]
    },
    {
      "cell_type": "code",
      "execution_count": 9,
      "id": "b69d8601",
      "metadata": {
        "id": "b69d8601"
      },
      "outputs": [],
      "source": [
        "main_graph = nx.DiGraph()\n",
        "main_graph = nx.from_pandas_edgelist(df = df_relabled, source = 'source', target = 'target', edge_attr = 'sign', create_using = nx.DiGraph(), edge_key = 'sign')"
      ]
    },
    {
      "cell_type": "code",
      "execution_count": 10,
      "id": "5dc371ca",
      "metadata": {
        "colab": {
          "base_uri": "https://localhost:8080/"
        },
        "id": "5dc371ca",
        "outputId": "df661c51-0c22-4ced-93ec-7ffdf6c262da",
        "scrolled": true
      },
      "outputs": [
        {
          "name": "stdout",
          "output_type": "stream",
          "text": [
            "number of nodes G = 131828\n",
            "number of edges G = 841372\n",
            "Density of G: 4.841456374018419e-05\n"
          ]
        }
      ],
      "source": [
        "print('number of nodes G =', nx.number_of_nodes(main_graph) )\n",
        "print('number of edges G =', nx.number_of_edges(main_graph) )\n",
        "print('Density of G:', nx.density(main_graph))"
      ]
    },
    {
      "attachments": {},
      "cell_type": "markdown",
      "id": "293c1bc7",
      "metadata": {
        "id": "293c1bc7"
      },
      "source": [
        "### توجه شود که اختلاف تعداد یال‎های گراف با سطرهای دیتافریم به دلیل وجود یال چندگانه یا طوقه در دیتا فریم است."
      ]
    },
    {
      "cell_type": "code",
      "execution_count": 11,
      "id": "918de99e",
      "metadata": {
        "id": "918de99e"
      },
      "outputs": [],
      "source": [
        "def graphTrainTestSplit(G, df, train_size, positive_size = 0.8):\n",
        "    G_train = G.copy()\n",
        "    train_df = df.copy()\n",
        "    test_df = df.copy()\n",
        "    edges_no = nx.number_of_edges(G_train)\n",
        "    test_size = 1 - train_size\n",
        "    \n",
        "    # Get the indices of positive and negative labels\n",
        "    positive_indices = train_df[train_df['sign'] == 1].index.to_list()\n",
        "    negative_indices = train_df[train_df['sign'] == -1].index.to_list()\n",
        "    \n",
        "    # Shuffle the indices randomly\n",
        "    random.shuffle(positive_indices)\n",
        "    random.shuffle(negative_indices)\n",
        "    \n",
        "    # Calculate the number of positive and negative labels for test set\n",
        "    negative_size = 1 - positive_size\n",
        "    test_positive_count = int(test_size * edges_no * positive_size)\n",
        "    test_negative_count = int(test_size * edges_no * negative_size)\n",
        "    # test_positive_count = int(train_size * len(positive_indices))\n",
        "    # test_negative_count = int(train_size * len(negative_indices))\n",
        "    number_of_edges_left_for_removal = test_positive_count + test_negative_count\n",
        "    \n",
        "    edges_to_remove = []  # List to store edges for removal\n",
        "    \n",
        "    #print(\"number_of_edges_left_for_removal: \", number_of_edges_left_for_removal, 'test_positive_count:', test_positive_count, 'test_negative_count: ', test_negative_count)\n",
        "\n",
        "    while number_of_edges_left_for_removal > 0:\n",
        "        edges = np.array(G_train.edges)\n",
        "        chosen_edge = random.choice(edges)\n",
        "        source = chosen_edge[0]\n",
        "        target = chosen_edge[1]\n",
        "        \n",
        "        if (G_train.degree[source] > 1 and G_train.degree[target] > 1):\n",
        "            label = train_df.loc[(train_df['source'] == source) & (train_df['target'] == target), 'sign'].values[0]\n",
        "            \n",
        "            # Check if the edge label matches the desired distribution\n",
        "            if (label == 1 and test_positive_count > 0) or (label == -1 and test_negative_count > 0):\n",
        "                if G_train.has_edge(source, target):\n",
        "                    edges_to_remove.append((source, target))\n",
        "                    G_train.remove_edge(source, target)\n",
        "                    if label == 1:\n",
        "                        test_positive_count -= 1\n",
        "                    else:\n",
        "                        test_negative_count -= 1\n",
        "                    number_of_edges_left_for_removal -= 1\n",
        "\n",
        "    #print('edges_to_remove size: ', len(edges_to_remove))    \n",
        "    # Remove the corresponding rows from the train DataFrame\n",
        "    # train_df = train_df.drop(train_df[(train_df['source'].isin([edge[0] for edge in edges_to_remove])) &  (train_df['target'].isin([edge[1] for edge in edges_to_remove]))].index)\n",
        "    \n",
        "    mask = train_df[['source', 'target']].apply(tuple, axis=1).isin(edges_to_remove)\n",
        "    train_df = train_df[~mask]\n",
        "\n",
        "    test_df = test_df.merge(train_df, how='left', indicator=True)\n",
        "    test_df = test_df[test_df['_merge'] == 'left_only'].drop('_merge', axis=1)\n",
        "    \n",
        "    return G_train, train_df, test_df\n"
      ]
    },
    {
      "cell_type": "code",
      "execution_count": 12,
      "id": "5b9500d3",
      "metadata": {
        "id": "5b9500d3"
      },
      "outputs": [],
      "source": [
        "# def graphTrainTestSplit(G, df, train_size):\n",
        "#     G_train = G.copy()\n",
        "#     train_df = df.copy()\n",
        "#     test_df = df.copy()\n",
        "#     edges_no = nx.number_of_edges(G_train)\n",
        "#     number_of_edges_left_for_removal = np.floor((1 - train_size) * edges_no)\n",
        "#     while (number_of_edges_left_for_removal > 0):\n",
        "#         edges = np.array(G_train.edges)\n",
        "#         chosen_edge = random.choice(edges)\n",
        "#         if (G_train.degree[chosen_edge[0]] > 1 and G_train.degree[chosen_edge[1]] > 1):\n",
        "#             G_train.remove_edge(chosen_edge[0], chosen_edge[1])\n",
        "            \n",
        "#             # Get indexes where name column has value\n",
        "#             index_names = train_df.index[(train_df['source'] == chosen_edge[0]) & (train_df['target'] == chosen_edge[1])]\n",
        "#             # Delete these row indexes from dataFrame\n",
        "#             train_df.drop(index_names, inplace = True)\n",
        "            \n",
        "#             number_of_edges_left_for_removal -= 1\n",
        "#     test_df = test_df.merge(train_df, how='left', indicator=True)\n",
        "#     test_df = test_df[test_df['_merge'] == 'left_only'].drop('_merge', axis=1)\n",
        "#     return G_train, train_df, test_df"
      ]
    },
    {
      "cell_type": "code",
      "execution_count": 13,
      "id": "7499a852",
      "metadata": {
        "id": "7499a852"
      },
      "outputs": [],
      "source": [
        "train_graph, train_df, test_df = graphTrainTestSplit(main_graph, df_relabled, 0.99987163838155015670814252418369)"
      ]
    },
    {
      "cell_type": "code",
      "execution_count": 14,
      "id": "c11781e8",
      "metadata": {},
      "outputs": [],
      "source": [
        "# function to add negative and positive weight columns to the dataframe\n",
        "\n",
        "def labelPosWeight (row):\n",
        "   if row['sign'] == 1 :\n",
        "      return 1\n",
        "   else:\n",
        "      return 0\n",
        "\n",
        "def labelNegWeight (row):\n",
        "   if row['sign'] == -1 :\n",
        "      return 1\n",
        "   else:\n",
        "      return 0"
      ]
    },
    {
      "cell_type": "code",
      "execution_count": 15,
      "id": "1c4a2a7f",
      "metadata": {},
      "outputs": [],
      "source": [
        "train_df['pos_weight'] = train_df.apply (lambda row: labelPosWeight(row), axis=1)\n",
        "train_df['neg_weight'] = train_df.apply (lambda row: labelNegWeight(row), axis=1)"
      ]
    },
    {
      "cell_type": "code",
      "execution_count": 16,
      "id": "cbd9d5e3",
      "metadata": {},
      "outputs": [
        {
          "data": {
            "text/html": [
              "<div>\n",
              "<style scoped>\n",
              "    .dataframe tbody tr th:only-of-type {\n",
              "        vertical-align: middle;\n",
              "    }\n",
              "\n",
              "    .dataframe tbody tr th {\n",
              "        vertical-align: top;\n",
              "    }\n",
              "\n",
              "    .dataframe thead th {\n",
              "        text-align: right;\n",
              "    }\n",
              "</style>\n",
              "<table border=\"1\" class=\"dataframe\">\n",
              "  <thead>\n",
              "    <tr style=\"text-align: right;\">\n",
              "      <th></th>\n",
              "      <th>source</th>\n",
              "      <th>target</th>\n",
              "      <th>sign</th>\n",
              "      <th>pos_weight</th>\n",
              "      <th>neg_weight</th>\n",
              "    </tr>\n",
              "  </thead>\n",
              "  <tbody>\n",
              "    <tr>\n",
              "      <th>0</th>\n",
              "      <td>0</td>\n",
              "      <td>1</td>\n",
              "      <td>-1</td>\n",
              "      <td>0</td>\n",
              "      <td>1</td>\n",
              "    </tr>\n",
              "    <tr>\n",
              "      <th>1</th>\n",
              "      <td>130143</td>\n",
              "      <td>1</td>\n",
              "      <td>1</td>\n",
              "      <td>1</td>\n",
              "      <td>0</td>\n",
              "    </tr>\n",
              "    <tr>\n",
              "      <th>2</th>\n",
              "      <td>5079</td>\n",
              "      <td>2</td>\n",
              "      <td>1</td>\n",
              "      <td>1</td>\n",
              "      <td>0</td>\n",
              "    </tr>\n",
              "    <tr>\n",
              "      <th>3</th>\n",
              "      <td>2</td>\n",
              "      <td>3</td>\n",
              "      <td>1</td>\n",
              "      <td>1</td>\n",
              "      <td>0</td>\n",
              "    </tr>\n",
              "    <tr>\n",
              "      <th>4</th>\n",
              "      <td>116</td>\n",
              "      <td>3</td>\n",
              "      <td>1</td>\n",
              "      <td>1</td>\n",
              "      <td>0</td>\n",
              "    </tr>\n",
              "    <tr>\n",
              "      <th>...</th>\n",
              "      <td>...</td>\n",
              "      <td>...</td>\n",
              "      <td>...</td>\n",
              "      <td>...</td>\n",
              "      <td>...</td>\n",
              "    </tr>\n",
              "    <tr>\n",
              "      <th>841367</th>\n",
              "      <td>92807</td>\n",
              "      <td>131813</td>\n",
              "      <td>-1</td>\n",
              "      <td>0</td>\n",
              "      <td>1</td>\n",
              "    </tr>\n",
              "    <tr>\n",
              "      <th>841368</th>\n",
              "      <td>131815</td>\n",
              "      <td>131816</td>\n",
              "      <td>1</td>\n",
              "      <td>1</td>\n",
              "      <td>0</td>\n",
              "    </tr>\n",
              "    <tr>\n",
              "      <th>841369</th>\n",
              "      <td>131818</td>\n",
              "      <td>131819</td>\n",
              "      <td>-1</td>\n",
              "      <td>0</td>\n",
              "      <td>1</td>\n",
              "    </tr>\n",
              "    <tr>\n",
              "      <th>841370</th>\n",
              "      <td>131823</td>\n",
              "      <td>131824</td>\n",
              "      <td>1</td>\n",
              "      <td>1</td>\n",
              "      <td>0</td>\n",
              "    </tr>\n",
              "    <tr>\n",
              "      <th>841371</th>\n",
              "      <td>131825</td>\n",
              "      <td>131826</td>\n",
              "      <td>1</td>\n",
              "      <td>1</td>\n",
              "      <td>0</td>\n",
              "    </tr>\n",
              "  </tbody>\n",
              "</table>\n",
              "<p>841265 rows × 5 columns</p>\n",
              "</div>"
            ],
            "text/plain": [
              "        source  target  sign  pos_weight  neg_weight\n",
              "0            0       1    -1           0           1\n",
              "1       130143       1     1           1           0\n",
              "2         5079       2     1           1           0\n",
              "3            2       3     1           1           0\n",
              "4          116       3     1           1           0\n",
              "...        ...     ...   ...         ...         ...\n",
              "841367   92807  131813    -1           0           1\n",
              "841368  131815  131816     1           1           0\n",
              "841369  131818  131819    -1           0           1\n",
              "841370  131823  131824     1           1           0\n",
              "841371  131825  131826     1           1           0\n",
              "\n",
              "[841265 rows x 5 columns]"
            ]
          },
          "execution_count": 16,
          "metadata": {},
          "output_type": "execute_result"
        }
      ],
      "source": [
        "train_df"
      ]
    },
    {
      "cell_type": "code",
      "execution_count": 17,
      "id": "32b41324",
      "metadata": {},
      "outputs": [
        {
          "name": "stdout",
          "output_type": "stream",
          "text": [
            "number of nodes G = 131828\n",
            "number of edges G = 841265\n",
            "Density of G: 4.8408406703439204e-05\n"
          ]
        }
      ],
      "source": [
        "print('number of nodes G =', nx.number_of_nodes(train_graph) )\n",
        "print('number of edges G =', nx.number_of_edges(train_graph) )\n",
        "print('Density of G:', nx.density(train_graph))"
      ]
    },
    {
      "cell_type": "code",
      "execution_count": 18,
      "id": "6cf390ac",
      "metadata": {},
      "outputs": [],
      "source": [
        "def linePrepender(filename, line):\n",
        "    with open(filename, 'r+') as f:\n",
        "        content = f.read()\n",
        "        f.seek(0, 0)\n",
        "        f.write(line.rstrip('\\r\\n') + '\\n' + content)"
      ]
    },
    {
      "cell_type": "code",
      "execution_count": 19,
      "id": "ca0e730f",
      "metadata": {},
      "outputs": [],
      "source": [
        "soc_df = train_df[['source', 'target', 'pos_weight', 'neg_weight']]\n",
        "soc_df.to_csv(\"Datasets\\soc.tsv\", index = False, header = False, sep = '\\t')\n",
        "linePrepender(\"Datasets\\soc.tsv\", str(nx.number_of_nodes(train_graph)) + '\\t' + str(nx.number_of_edges(train_graph)))"
      ]
    },
    {
      "cell_type": "code",
      "execution_count": 20,
      "id": "5wwEwNTAMBYh",
      "metadata": {
        "colab": {
          "base_uri": "https://localhost:8080/",
          "height": 424
        },
        "id": "5wwEwNTAMBYh",
        "outputId": "72b4eb98-e195-4549-bf48-2339e9444aca"
      },
      "outputs": [
        {
          "data": {
            "text/html": [
              "<div>\n",
              "<style scoped>\n",
              "    .dataframe tbody tr th:only-of-type {\n",
              "        vertical-align: middle;\n",
              "    }\n",
              "\n",
              "    .dataframe tbody tr th {\n",
              "        vertical-align: top;\n",
              "    }\n",
              "\n",
              "    .dataframe thead th {\n",
              "        text-align: right;\n",
              "    }\n",
              "</style>\n",
              "<table border=\"1\" class=\"dataframe\">\n",
              "  <thead>\n",
              "    <tr style=\"text-align: right;\">\n",
              "      <th></th>\n",
              "      <th>source</th>\n",
              "      <th>target</th>\n",
              "      <th>sign</th>\n",
              "      <th>pos_weight</th>\n",
              "      <th>neg_weight</th>\n",
              "    </tr>\n",
              "  </thead>\n",
              "  <tbody>\n",
              "    <tr>\n",
              "      <th>0</th>\n",
              "      <td>0</td>\n",
              "      <td>1</td>\n",
              "      <td>-1</td>\n",
              "      <td>0</td>\n",
              "      <td>1</td>\n",
              "    </tr>\n",
              "    <tr>\n",
              "      <th>1</th>\n",
              "      <td>130143</td>\n",
              "      <td>1</td>\n",
              "      <td>1</td>\n",
              "      <td>1</td>\n",
              "      <td>0</td>\n",
              "    </tr>\n",
              "    <tr>\n",
              "      <th>2</th>\n",
              "      <td>5079</td>\n",
              "      <td>2</td>\n",
              "      <td>1</td>\n",
              "      <td>1</td>\n",
              "      <td>0</td>\n",
              "    </tr>\n",
              "    <tr>\n",
              "      <th>3</th>\n",
              "      <td>2</td>\n",
              "      <td>3</td>\n",
              "      <td>1</td>\n",
              "      <td>1</td>\n",
              "      <td>0</td>\n",
              "    </tr>\n",
              "    <tr>\n",
              "      <th>4</th>\n",
              "      <td>116</td>\n",
              "      <td>3</td>\n",
              "      <td>1</td>\n",
              "      <td>1</td>\n",
              "      <td>0</td>\n",
              "    </tr>\n",
              "    <tr>\n",
              "      <th>...</th>\n",
              "      <td>...</td>\n",
              "      <td>...</td>\n",
              "      <td>...</td>\n",
              "      <td>...</td>\n",
              "      <td>...</td>\n",
              "    </tr>\n",
              "    <tr>\n",
              "      <th>841367</th>\n",
              "      <td>92807</td>\n",
              "      <td>131813</td>\n",
              "      <td>-1</td>\n",
              "      <td>0</td>\n",
              "      <td>1</td>\n",
              "    </tr>\n",
              "    <tr>\n",
              "      <th>841368</th>\n",
              "      <td>131815</td>\n",
              "      <td>131816</td>\n",
              "      <td>1</td>\n",
              "      <td>1</td>\n",
              "      <td>0</td>\n",
              "    </tr>\n",
              "    <tr>\n",
              "      <th>841369</th>\n",
              "      <td>131818</td>\n",
              "      <td>131819</td>\n",
              "      <td>-1</td>\n",
              "      <td>0</td>\n",
              "      <td>1</td>\n",
              "    </tr>\n",
              "    <tr>\n",
              "      <th>841370</th>\n",
              "      <td>131823</td>\n",
              "      <td>131824</td>\n",
              "      <td>1</td>\n",
              "      <td>1</td>\n",
              "      <td>0</td>\n",
              "    </tr>\n",
              "    <tr>\n",
              "      <th>841371</th>\n",
              "      <td>131825</td>\n",
              "      <td>131826</td>\n",
              "      <td>1</td>\n",
              "      <td>1</td>\n",
              "      <td>0</td>\n",
              "    </tr>\n",
              "  </tbody>\n",
              "</table>\n",
              "<p>841265 rows × 5 columns</p>\n",
              "</div>"
            ],
            "text/plain": [
              "        source  target  sign  pos_weight  neg_weight\n",
              "0            0       1    -1           0           1\n",
              "1       130143       1     1           1           0\n",
              "2         5079       2     1           1           0\n",
              "3            2       3     1           1           0\n",
              "4          116       3     1           1           0\n",
              "...        ...     ...   ...         ...         ...\n",
              "841367   92807  131813    -1           0           1\n",
              "841368  131815  131816     1           1           0\n",
              "841369  131818  131819    -1           0           1\n",
              "841370  131823  131824     1           1           0\n",
              "841371  131825  131826     1           1           0\n",
              "\n",
              "[841265 rows x 5 columns]"
            ]
          },
          "execution_count": 20,
          "metadata": {},
          "output_type": "execute_result"
        }
      ],
      "source": [
        "train_df"
      ]
    },
    {
      "cell_type": "code",
      "execution_count": 21,
      "id": "dXUF0U7gQif8",
      "metadata": {
        "colab": {
          "base_uri": "https://localhost:8080/",
          "height": 424
        },
        "id": "dXUF0U7gQif8",
        "outputId": "5ff0d0a8-7e3b-445c-b43e-d8c553d13c00"
      },
      "outputs": [
        {
          "data": {
            "text/html": [
              "<div>\n",
              "<style scoped>\n",
              "    .dataframe tbody tr th:only-of-type {\n",
              "        vertical-align: middle;\n",
              "    }\n",
              "\n",
              "    .dataframe tbody tr th {\n",
              "        vertical-align: top;\n",
              "    }\n",
              "\n",
              "    .dataframe thead th {\n",
              "        text-align: right;\n",
              "    }\n",
              "</style>\n",
              "<table border=\"1\" class=\"dataframe\">\n",
              "  <thead>\n",
              "    <tr style=\"text-align: right;\">\n",
              "      <th></th>\n",
              "      <th>source</th>\n",
              "      <th>target</th>\n",
              "      <th>sign</th>\n",
              "    </tr>\n",
              "  </thead>\n",
              "  <tbody>\n",
              "    <tr>\n",
              "      <th>5138</th>\n",
              "      <td>23292</td>\n",
              "      <td>25</td>\n",
              "      <td>1</td>\n",
              "    </tr>\n",
              "    <tr>\n",
              "      <th>8572</th>\n",
              "      <td>3978</td>\n",
              "      <td>57</td>\n",
              "      <td>1</td>\n",
              "    </tr>\n",
              "    <tr>\n",
              "      <th>9102</th>\n",
              "      <td>40351</td>\n",
              "      <td>57</td>\n",
              "      <td>1</td>\n",
              "    </tr>\n",
              "    <tr>\n",
              "      <th>12481</th>\n",
              "      <td>125662</td>\n",
              "      <td>141</td>\n",
              "      <td>1</td>\n",
              "    </tr>\n",
              "    <tr>\n",
              "      <th>15466</th>\n",
              "      <td>14617</td>\n",
              "      <td>169</td>\n",
              "      <td>1</td>\n",
              "    </tr>\n",
              "    <tr>\n",
              "      <th>...</th>\n",
              "      <td>...</td>\n",
              "      <td>...</td>\n",
              "      <td>...</td>\n",
              "    </tr>\n",
              "    <tr>\n",
              "      <th>778584</th>\n",
              "      <td>45510</td>\n",
              "      <td>90624</td>\n",
              "      <td>1</td>\n",
              "    </tr>\n",
              "    <tr>\n",
              "      <th>799529</th>\n",
              "      <td>10863</td>\n",
              "      <td>102729</td>\n",
              "      <td>-1</td>\n",
              "    </tr>\n",
              "    <tr>\n",
              "      <th>810496</th>\n",
              "      <td>316</td>\n",
              "      <td>108989</td>\n",
              "      <td>1</td>\n",
              "    </tr>\n",
              "    <tr>\n",
              "      <th>821053</th>\n",
              "      <td>6307</td>\n",
              "      <td>115267</td>\n",
              "      <td>1</td>\n",
              "    </tr>\n",
              "    <tr>\n",
              "      <th>822774</th>\n",
              "      <td>1348</td>\n",
              "      <td>116144</td>\n",
              "      <td>-1</td>\n",
              "    </tr>\n",
              "  </tbody>\n",
              "</table>\n",
              "<p>107 rows × 3 columns</p>\n",
              "</div>"
            ],
            "text/plain": [
              "        source  target  sign\n",
              "5138     23292      25     1\n",
              "8572      3978      57     1\n",
              "9102     40351      57     1\n",
              "12481   125662     141     1\n",
              "15466    14617     169     1\n",
              "...        ...     ...   ...\n",
              "778584   45510   90624     1\n",
              "799529   10863  102729    -1\n",
              "810496     316  108989     1\n",
              "821053    6307  115267     1\n",
              "822774    1348  116144    -1\n",
              "\n",
              "[107 rows x 3 columns]"
            ]
          },
          "execution_count": 21,
          "metadata": {},
          "output_type": "execute_result"
        }
      ],
      "source": [
        "test_df"
      ]
    },
    {
      "cell_type": "code",
      "execution_count": 22,
      "id": "OkWA6V5GO91U",
      "metadata": {
        "colab": {
          "base_uri": "https://localhost:8080/"
        },
        "id": "OkWA6V5GO91U",
        "outputId": "37d36c97-36ac-4f5c-c806-24709ebab8ec"
      },
      "outputs": [
        {
          "name": "stdout",
          "output_type": "stream",
          "text": [
            "Number of duplicates: 0\n"
          ]
        }
      ],
      "source": [
        "num_duplicates = test_df.duplicated().sum()\n",
        "print(\"Number of duplicates:\", num_duplicates)\n"
      ]
    },
    {
      "cell_type": "code",
      "execution_count": 23,
      "id": "451b9c43",
      "metadata": {
        "id": "451b9c43"
      },
      "outputs": [],
      "source": [
        "rows = train_df.loc[:, \"source\"].to_numpy()\n",
        "cols = train_df.loc[:, \"target\"].to_numpy()\n",
        "sign = train_df.loc[:, \"sign\"].to_numpy()"
      ]
    },
    {
      "cell_type": "code",
      "execution_count": 24,
      "id": "3ec1c649",
      "metadata": {
        "id": "3ec1c649"
      },
      "outputs": [],
      "source": [
        "p_rows = [rows[i] for i in range(len(rows)) if sign[i] == 1]\n",
        "p_cols = [cols[i] for i in range(len(cols)) if sign[i] == 1]\n",
        "p_data = np.ones(len(p_rows))\n",
        "\n",
        "n_rows = [rows[i] for i in range(len(rows)) if sign[i] == -1]\n",
        "n_cols = [cols[i] for i in range(len(cols)) if sign[i] == -1]\n",
        "n_data = np.ones(len(n_rows))"
      ]
    },
    {
      "cell_type": "code",
      "execution_count": 25,
      "id": "a53631fe",
      "metadata": {
        "id": "a53631fe"
      },
      "outputs": [],
      "source": [
        "nodes_no = nx.number_of_nodes(train_graph)\n",
        "edges_no = nx.number_of_edges(train_graph)"
      ]
    },
    {
      "cell_type": "code",
      "execution_count": 26,
      "id": "18644208",
      "metadata": {
        "id": "18644208",
        "scrolled": true
      },
      "outputs": [],
      "source": [
        "A_p = sc.sparse.csc_matrix((p_data, (p_rows, p_cols)), shape = (nodes_no , nodes_no))\n",
        "A_n = sc.sparse.csc_matrix((n_data, (n_rows, n_cols)), shape = (nodes_no , nodes_no))"
      ]
    },
    {
      "cell_type": "code",
      "execution_count": 27,
      "id": "4a961ac9",
      "metadata": {
        "colab": {
          "base_uri": "https://localhost:8080/"
        },
        "id": "4a961ac9",
        "outputId": "a029a1ef-8843-4881-a4eb-8c4bf792e384"
      },
      "outputs": [
        {
          "name": "stdout",
          "output_type": "stream",
          "text": [
            "(717581,)\n",
            "(123684,)\n"
          ]
        }
      ],
      "source": [
        "print(p_data.shape)\n",
        "print(n_data.shape)"
      ]
    },
    {
      "attachments": {},
      "cell_type": "markdown",
      "id": "0e56cf49",
      "metadata": {
        "id": "0e56cf49"
      },
      "source": [
        "# اینجاااااااااااااااااااااااااااااااااااااااااااااااااااااا"
      ]
    },
    {
      "cell_type": "code",
      "execution_count": 28,
      "id": "3603fa90",
      "metadata": {
        "id": "3603fa90"
      },
      "outputs": [],
      "source": [
        "def getNeighborsOfANode(graph, node):\n",
        "    x = []\n",
        "    for v in graph.nodes():\n",
        "        if ((v, node) in graph.edges()):\n",
        "            x.append(v)\n",
        "    return np.array(x)"
      ]
    },
    {
      "cell_type": "code",
      "execution_count": 29,
      "id": "d60c6603",
      "metadata": {
        "id": "d60c6603"
      },
      "outputs": [],
      "source": [
        "# def NodeswithoutInAndOutneighbors(G, sign_tag = 'sign'):\n",
        "#     nodes_no = nx.number_of_nodes(G)\n",
        "#     sign_map = nx.get_edge_attributes(G, sign_tag)\n",
        "#     n = 0\n",
        "#     for u in G.nodes():\n",
        "#         for v in G.nodes():\n",
        "#             #print(\"u: \", u, \", v: \", v)\n",
        "#             if (u != v):\n",
        "#                 u_neighbors = set(G.adj[u])\n",
        "#                 v_neighbors = set(G.adj[v])\n",
        "#                 uv_neighbors = list(u_neighbors.intersection(v_neighbors))\n",
        "#                 u_inneighbors = set(getNeighborsOfANode(G, u))\n",
        "#                 v_inneighbors = set(getNeighborsOfANode(G, v))\n",
        "#                 uv_inneighbors = list(u_inneighbors.intersection(v_inneighbors))\n",
        "#                 if (len(uv_neighbors) + len(uv_inneighbors)) == 0 and (u,v) in G.edges():\n",
        "#                     n = n+1\n",
        "#                     print(\"(u,v):\" , (u,v))\n",
        "#     return n"
      ]
    },
    {
      "cell_type": "code",
      "execution_count": 30,
      "id": "8f6898d1",
      "metadata": {
        "id": "8f6898d1"
      },
      "outputs": [],
      "source": [
        "#c = Cluster((A_p, A_n))"
      ]
    },
    {
      "cell_type": "code",
      "execution_count": 31,
      "id": "6e7b7ea4",
      "metadata": {
        "id": "6e7b7ea4"
      },
      "outputs": [],
      "source": [
        "def getClusters(G, k, A_p, A_n):\n",
        "    c = Cluster((A_p, A_n))\n",
        "    #spec_clus = c.spectral_cluster_adjacency(k = 5, normalisation = 'sym_sep', eigens = None, mi = None)\n",
        "    spec_clus = c.spectral_cluster_bnc(k = 5, normalisation='sym', eigens=None, mi=None)\n",
        "    clusters = []\n",
        "    for j in range(k):\n",
        "        clusters.append([i for i in G.nodes() if spec_clus[int(i - 1)] == j])\n",
        "    return np.array(clusters, dtype = np.ndarray)"
      ]
    },
    {
      "cell_type": "markdown",
      "id": "2d68e548",
      "metadata": {},
      "source": [
        "# imported code"
      ]
    },
    {
      "cell_type": "code",
      "execution_count": 32,
      "id": "e7be1143",
      "metadata": {},
      "outputs": [],
      "source": [
        "import os, sys, getopt, time, random\n",
        "from math import log\n",
        "import pulp as plp\n",
        "from scipy.optimize import linprog\n",
        "\n",
        "separator = '---------------'\n",
        "eps = 0.0000000001\n",
        "\n",
        "def _running_time_ms(start):\n",
        "\treturn int(round((time.time()-start)*1000))\n",
        "\n",
        "def _load(dataset_path,random_edgeweight_generation,edge_addition_prob):\n",
        "\twith open(dataset_path) as f:\n",
        "\t\ttot_min = 0\n",
        "\t\tid2vertex = {}\n",
        "\t\tvertex2id = {}\n",
        "\t\tedges = []\n",
        "\t\tgraph = {}\n",
        "\t\tvertex_id = 0\n",
        "\t\tfor line in f.readlines()[1:]:\n",
        "\t\t\ttokens = line.split()\n",
        "\t\t\tu = int(tokens[0])\n",
        "\t\t\tv = int(tokens[1])\n",
        "\t\t\tif random_edgeweight_generation:\n",
        "\t\t\t\twp = random.uniform(random_edgeweight_generation[0],random_edgeweight_generation[1])\n",
        "\t\t\t\twn = random.uniform(random_edgeweight_generation[0],random_edgeweight_generation[1])\n",
        "\t\t\telse:\n",
        "\t\t\t\twp = float(tokens[2])\n",
        "\t\t\t\twn = float(tokens[3])\n",
        "\t\t\t\t#wp = 1.0\n",
        "\t\t\t\t#wn = 0.0\n",
        "\t\t\tif wp != wn:\n",
        "\t\t\t\tif u not in vertex2id:\n",
        "\t\t\t\t\tvertex2id[u] = vertex_id\n",
        "\t\t\t\t\tid2vertex[vertex_id] = u\n",
        "\t\t\t\t\tvertex_id += 1\n",
        "\t\t\t\tif v not in vertex2id:\n",
        "\t\t\t\t\tvertex2id[v] = vertex_id\n",
        "\t\t\t\t\tid2vertex[vertex_id] = v\n",
        "\t\t\t\t\tvertex_id += 1\n",
        "\t\t\t\tuid = vertex2id[u]\n",
        "\t\t\t\tvid = vertex2id[v]\n",
        "\t\t\t\tif uid < vid:\n",
        "\t\t\t\t\tedges.append((uid,vid))\n",
        "\t\t\t\telse:\n",
        "\t\t\t\t\tedges.append((vid,uid))\n",
        "\t\t\t\tif uid not in graph.keys():\n",
        "\t\t\t\t\tgraph[uid] = {}\n",
        "\t\t\t\tif vid not in graph.keys():\n",
        "\t\t\t\t\tgraph[vid] = {}\n",
        "\t\t\t\tmin_pn = min(wp,wn)\n",
        "\t\t\t\ttot_min += min_pn\n",
        "\t\t\t\tgraph[uid][vid] = (wp-min_pn,wn-min_pn)\n",
        "\t\t\t\tgraph[vid][uid] = (wp-min_pn,wn-min_pn)\n",
        "\n",
        "\t\tif random_edgeweight_generation and edge_addition_prob > 0:\n",
        "\t\t\t#generate weights for non-existing edges (with probability 'edge_addition_prob')\n",
        "\t\t\tfor uid in graph.keys():\n",
        "\t\t\t\tfor vid in id2vertex.keys():\n",
        "\t\t\t\t\tif uid<vid and vid not in graph[u] and random.random()<=edge_addition_prob:\n",
        "\t\t\t\t\t\twp = random.uniform(random_edgeweight_generation[0],random_edgeweight_generation[1])\n",
        "\t\t\t\t\t\twn = random.uniform(random_edgeweight_generation[0],random_edgeweight_generation[1])\n",
        "\t\t\t\t\t\tmin_pn = min(wp,wn)\n",
        "\t\t\t\t\t\ttot_min += min_pn\n",
        "\t\t\t\t\t\tgraph[uid][vid] = (wp-min_pn,wn-min_pn)\n",
        "\t\t\t\t\t\tgraph[vid][uid] = (wp-min_pn,wn-min_pn)\n",
        "\t\t\t\t\t\tedges.append((uid,vid))\n",
        "\n",
        "\t\treturn (id2vertex,vertex2id,edges,graph,tot_min)\n",
        "\n",
        "def _read_params():\n",
        "\tdataset_file = None\n",
        "\trandom_edgeweight_generation = None\n",
        "\tsolver = 'scipy'\n",
        "\talgorithm = 'charikar'\n",
        "\tedge_addition_prob = -1\n",
        "\tshort_params = 'd:r:s:a:m:'\n",
        "\tlong_params = ['dataset=','random=','solver=','addedges=','method=']\n",
        "\ttry:\n",
        "\t\targuments, values = getopt.getopt(sys.argv[1:], short_params, long_params)\n",
        "\texcept getopt.error as err:\n",
        "\t\tprint('ologncc.py -d <dataset_file> [-r <rnd_edge_weight_LB,rnd_edge_weight_UB>] [-a <edge_addition_probability>] [-s <solver>] [-m <algorithm>]')\n",
        "\t\tsys.exit(2)\n",
        "\tfor arg, value in arguments:\n",
        "\t\tif arg in ('-d', '--dataset'):\n",
        "\t\t\tdataset_file = value\n",
        "\t\telif arg in ('-r', '--random'):\n",
        "\t\t\trandom_edgeweight_generation = [float(x) for x in value.split(',')]\n",
        "\t\telif arg in ('-s', '--solver'):\n",
        "\t\t\tsolver = value.lower()\n",
        "\t\telif arg in ('-a', '--addedges'):\n",
        "\t\t\tedge_addition_prob = float(value)\n",
        "\t\telif arg in ('-m', '--method'):\n",
        "\t\t\talgorithm = value.lower()\n",
        "\treturn (dataset_file,random_edgeweight_generation,edge_addition_prob,solver,algorithm)\n",
        "\n",
        "def _map_cluster(cluster,id2vertex):\n",
        "\treturn {id2vertex[u] for u in cluster}\n",
        "\n",
        "def _vertex_pair_id(i,j,n):\n",
        "\tif i == j:\n",
        "\t\traise Exception('ERROR: i and j must be different')\n",
        "\tlb = min(i,j)\n",
        "\tub = max(i,j)\n",
        "\treturn int(lb*n-(lb*(lb+1)/2))+ub-lb-1\n",
        "\n",
        "def _vertex_pair_ids(n):\n",
        "\tid2vertexpair = {}\n",
        "\tid = 0\n",
        "\tfor i in range(n-1):\n",
        "\t\tfor j in range(i+1,n):\n",
        "\t\t\tid2vertexpair[id] = (i,j)\n",
        "\t\t\tid += 1\n",
        "\treturn id2vertexpair\n",
        "\n",
        "def _linear_program_scipy(num_vertices,edges,graph):\n",
        "\tvertex_pairs = int(num_vertices*(num_vertices-1)/2)\n",
        "\tA = []\n",
        "\t\"\"\"\n",
        "\t#old way of generating triangle-inequality constraints (deprecated as more elaborated and confusing, though still correct)\n",
        "\tfor i in range(num_vertices-2):\n",
        "\t\tfor j in range(i+1,num_vertices-1):\n",
        "\t\t\tfor k in range(j+1,num_vertices):\n",
        "\t\t\t\tik = _vertex_pair_id(i,k,num_vertices)\n",
        "\t\t\t\tij = _vertex_pair_id(i,j,num_vertices)\n",
        "\t\t\t\tjk = _vertex_pair_id(j,k,num_vertices)\n",
        "\t\t\t\t#for all i,j,k, 3 triangle-inequality constraints should be stated:\n",
        "\t\t\t\t#First triangle-inequality constraint: xik <= xij + xjk <=> xik - xij - xjk = 0\n",
        "\t\t\t\ta = [0]*vertex_pairs\n",
        "\t\t\t\ta[ik] = 1\n",
        "\t\t\t\ta[ij] = -1\n",
        "\t\t\t\ta[jk] = -1\n",
        "\t\t\t\tA.append(a)\n",
        "\t\t\t\t#Second triangle-inequality constraint: xij <= xik + xjk <=> xij - xik - xjk = 0\n",
        "\t\t\t\ta = [0]*vertex_pairs\n",
        "\t\t\t\ta[ij] = 1\n",
        "\t\t\t\ta[ik] = -1\n",
        "\t\t\t\ta[jk] = -1\n",
        "\t\t\t\tA.append(a)\n",
        "\t\t\t\t#Third triangle-inequality constraint: xjk <= xij + xik <=> xjk - xij - xik = 0\n",
        "\t\t\t\ta = [0]*vertex_pairs\n",
        "\t\t\t\ta[jk] = 1\n",
        "\t\t\t\ta[ij] = -1\n",
        "\t\t\t\ta[ik] = -1\n",
        "\t\t\t\tA.append(a)\n",
        "\t\"\"\"\n",
        "\tfor i in range(num_vertices-1):\n",
        "\t\tfor j in range(i+1,num_vertices):\n",
        "\t\t\tij = _vertex_pair_id(i,j,num_vertices)\n",
        "\t\t\tfor k in range(num_vertices):\n",
        "\t\t\t\tif k != i and k != j:\n",
        "\t\t\t\t\tik = _vertex_pair_id(i,k,num_vertices)\n",
        "\t\t\t\t\tkj = _vertex_pair_id(k,j,num_vertices)\n",
        "\t\t\t\t\t#for all vertex pairs {i,j} and all vertices k \\notin {i,j}, state the following triangle-inequality constraint:\n",
        "\t\t\t\t\t# xij <= xik + xkj <=> xij - xik - xkj = 0\n",
        "\t\t\t\t\ta = [0]*vertex_pairs\n",
        "\t\t\t\t\ta[ij] = 1\n",
        "\t\t\t\t\ta[ik] = -1\n",
        "\t\t\t\t\ta[kj] = -1\n",
        "\t\t\t\t\tA.append(a)\n",
        "\tb = [0]*len(A)\n",
        "\tc = [0]*vertex_pairs\n",
        "\tfor (u,v) in edges:\n",
        "\t\tuv = _vertex_pair_id(u,v,num_vertices)\n",
        "\t\t(wp,wn) = graph[u][v]\n",
        "\t\tif wp != wn:\n",
        "\t\t\tif wp < wn: #(u,v) \\in E^-\n",
        "\t\t\t\tc[uv] = -(wn-wp)\n",
        "\t\t\telse: #(u,v) \\in E^+\n",
        "\t\t\t\tc[uv] = (wp-wn)\n",
        "\treturn (A,b,c)\n",
        "\n",
        "def _solve_lp_scipy(A,b,c):\n",
        "\t#notes on supported solvers (see https://docs.scipy.org/doc/scipy/reference/generated/scipy.optimize.linprog.html)\n",
        "\t#Method ‘highs-ds’ is a wrapper of the C++ high performance dual revised simplex implementation (HSOL) [13], [14].\n",
        "\t#Method ‘highs-ipm’ is a wrapper of a C++ implementation of an interior-point method [13];\n",
        "\t#it features a crossover routine, so it is as accurate as a simplex solver.\n",
        "\t#Method ‘highs’ chooses between the two automatically.\n",
        "\t#For new code involving linprog, we recommend explicitly choosing one of these three method values\n",
        "\t#instead of ‘interior-point’ (default), ‘revised simplex’, and ‘simplex’ (legacy).\n",
        "\t#lp_solution = linprog(c, A_ub=A, b_ub=b, bounds=[(0,1)])\n",
        "\t#lp_solution = linprog(c, A_ub=A, b_ub=b, bounds=[(0,1)], method='simplex')\n",
        "\tlp_solution = linprog(c, A_ub=A, b_ub=b, bounds=[(0,1)], method='highs-ipm')\n",
        "\t#lp_solution = linprog(c, A_ub=A, b_ub=b, bounds=[(0,1)], method='highs')\n",
        "\tlp_var_assignment = lp_solution['x']\n",
        "\tobj_value = lp_solution['fun']\n",
        "\tfor i in range(len(lp_var_assignment)):\n",
        "\t\tif lp_var_assignment[i] < 0:\n",
        "\t\t\tlp_var_assignment[i] = 0\n",
        "\t\telif lp_var_assignment[i] > 1:\n",
        "\t\t\tlp_var_assignment[i] = 1\n",
        "\treturn (lp_var_assignment,obj_value)\n",
        "\n",
        "def _linear_program_pulp(num_vertices,edges,graph):\n",
        "\t#see https://medium.com/opex-analytics/optimization-modeling-in-python-pulp-gurobi-and-cplex-83a62129807a\n",
        "\topt_model = plp.LpProblem(name='GeneralWeightedCC')\n",
        "\tvertex_pairs = int(num_vertices*(num_vertices-1)/2)\n",
        "\n",
        "\tx_vars  = {i: plp.LpVariable(cat=plp.LpContinuous, lowBound=0, upBound=1, name='x_{0}'.format(i)) for i in range(vertex_pairs)}\n",
        "\n",
        "\tc_count = 0\n",
        "\tconstraints = {}\n",
        "\t\"\"\"\n",
        "\t#old way of generating triangle-inequality constraints (deprecated as more elaborated and confusing, though still correct)\n",
        "\tfor i in range(num_vertices-2):\n",
        "\t\tfor j in range(i+1,num_vertices-1):\n",
        "\t\t\tfor k in range(j+1,num_vertices):\n",
        "\t\t\t\tik = _vertex_pair_id(i,k,num_vertices)\n",
        "\t\t\t\tij = _vertex_pair_id(i,j,num_vertices)\n",
        "\t\t\t\tjk = _vertex_pair_id(j,k,num_vertices)\n",
        "\t\t\t\t#for all i,j,k, 3 triangle-inequality constraints should be stated:\n",
        "\t\t\t\texpr1 = plp.LpAffineExpression([(x_vars[ik],1), (x_vars[ij],-1), (x_vars[jk],-1)])#First triangle-inequality constraint: xik <= xij + xjk <=> xik - xij - xjk = 0\n",
        "\t\t\t\texpr2 = plp.LpAffineExpression([(x_vars[ij],1), (x_vars[ik],-1), (x_vars[jk],-1)])#Second triangle-inequality constraint: xij <= xik + xjk <=> xij - xik - xjk = 0\n",
        "\t\t\t\texpr3 = plp.LpAffineExpression([(x_vars[jk],1), (x_vars[ij],-1), (x_vars[ik],-1)])#Third triangle-inequality constraint: xjk <= xij + xik <=> xjk - xij - xik = 0\n",
        "\t\t\t\tfor expr in [expr1,expr2,expr3]:\n",
        "\t\t\t\t\tconstraints[c_count] = opt_model.addConstraint(plp.LpConstraint(e=expr,sense=plp.LpConstraintLE,rhs=0,name='constraint_{0}'.format(c_count)))\n",
        "\t\t\t\t\tc_count += 1\n",
        "\t\"\"\"\n",
        "\tfor i in range(num_vertices-1):\n",
        "\t\tfor j in range(i+1,num_vertices):\n",
        "\t\t\tij = _vertex_pair_id(i,j,num_vertices)\n",
        "\t\t\tfor k in range(num_vertices):\n",
        "\t\t\t\tif k != i and k != j:\n",
        "\t\t\t\t\tik = _vertex_pair_id(i,k,num_vertices)\n",
        "\t\t\t\t\tkj = _vertex_pair_id(k,j,num_vertices)\n",
        "\t\t\t\t\t#for all vertex pairs {i,j} and all vertices k \\notin {i,j}, state the following triangle-inequality constraint:\n",
        "\t\t\t\t\t# xij <= xik + xkj <=> xij - xik - xkj = 0\n",
        "\t\t\t\t\texpr = plp.LpAffineExpression([(x_vars[ij],1), (x_vars[ik],-1), (x_vars[kj],-1)])\n",
        "\t\t\t\t\tconstraint = plp.LpConstraint(e=expr,sense=plp.LpConstraintLE,rhs=0,name='constraint_{0}'.format(c_count))\n",
        "\t\t\t\t\tconstraints[c_count] = constraint\n",
        "\t\t\t\t\topt_model.addConstraint(constraint)\n",
        "\t\t\t\t\tc_count += 1\n",
        "\n",
        "\tobj_expr = []\n",
        "\tfor (u,v) in edges:\n",
        "\t\tuv = _vertex_pair_id(u,v,num_vertices)\n",
        "\t\t(wp,wn) = graph[u][v]\n",
        "\t\tif wp != wn:\n",
        "\t\t\tif wp < wn: #(u,v) \\in E^-\n",
        "\t\t\t\tobj_expr.append(-(wn-wp)*x_vars[uv])\n",
        "\t\t\telse: #(u,v) \\in E^+\n",
        "\t\t\t\tobj_expr.append((wp-wn)*x_vars[uv])\n",
        "\tobjective = plp.lpSum(obj_expr)\n",
        "\n",
        "\topt_model.sense = plp.LpMinimize\n",
        "\topt_model.setObjective(objective)\n",
        "\n",
        "\t\"\"\"\n",
        "\t#######################\n",
        "\t#######################\n",
        "\t#######################\n",
        "\t## DEBUG:\n",
        "\t(A,b,c) = _linear_program_scipy(num_vertices,edges,graph)\n",
        "\tcheckA = _check_constraint_correspondence(A,constraints)\n",
        "\tif not checkA:\n",
        "\t\traise Exception('No constraint correspondence')\n",
        "\n",
        "\tcheckc = _check_objective_correspondence(c,objective)\n",
        "\tif not checkc:\n",
        "\t\traise Exception('No objective correspondence')\n",
        "\t#######################\n",
        "\t#######################\n",
        "\t#######################\n",
        "\t\"\"\"\n",
        "\n",
        "\treturn opt_model\n",
        "\n",
        "def _solve_lp_pulp(model):\n",
        "\t#model.solve()\n",
        "\t#model.solve(solver=plp.PULP_CBC_CMD(fracGap=0.00001))\n",
        "\tmodel.solve(solver=plp.PULP_CBC_CMD(msg=False))\n",
        "\t#lp_var_assignment = [x.varValue for x in model.variables()]\n",
        "\tlp_var_assignment = [0]*len(model.variables())\n",
        "\tfor var in model.variables():\n",
        "\t\tvarname = var.name\n",
        "\t\tvarindex = int(varname.split('_')[1])\n",
        "\t\tlp_var_assignment[varindex] = var.varValue\n",
        "\tobj_value = model.objective.value()\n",
        "\tfor i in range(len(lp_var_assignment)):\n",
        "\t\tif lp_var_assignment[i] < 0:\n",
        "\t\t\tlp_var_assignment[i] = 0\n",
        "\t\telif lp_var_assignment[i] > 1:\n",
        "\t\t\tlp_var_assignment[i] = 1\n",
        "\treturn (lp_var_assignment,obj_value)\n",
        "\n",
        "def _sorted_distances(u,valid_vertices,num_vertices,x):\n",
        "\tdu = []\n",
        "\tfor v in valid_vertices:\n",
        "\t\tif v != u:\n",
        "\t\t\tdu.append((v,x[_vertex_pair_id(u,v,num_vertices)]))\n",
        "\treturn sorted(du,key=lambda f: f[1])\n",
        "\n",
        "def _cut(ball,valid_vertices,graph):\n",
        "\tcut = 0\n",
        "\tfor u in ball:\n",
        "\t\tif u in graph:\n",
        "\t\t\tfor v in graph[u]:\n",
        "\t\t\t\tif v in valid_vertices and v not in ball:\n",
        "\t\t\t\t\tcut += graph[u][v][0]\n",
        "\treturn cut\n",
        "\n",
        "def _incremental_cut(old_ball,new_ball_vertices,valid_vertices,graph):\n",
        "\tincr_cut = 0\n",
        "\tfor u in new_ball_vertices:\n",
        "\t\tif u in graph:\n",
        "\t\t\tfor v in graph[u]:\n",
        "\t\t\t\tif v in valid_vertices:\n",
        "\t\t\t\t\tif v in old_ball:\n",
        "\t\t\t\t\t\tincr_cut -= graph[u][v][0]\n",
        "\t\t\t\t\telif v not in new_ball_vertices:\n",
        "\t\t\t\t\t\tincr_cut += graph[u][v][0]\n",
        "\treturn incr_cut\n",
        "\n",
        "# need to pass the ball center ('u' in the paper) in order to properly compute the fractional weighted distance of positive edges leaving the ball\n",
        "def _vol(ball_center,ball,valid_vertices,graph,num_vertices,x,r):\n",
        "\tvol = 0\n",
        "\tfor v in ball:\n",
        "\t\tif v in graph:\n",
        "\t\t\txuv = 0 if v==ball_center else x[_vertex_pair_id(ball_center,v,num_vertices)]\n",
        "\t\t\t#print('u: %d, v: %d, xuv: %s' %(ball_center,v,xuv))\n",
        "\t\t\tfor w in graph[v]:\n",
        "\t\t\t\tif w in valid_vertices:\n",
        "\t\t\t\t\tidvw = _vertex_pair_id(v,w,num_vertices)\n",
        "\t\t\t\t\txvw = x[idvw]\n",
        "\t\t\t\t\tif w in ball:\n",
        "\t\t\t\t\t\tif v<w: #check not to consider xvw two times\n",
        "\t\t\t\t\t\t\tvol += xvw*graph[v][w][0]\n",
        "\t\t\t\t\telse:\n",
        "\t\t\t\t\t\tif r < xuv:\n",
        "\t\t\t\t\t\t\traise Exception('ERROR: radius cannot be less than the distance between the ball center and any vertex in the ball---r: %s, xuv: %s' %(r,xuv))\n",
        "\t\t\t\t\t\tvol += (r-xuv)*graph[v][w][0]\n",
        "\treturn vol\n",
        "\n",
        "#'F' in the paper\n",
        "def _vol_whole_graph(graph,num_vertices,x):\n",
        "\tvol = 0\n",
        "\tfor u in graph.keys():\n",
        "\t\tfor v in graph[u]:\n",
        "\t\t\tif u < v: #check not to consider xuv two times\n",
        "\t\t\t\txuv = x[_vertex_pair_id(u,v,num_vertices)]\n",
        "\t\t\t\tcuv = graph[u][v][0]\n",
        "\t\t\t\tvol += xuv*cuv\n",
        "\treturn vol\n",
        "\n",
        "#rounding algorithm proposed in Demaine et al., \"Correlation clustering in general weighted graphs\", TCS 2006\n",
        "def round_demaine(x,id2vertexpair,id2vertex,edges,graph,const):\n",
        "\tclusters = []\n",
        "\tn = len(id2vertex)\n",
        "\tremaining_vertices = set(id2vertex.keys())\n",
        "\tshuffled_vertices = list(id2vertex.keys())\n",
        "\trandom.shuffle(shuffled_vertices)\n",
        "\tF = _vol_whole_graph(graph,n,x)\n",
        "\n",
        "\tfor u in shuffled_vertices:\n",
        "\t\tif u in remaining_vertices:\n",
        "\t\t\tdu = _sorted_distances(u,remaining_vertices,n,x)\n",
        "\t\t\tinitial_vol = F/n #default initial volume of a ball; while it is defined in the paper, it is just a technicality; the herein implementation allows for avoiding it\n",
        "\n",
        "\t\t\t#initial ball is composed of all vertices at distance 0 from u\n",
        "\t\t\tball = {u}\n",
        "\t\t\ti = 0\n",
        "\t\t\twhile i<len(du) and du[i][1]==0:\n",
        "\t\t\t\ti += 1\n",
        "\t\t\tfor (v,d) in du[0:i]:\n",
        "\t\t\t\tball.add(v)\n",
        "\t\t\tcut = _cut(ball,remaining_vertices,graph)\n",
        "\t\t\t#vol = initial_vol + _vol(u,ball,remaining_vertices,graph,n,x,1/const)\n",
        "\t\t\tdu = du[i:]\n",
        "\n",
        "\t\t\twhile du:\n",
        "\t\t\t\tr = min(1/const,du[0][1]) #du[0][1]: minimum distance in du\n",
        "\t\t\t\ti = 0\n",
        "\t\t\t\twhile i<len(du) and du[i][1]<=r:\n",
        "\t\t\t\t\ti += 1\n",
        "\t\t\t\tnew_ball_vertices = {v for (v,d) in du[0:i]}\n",
        "\t\t\t\tif new_ball_vertices:\n",
        "\t\t\t\t\t#'cut', 'ball', and 'du' are updated only if new ball vertices have been found\n",
        "\t\t\t\t\tcut += _incremental_cut(ball,new_ball_vertices,remaining_vertices,graph) #cut can be computed incrementally\n",
        "\t\t\t\t\tball.update(new_ball_vertices)\n",
        "\t\t\t\t\tdu = du[i:]\n",
        "\t\t\t\t#'vol' is updated anyway, as 'r' may have changed\n",
        "\t\t\t\t#it is not convenient to compute 'vol' incrementally as r changes in every iteration, so the vertices in the current ball must be all visited again anyway\n",
        "\t\t\t\tvol = initial_vol + _vol(u,ball,remaining_vertices,graph,n,x,r)\n",
        "\n",
        "\t\t\t\tif not new_ball_vertices or cut <= const*log(n+1)*vol: #'log' returns natural logarithm\n",
        "\t\t\t\t\tif not new_ball_vertices and cut > const*log(n+1)*vol:\n",
        "\t\t\t\t\t\t#raise Exception('ERROR: the condition \\'cut<=const*log(n+1)*vol\\' is not achieved for any r<1/c---lhs: %s, rhs: %s' %(cut,const*log(n+1)*vol))\n",
        "\t\t\t\t\t\tprint('WARNING: the condition \\'cut<=const*log(n+1)*vol\\' is not achieved for any r<1/c---lhs: %s, rhs: %s' %(cut,const*log(n+1)*vol))\n",
        "\t\t\t\t\tbreak\n",
        "\t\t\t\t\"\"\"\n",
        "\t\t\t\t#######################\n",
        "\t\t\t\t#######################\n",
        "\t\t\t\t#######################\n",
        "\t\t\t\t## DEBUG:\n",
        "\t\t\t\tincr_cut = _incremental_cut(ball,new_ball_vertices,remaining_vertices,graph)\n",
        "\t\t\t\tcut_check = _cut(ball,remaining_vertices,graph)\n",
        "\t\t\t\t#cut = cut_check\n",
        "\t\t\t\ttolerance = 0.0000000001\n",
        "\t\t\t\tif abs(cut-cut_check) > tolerance:\n",
        "\t\t\t\t\tprint('ERROR! cut incremental: %s, cut from scratch: %s' %(str(cut),str(cut_check)))\n",
        "\t\t\t\t\tsys.exit()\n",
        "\t\t\t\t#######################\n",
        "\t\t\t\t#######################\n",
        "\t\t\t\t#######################\n",
        "\t\t\t\t\"\"\"\n",
        "\t\t\tclusters.append(ball)\n",
        "\t\t\tfor v in ball:\n",
        "\t\t\t\tremaining_vertices.remove(v)\n",
        "\treturn clusters\n",
        "\n",
        "#rounding algorithm proposed in Charikar et al., \"Clustering with Qualitative Information\", JCSS 2005\n",
        "def round_charikar(x,id2vertexpair,id2vertex,edges,graph,lp_cost):\n",
        "\tclusters = []\n",
        "\tn = len(id2vertex)\n",
        "\tremaining_vertices = set(id2vertex.keys())\n",
        "\tshuffled_pairs = [id2vertexpair[h] for h in range(len(x)) if x[h]>2/3]\n",
        "\trandom.shuffle(shuffled_pairs)\n",
        "\t#r = 1/3 - eps\n",
        "\n",
        "\tfor (i,j) in shuffled_pairs:\n",
        "\t\tif i in remaining_vertices and j in remaining_vertices:\n",
        "\t\t\tball = {i}\n",
        "\t\t\tr = _best_radius_charikar(i,x,remaining_vertices,n,graph,lp_cost)\n",
        "\t\t\tfor k in remaining_vertices:\n",
        "\t\t\t\tif k!=i and x[_vertex_pair_id(i,k,n)]<=r:\n",
        "\t\t\t\t\tball.add(k)\n",
        "\t\t\tclusters.append(ball)\n",
        "\t\t\tfor k in ball:\n",
        "\t\t\t\tremaining_vertices.remove(k)\n",
        "\tfor i in remaining_vertices:\n",
        "\t\tclusters.append({i})\n",
        "\n",
        "\treturn clusters\n",
        "\n",
        "def _best_radius_charikar(ball_center,x,valid_vertices,n,graph,lp_cost):\n",
        "\td = _sorted_distances(ball_center,valid_vertices,n,x)\n",
        "\tr = 1/3 - eps\n",
        "\n",
        "\ti = 0\n",
        "\twhile i<len(d) and d[i][1]<1/3:\n",
        "\t\ti += 1\n",
        "\td = d[0:i]\n",
        "\n",
        "\tif d:\n",
        "\t\tr = 0\n",
        "\t\tball = {ball_center}\n",
        "\t\tcut = _cut(ball,valid_vertices,graph)\n",
        "\t\tvol = lp_cost/n + _vol(ball_center,ball,valid_vertices,graph,n,x,r)\n",
        "\t\tbest_ratio = float('inf') if vol==0 else cut/vol\n",
        "\t\twhile d:\n",
        "\t\t\tnew_r = d[0][1] #d[0][1]: minimum distance in d\n",
        "\t\t\ti = 0\n",
        "\t\t\twhile i<len(d) and d[i][1]<=new_r:\n",
        "\t\t\t\ti += 1\n",
        "\t\t\tnew_ball_vertices = {v for (v,d) in d[0:i]}\n",
        "\t\t\tcut += _incremental_cut(ball,new_ball_vertices,valid_vertices,graph) #cut can be computed incrementally\n",
        "\t\t\tball.update(new_ball_vertices)\n",
        "\t\t\tvol = lp_cost/n + _vol(ball_center,ball,valid_vertices,graph,n,x,new_r)\n",
        "\t\t\tratio = float('inf') if vol==0 else cut/vol\n",
        "\t\t\tif ratio<best_ratio:\n",
        "\t\t\t\tbest_ratio = ratio\n",
        "\t\t\t\tr = new_r\n",
        "\t\t\td = d[i:]\n",
        "\treturn r\n",
        "\n",
        "#well-established randomized, linear-time algorithm for correlation clustering, achiving constant-factor approximation guarantees on complete graphs\n",
        "#see Ailon et al., \"Aggregating inconsistent informa- tion: Ranking and clustering\", JACM 2008\n",
        "def kwikcluster(id2vertex,graph):\n",
        "\tclusters = []\n",
        "\tn = len(id2vertex)\n",
        "\tremaining_vertices = set(id2vertex.keys())\n",
        "\tshuffled_vertices = list(id2vertex.keys())\n",
        "\trandom.shuffle(shuffled_vertices)\n",
        "\n",
        "\tfor u in shuffled_vertices:\n",
        "\t\tif u in remaining_vertices:\n",
        "\t\t\tcluster = {u}\n",
        "\t\t\tif u in graph:\n",
        "\t\t\t\tfor v in graph[u]:\n",
        "\t\t\t\t\tif v in remaining_vertices:\n",
        "\t\t\t\t\t\t(wp,wn) = graph[u][v]\n",
        "\t\t\t\t\t\tif wp > wn:\n",
        "\t\t\t\t\t\t\tcluster.add(v)\n",
        "\t\t\tclusters.append(cluster)\n",
        "\t\t\tfor v in cluster:\n",
        "\t\t\t\tremaining_vertices.remove(v)\n",
        "\n",
        "\treturn clusters\n",
        "\n",
        "def _CC_cost(clustering,graph):\n",
        "\tcost = 0\n",
        "\tvertex2cluster = {}\n",
        "\tcid = 0\n",
        "\tfor cluster in clustering:\n",
        "\t\tfor u in cluster:\n",
        "\t\t\tvertex2cluster[u] = cid\n",
        "\t\tcid += 1\n",
        "\tfor u in graph.keys():\n",
        "\t\tfor v in graph[u]:\n",
        "\t\t\tif u<v:\n",
        "\t\t\t\t(wp,wn) = graph[u][v]\n",
        "\t\t\t\tif vertex2cluster[u] == vertex2cluster[v]:\n",
        "\t\t\t\t\tcost += wn\n",
        "\t\t\t\telse:\n",
        "\t\t\t\t\tcost += wp\n",
        "\treturn cost\n",
        "\n",
        "def _lp_solution_cost(lp_var_assignment,graph,num_vertices):\n",
        "\tcost = 0\n",
        "\tfor u in graph.keys():\n",
        "\t\tfor v in graph[u]:\n",
        "\t\t\tif u<v:\n",
        "\t\t\t\txuv = lp_var_assignment[_vertex_pair_id(u,v,num_vertices)]\n",
        "\t\t\t\t(wp,wn) = graph[u][v]\n",
        "\t\t\t\tif wp>wn:\n",
        "\t\t\t\t\tcost += wp*xuv\n",
        "\t\t\t\telse:\n",
        "\t\t\t\t\tcost += wn*(1-xuv)\n",
        "\treturn cost\n",
        "\n",
        "def _all_edgeweights_sum(graph):\n",
        "\tsum = 0\n",
        "\tfor u in graph.keys():\n",
        "\t\tfor v in graph[u]:\n",
        "\t\t\tif u<v:\n",
        "\t\t\t\t(wp,wn) = graph[u][v]\n",
        "\t\t\t\tsum += wp\n",
        "\t\t\t\tsum += wn\n",
        "\treturn sum\n",
        "\n",
        "def _all_negativeedgeweight_sum(graph):\n",
        "\tsum = 0\n",
        "\tfor u in graph.keys():\n",
        "\t\tfor v in graph[u]:\n",
        "\t\t\tif u<v:\n",
        "\t\t\t\t(wp,wn) = graph[u][v]\n",
        "\t\t\t\tif wn>wp:\n",
        "\t\t\t\t\tsum += wn\n",
        "\treturn sum\n",
        "\n",
        "def _max_edgeweight_gap(graph):\n",
        "\tmaxgap = 0\n",
        "\tfor u in graph.keys():\n",
        "\t\tfor v in graph[u]:\n",
        "\t\t\tif u<v:\n",
        "\t\t\t\t(wp,wn) = graph[u][v]\n",
        "\t\t\t\tmaxgap = max(maxgap,abs(wp-wn))\n",
        "\treturn maxgap\n",
        "\n",
        "#for DEBUG\n",
        "def _check_constraint_correspondence(A,c_dict):\n",
        "\tif len(A) != len(c_dict):\n",
        "\t\treturn False\n",
        "\n",
        "\tfor i in range(len(A)):\n",
        "\t\tv = A[i]\n",
        "\t\tposA = [j for j in range(len(v)) if v[j] == 1]\n",
        "\t\tif len(posA) != 1:\n",
        "\t\t\traise Exception('Malformed constraint on \\'A\\'')\n",
        "\t\tnegA = [j for j in range(len(v)) if v[j] == -1]\n",
        "\t\tif len(negA) != 2:\n",
        "\t\t\traise Exception('Malformed constraint on \\'A\\'')\n",
        "\n",
        "\t\tc = c_dict[i]\n",
        "\t\tcs = str(c)[:-5].replace('- ','-').replace('+ ','')\n",
        "\t\tmonomials = cs.split()\n",
        "\t\t#print(monomials)\n",
        "\t\t#print(cs)\n",
        "\t\tposc = [int(s.split('_')[1]) for s in monomials if s[0] != '-']\n",
        "\t\tif len(posc) != 1:\n",
        "\t\t\tprint(i)\n",
        "\t\t\tprint('Malformed constraint on \\'c\\'---c: ' + str(c))\n",
        "\t\t\traise Exception('Malformed constraint on \\'c\\'---c: ' + str(c))\n",
        "\t\tnegc = [int(s.split('_')[1]) for s in monomials if s[0] == '-']\n",
        "\t\tif len(negc) != 2:\n",
        "\t\t\tprint(i)\n",
        "\t\t\tprint(negc)\n",
        "\t\t\tprint('Malformed constraint on \\'c\\'---c: ' + str(c))\n",
        "\t\t\traise Exception('Malformed constraint on \\'c\\'---c: ' + str(c))\n",
        "\n",
        "\t\tif posA[0] != posc[0] or set(negA) != set(negc):\n",
        "\t\t\treturn False\n",
        "\n",
        "\treturn True\n",
        "\n",
        "#for DEBUG\n",
        "def _check_objective_correspondence(c,objective):\n",
        "\tobjective_tokens = str(objective).replace('- ','-').replace('+ ','+').split()\n",
        "\tmonomials = {}\n",
        "\tfor s in objective_tokens:\n",
        "\t\ts_tokens = s.split('*')\n",
        "\t\tcoeff = float(s_tokens[0])\n",
        "\t\tvar_index = int(s_tokens[1].split('_')[1])\n",
        "\t\tmonomials[var_index] = coeff\n",
        "\n",
        "\tfor i in range(len(c)):\n",
        "\t\tif c[i] == 0 and i in monomials.keys() and monomials[i] != 0:\n",
        "\t\t\treturn False\n",
        "\t\tif c[i] != 0 and (i not in monomials.keys() or monomials[i] != c[i]):\n",
        "\t\t\treturn False\n",
        "\n",
        "\treturn True\n",
        "\n",
        "#for DEBUG\n",
        "def _check_clustering(clustering,num_vertices):\n",
        "\tvertex2cluster = {}\n",
        "\tcid = 0\n",
        "\tfor cluster in clustering:\n",
        "\t\tfor u in cluster:\n",
        "\t\t\tif u not in vertex2cluster:\n",
        "\t\t\t\tvertex2cluster[u] = set()\n",
        "\t\t\tvertex2cluster[u].add(cid)\n",
        "\t\tcid += 1\n",
        "\n",
        "\tfor u in range(num_vertices):\n",
        "\t\tif u not in vertex2cluster or len(vertex2cluster[u]) != 1:\n",
        "\t\t\treturn False\n",
        "\n",
        "\treturn True"
      ]
    },
    {
      "cell_type": "code",
      "execution_count": 36,
      "id": "e91a18ea",
      "metadata": {},
      "outputs": [
        {
          "name": "stdout",
          "output_type": "stream",
          "text": [
            "---------------\n",
            "Loading dataset 'Datasets\\soc.tsv'...\n",
            "Dataset successfully loaded in 6645 ms\n",
            "#vertices: 131828\n",
            "#edges: 841265\n",
            "#vertex pairs: 8689244878\n",
            "#vertex triples: 381822798429076\n",
            "Global condition (without tot_min): 8.184025309270378e-05 >= 1.0 ?\n",
            "Global condition (including tot_min): 8.184025309270378e-05 >= 1.0 ?\n",
            "Solver: scipy\n",
            "---------------\n",
            "CC cost of 'whole graph in one cluster' solution: 120725.0 (tot_min: 0.0, cost-tot_min: 120725.0)\n",
            "CC cost of 'all singletons' solution: 590405.0 (tot_min: 0.0, cost-tot_min: 590405.0)\n",
            "---------------\n",
            "Running KwikCluster algorithm...\n",
            "KwikCluster algorithm successfully executed in 12257 ms\n",
            "CC cost of KwikCluster's output clustering: 524044.0 (tot_min: 0.0, cost-tot_min: 524044.0)\n",
            "KwikCluster's output clustering:\n",
            "Cluster 1: [109098]\n",
            "---------------\n",
            "O(log n)-approximation algorithm - Building linear program (solver: scipy)...\n"
          ]
        },
        {
          "ename": "MemoryError",
          "evalue": "",
          "output_type": "error",
          "traceback": [
            "\u001b[1;31m---------------------------------------------------------------------------\u001b[0m",
            "\u001b[1;31mMemoryError\u001b[0m                               Traceback (most recent call last)",
            "\u001b[1;32m<ipython-input-36-1dfdab0995bb>\u001b[0m in \u001b[0;36m<module>\u001b[1;34m\u001b[0m\n\u001b[0;32m     60\u001b[0m                 \u001b[0mprint\u001b[0m\u001b[1;33m(\u001b[0m\u001b[1;34m'O(log n)-approximation algorithm - Building linear program (solver: %s)...'\u001b[0m \u001b[1;33m%\u001b[0m\u001b[1;33m(\u001b[0m\u001b[0msolver\u001b[0m\u001b[1;33m)\u001b[0m\u001b[1;33m)\u001b[0m\u001b[1;33m\u001b[0m\u001b[1;33m\u001b[0m\u001b[0m\n\u001b[0;32m     61\u001b[0m                 \u001b[0mstart\u001b[0m \u001b[1;33m=\u001b[0m \u001b[0mtime\u001b[0m\u001b[1;33m.\u001b[0m\u001b[0mtime\u001b[0m\u001b[1;33m(\u001b[0m\u001b[1;33m)\u001b[0m\u001b[1;33m\u001b[0m\u001b[1;33m\u001b[0m\u001b[0m\n\u001b[1;32m---> 62\u001b[1;33m                 \u001b[0mid2vertexpair\u001b[0m \u001b[1;33m=\u001b[0m \u001b[0m_vertex_pair_ids\u001b[0m\u001b[1;33m(\u001b[0m\u001b[0mn\u001b[0m\u001b[1;33m)\u001b[0m\u001b[1;33m\u001b[0m\u001b[1;33m\u001b[0m\u001b[0m\n\u001b[0m\u001b[0;32m     63\u001b[0m                 \u001b[0mmodel\u001b[0m \u001b[1;33m=\u001b[0m \u001b[1;32mNone\u001b[0m\u001b[1;33m\u001b[0m\u001b[1;33m\u001b[0m\u001b[0m\n\u001b[0;32m     64\u001b[0m                 \u001b[0mA\u001b[0m \u001b[1;33m=\u001b[0m \u001b[1;32mNone\u001b[0m\u001b[1;33m\u001b[0m\u001b[1;33m\u001b[0m\u001b[0m\n",
            "\u001b[1;32m<ipython-input-32-f96d28d0e40b>\u001b[0m in \u001b[0;36m_vertex_pair_ids\u001b[1;34m(n)\u001b[0m\n\u001b[0;32m    110\u001b[0m         \u001b[1;32mfor\u001b[0m \u001b[0mi\u001b[0m \u001b[1;32min\u001b[0m \u001b[0mrange\u001b[0m\u001b[1;33m(\u001b[0m\u001b[0mn\u001b[0m\u001b[1;33m-\u001b[0m\u001b[1;36m1\u001b[0m\u001b[1;33m)\u001b[0m\u001b[1;33m:\u001b[0m\u001b[1;33m\u001b[0m\u001b[1;33m\u001b[0m\u001b[0m\n\u001b[0;32m    111\u001b[0m                 \u001b[1;32mfor\u001b[0m \u001b[0mj\u001b[0m \u001b[1;32min\u001b[0m \u001b[0mrange\u001b[0m\u001b[1;33m(\u001b[0m\u001b[0mi\u001b[0m\u001b[1;33m+\u001b[0m\u001b[1;36m1\u001b[0m\u001b[1;33m,\u001b[0m\u001b[0mn\u001b[0m\u001b[1;33m)\u001b[0m\u001b[1;33m:\u001b[0m\u001b[1;33m\u001b[0m\u001b[1;33m\u001b[0m\u001b[0m\n\u001b[1;32m--> 112\u001b[1;33m                         \u001b[0mid2vertexpair\u001b[0m\u001b[1;33m[\u001b[0m\u001b[0mid\u001b[0m\u001b[1;33m]\u001b[0m \u001b[1;33m=\u001b[0m \u001b[1;33m(\u001b[0m\u001b[0mi\u001b[0m\u001b[1;33m,\u001b[0m\u001b[0mj\u001b[0m\u001b[1;33m)\u001b[0m\u001b[1;33m\u001b[0m\u001b[1;33m\u001b[0m\u001b[0m\n\u001b[0m\u001b[0;32m    113\u001b[0m                         \u001b[0mid\u001b[0m \u001b[1;33m+=\u001b[0m \u001b[1;36m1\u001b[0m\u001b[1;33m\u001b[0m\u001b[1;33m\u001b[0m\u001b[0m\n\u001b[0;32m    114\u001b[0m         \u001b[1;32mreturn\u001b[0m \u001b[0mid2vertexpair\u001b[0m\u001b[1;33m\u001b[0m\u001b[1;33m\u001b[0m\u001b[0m\n",
            "\u001b[1;31mMemoryError\u001b[0m: "
          ]
        }
      ],
      "source": [
        "#if __name__ == '__main__':\n",
        "#read parameters\n",
        "#(dataset_file,random_edgeweight_generation,edge_addition_prob,solver,algorithm) = _read_params()\n",
        "(dataset_file,random_edgeweight_generation,edge_addition_prob,solver,algorithm) = (\"Datasets\\soc.tsv\", None, -1, 'scipy', 'charikar')\n",
        "\n",
        "#load dataset\n",
        "print(separator)\n",
        "print('Loading dataset \\'%s\\'...' %(dataset_file))\n",
        "start = time.time()\n",
        "(id2vertex,vertex2id,edges,graph,tot_min) = _load(dataset_file,random_edgeweight_generation,edge_addition_prob)\n",
        "runtime = _running_time_ms(start)\n",
        "n = len(id2vertex)\n",
        "m = len(edges)\n",
        "vertex_pairs = n*(n-1)/2\n",
        "vertex_triples = n*(n-1)*(n-2)/6\n",
        "print('Dataset successfully loaded in %d ms' %(runtime))\n",
        "print('#vertices: %d' %(n))\n",
        "print('#edges: %d' %(m))\n",
        "print('#vertex pairs: %d' %(vertex_pairs))\n",
        "print('#vertex triples: %d' %(vertex_triples))\n",
        "if random_edgeweight_generation:\n",
        "\tprint('Edge weights randomly generated from [%s,%s]' %(random_edgeweight_generation[0],random_edgeweight_generation[1]))\n",
        "\tif edge_addition_prob > 0:\n",
        "\t\tprint('Edge-addition probability: %s' %(edge_addition_prob))\n",
        "all_edgeweights_sum = _all_edgeweights_sum(graph)\n",
        "max_edgeweight_gap = _max_edgeweight_gap(graph)\n",
        "print('Global condition (without tot_min): %s >= %s ?' %(all_edgeweights_sum/vertex_pairs,max_edgeweight_gap))\n",
        "print('Global condition (including tot_min): %s >= %s ?' %((all_edgeweights_sum+tot_min)/vertex_pairs,max_edgeweight_gap))\n",
        "print('Solver: %s' %(solver))\n",
        "\n",
        "#baseline CC costs\n",
        "print(separator)\n",
        "singlecluster_cost = _CC_cost([set(id2vertex.keys())],graph) + tot_min\n",
        "allsingletons_cost = _CC_cost([{u} for u in id2vertex.keys()],graph) + tot_min\n",
        "print('CC cost of \\'whole graph in one cluster\\' solution: %s (tot_min: %s, cost-tot_min: %s)' %(singlecluster_cost,tot_min,singlecluster_cost-tot_min))\n",
        "print('CC cost of \\'all singletons\\' solution: %s (tot_min: %s, cost-tot_min: %s)' %(allsingletons_cost,tot_min,allsingletons_cost-tot_min))\n",
        "\n",
        "#run KwikCluster algorithm (to have some baseline results)\n",
        "print(separator)\n",
        "print('Running KwikCluster algorithm...')\n",
        "start = time.time()\n",
        "kc_clustering = kwikcluster(id2vertex,graph)\n",
        "runtime = _running_time_ms(start)\n",
        "check_clustering = _check_clustering(kc_clustering,n)\n",
        "if not check_clustering:\n",
        "\traise Exception('ERROR: malformed clustering')\n",
        "print('KwikCluster algorithm successfully executed in %d ms' %(runtime))\n",
        "kc_cost = _CC_cost(kc_clustering,graph) + tot_min\n",
        "print('CC cost of KwikCluster\\'s output clustering: %s (tot_min: %s, cost-tot_min: %s)' %(kc_cost,tot_min,kc_cost-tot_min))\n",
        "print('KwikCluster\\'s output clustering:')\n",
        "c = 1\n",
        "for cluster in kc_clustering:\n",
        "\tmapped_cluster = _map_cluster(cluster,id2vertex)\n",
        "\tprint('Cluster ' + str(c) + ': ' + str(sorted(mapped_cluster)))\n",
        "\tc += 1\n",
        "\n",
        "\tif algorithm == 'charikar' or algorithm == 'demaine':\n",
        "\t\t#build linear program\n",
        "\t\tprint(separator)\n",
        "\t\tprint('O(log n)-approximation algorithm - Building linear program (solver: %s)...' %(solver))\n",
        "\t\tstart = time.time()\n",
        "\t\tid2vertexpair = _vertex_pair_ids(n)\n",
        "\t\tmodel = None\n",
        "\t\tA = None\n",
        "\t\tb = None\n",
        "\t\tc = None\n",
        "\t\tc_nonzero = None\n",
        "\t\tif solver == 'pulp':\n",
        "\t\t\tmodel = _linear_program_pulp(n,edges,graph)\n",
        "\t\telif solver == 'scipy':\n",
        "\t\t\t(A,b,c) = _linear_program_scipy(n,edges,graph)\n",
        "\t\t\tc_nonzero = len([x for x in c if x != 0])\n",
        "\t\telse:\n",
        "\t\t\traise Exception('Solver \\'%s\\' not supported' %(solver))\n",
        "\t\truntime = _running_time_ms(start)\n",
        "\t\tprint('Linear program successfully built in %d ms' %(runtime))\n",
        "\t\tif solver == 'scipy':\n",
        "\t\t\tprint('#variables: %d (must be equal to #vertex pairs, i.e., equal to %d)' %(len(c),vertex_pairs))\n",
        "\t\t\tprint('#inequality constraints: %d (must be equal to 3 * #vertex triples, i.e., equal to %d)' %(len(A),3*vertex_triples))\n",
        "\t\t\tprint('#non-zero entries in cost vector: %d (must be <= #edges, i.e., <= %d)' %(c_nonzero,m))\n",
        "\n",
        "\t\t#solving linear program\n",
        "\t\tprint(separator)\n",
        "\t\tprint('O(log n)-approximation algorithm - Solving linear program (solver: %s)...' %(solver))\n",
        "\t\tstart=time.time()\n",
        "\t\tlp_var_assignment = None\n",
        "\t\tobj_value = None\n",
        "\t\tmethod = ''\n",
        "\t\tif solver == 'pulp':\n",
        "\t\t\tmethod = 'PuLP'\n",
        "\t\t\t(lp_var_assignment,obj_value) = _solve_lp_pulp(model)\n",
        "\t\telif solver == 'scipy':\n",
        "\t\t\tmethod = 'SciPy'\n",
        "\t\t\t(lp_var_assignment,obj_value) = _solve_lp_scipy(A,b,c)\n",
        "\t\telse:\n",
        "\t\t\traise Exception('Solver \\'%s\\' not supported' %(solver))\n",
        "\t\truntime = _running_time_ms(start)\n",
        "\t\tlp_cost = _lp_solution_cost(lp_var_assignment,graph,n) + tot_min\n",
        "\t\tprint('Linear program successfully solved in %d ms' %(runtime))\n",
        "\t\tprint('Size of the solution array: %d (must be equal to #variables)' %(len(lp_var_assignment)))\n",
        "\t\tprint('Cost of the LP solution: %s (tot_min: %s, cost-tot_min: %s)' %(lp_cost,tot_min,lp_cost-tot_min))\n",
        "\t\tall_negativeedgeweight_sum = _all_negativeedgeweight_sum(graph)\n",
        "\t\tprint('Cost of the LP solution (according to %s): %s (tot_min: %s, cost-tot_min: %s)' %(method,obj_value+all_negativeedgeweight_sum+tot_min,tot_min,obj_value+all_negativeedgeweight_sum))\n",
        "\t\t# \"\"\"\n",
        "\t\t# #######################\n",
        "\t\t# #######################\n",
        "\t\t# #######################\n",
        "\t\t# ## DEBUG:\n",
        "\t\t# if solver == 'pulp':\n",
        "\t\t# \t(A,b,c) = _linear_program_scipy(n,edges,graph)\n",
        "\t\t# \t(lp_var_assignment_scipy,obj_value_scipy) = _solve_lp_scipy(A,b,c)\n",
        "\t\t# \tlp_cost_scipy = _lp_solution_cost(lp_var_assignment_scipy,graph,n) + tot_min\n",
        "\t\t# \tprint('Cost of the SciPy LP solution: %s (tot_min: %s)' %(lp_cost_scipy,tot_min))\n",
        "\t\t# \tprint('Cost of the SciPy LP solution (according to SciPy): %s (tot_min: %s)' %(obj_value_scipy+all_negativeedgeweight_sum+tot_min,tot_min))\n",
        "\t\t# \tfor i in range(len(lp_var_assignment)):\n",
        "\t\t# \t\tscipy_val = lp_var_assignment_scipy[i]\n",
        "\t\t# \t\tpulp_val = lp_var_assignment[i]\n",
        "\t\t# \t\tdiff = abs(scipy_val-pulp_val)\n",
        "\t\t# \t\tpedix = '(difference: ' + str(diff) + ')' if diff>0 else ''\n",
        "\t\t# \t\tprint('x_%d (SciPy, PuLP): %s %s %s' %(i,scipy_val,pulp_val,pedix))\n",
        "\t\t# else:\n",
        "\t\t# \tprint(lp_var_assignment)\n",
        "\t\t# #######################\n",
        "\t\t# #######################\n",
        "\t\t# #######################\n",
        "\t\t# \"\"\"\n",
        "\n",
        "\t\t#rounding lp solution\n",
        "\t\tprint(separator)\n",
        "\t\tprint('O(log n)-approximation algorithm - Rounding the LP solution (rounding algorithm: %s)...' %(algorithm))\n",
        "\t\tstart=time.time()\n",
        "\t\tclustering = None\n",
        "\t\tif algorithm == 'charikar':\n",
        "\t\t\tclustering = round_charikar(lp_var_assignment,id2vertexpair,id2vertex,edges,graph,lp_cost-tot_min)\n",
        "\t\telif algorithm == 'demaine':\n",
        "\t\t\tclustering = round_demaine(lp_var_assignment,id2vertexpair,id2vertex,edges,graph,2+eps)\n",
        "\t\truntime = _running_time_ms(start)\n",
        "\t\tcheck_clustering = _check_clustering(clustering,n)\n",
        "\t\tif not check_clustering:\n",
        "\t\t\traise Exception('ERROR: malformed clustering')\n",
        "\t\tprint('LP-rounding successfully performed in %d ms' %(runtime))\n",
        "\t\tcc_cost = _CC_cost(clustering,graph) + tot_min\n",
        "\t\tprint('CC cost of O(log n)-approximation algorithm\\'s output clustering: %s (tot_min: %s, cost-tot_min: %s)' %(cc_cost,tot_min,cc_cost-tot_min))\n",
        "\t\tprint('O(log n)-approximation algorithm\\'s output clustering:')\n",
        "\t\tc = 1\n",
        "\t\tfor cluster in clustering:\n",
        "\t\t\tmapped_cluster = _map_cluster(cluster,id2vertex)\n",
        "\t\t\tprint('Cluster ' + str(c) + ': ' + str(sorted(mapped_cluster)))\n",
        "\t\t\tc += 1\n"
      ]
    },
    {
      "cell_type": "code",
      "execution_count": 35,
      "id": "7da5dbc3",
      "metadata": {},
      "outputs": [
        {
          "data": {
            "text/plain": [
              "92210"
            ]
          },
          "execution_count": 35,
          "metadata": {},
          "output_type": "execute_result"
        }
      ],
      "source": [
        "len(kc_clustering)"
      ]
    },
    {
      "cell_type": "code",
      "execution_count": 43,
      "id": "d8c331dd",
      "metadata": {
        "colab": {
          "base_uri": "https://localhost:8080/"
        },
        "id": "d8c331dd",
        "outputId": "6205da18-5b6e-4892-b59d-9e5683ea52d7"
      },
      "outputs": [],
      "source": [
        "#main_clusters = getClusters(train_graph, 5, A_p, A_n)\n",
        "main_clusters = np.array(kc_clustering, dtype = np.ndarray)\n",
        "cluster1 = main_clusters[0]\n",
        "cluster2 = main_clusters[1]\n",
        "cluster3 = main_clusters[2]\n",
        "cluster4 = main_clusters[3]\n",
        "cluster5 = main_clusters[4]"
      ]
    },
    {
      "cell_type": "code",
      "execution_count": 41,
      "id": "7e3f0631",
      "metadata": {
        "colab": {
          "base_uri": "https://localhost:8080/"
        },
        "id": "7e3f0631",
        "outputId": "85f99509-ee56-4304-95c4-fc26c6d3c228"
      },
      "outputs": [
        {
          "name": "stdout",
          "output_type": "stream",
          "text": [
            "3\n",
            "7\n",
            "2\n",
            "3\n",
            "2\n"
          ]
        }
      ],
      "source": [
        "print(len(cluster1))\n",
        "print(len(cluster2))\n",
        "print(len(cluster3))\n",
        "print(len(cluster4))\n",
        "print(len(cluster5))"
      ]
    },
    {
      "cell_type": "code",
      "execution_count": 24,
      "id": "a74788dc",
      "metadata": {
        "id": "a74788dc"
      },
      "outputs": [],
      "source": [
        "def getCommonNeighbors(G, cl1, cl2):\n",
        "    x = set([])\n",
        "    for i in cl1:\n",
        "        x = x.union(set(G.adj[i]))\n",
        "    #print('x: ', x)\n",
        "    y = set([])\n",
        "    for j in cl2:\n",
        "        y = y.union(set(G.adj[j]))\n",
        "    #print('y: ', y)\n",
        "    return list(x.intersection(y))"
      ]
    },
    {
      "cell_type": "code",
      "execution_count": 25,
      "id": "031c1e03",
      "metadata": {
        "id": "031c1e03"
      },
      "outputs": [],
      "source": [
        "def locationOfANode(clusters, u):\n",
        "    n = clusters.shape[0]\n",
        "    x = np.zeros(n)\n",
        "    r = -1\n",
        "    for i in range(n):\n",
        "        if u in clusters[i]:\n",
        "            r = i\n",
        "    return r"
      ]
    },
    {
      "cell_type": "code",
      "execution_count": 26,
      "id": "165dfc34",
      "metadata": {
        "id": "165dfc34"
      },
      "outputs": [],
      "source": [
        "\n",
        "def locationOfArrayOfNode(clusters, U):\n",
        "    x = np.zeros(len(U))\n",
        "    for i in range(len(x)):\n",
        "        x[i] = locationOfANode(clusters, U[i])\n",
        "    return x"
      ]
    },
    {
      "cell_type": "code",
      "execution_count": 27,
      "id": "8ee81b85",
      "metadata": {
        "id": "8ee81b85"
      },
      "outputs": [],
      "source": [
        "def getClusterSimiliarity(G, source_cluster, common_neighbors, sign_tag = 'sign'):\n",
        "    #print('common_neighbors: ', common_neighbors)\n",
        "    sign_map = nx.get_edge_attributes(G, sign_tag)\n",
        "    epsilon = 10 ** (-5)\n",
        "    y = []\n",
        "    for v in common_neighbors:\n",
        "        # adding an epsilon to prevent mean of an empty array\n",
        "        #x = [epsilon]\n",
        "        x = []\n",
        "        for u in source_cluster:\n",
        "            if (u, v) in G.edges():\n",
        "                x.append(sign_map[(u, v)])\n",
        "                #print(\"u\", u , \"v\" , v)\n",
        "        y.append(np.mean(np.array(x)))\n",
        "    return np.array(y)"
      ]
    },
    {
      "attachments": {},
      "cell_type": "markdown",
      "id": "60ec2a0e",
      "metadata": {
        "id": "60ec2a0e"
      },
      "source": [
        "##################"
      ]
    },
    {
      "cell_type": "code",
      "execution_count": 28,
      "id": "06c614c8",
      "metadata": {
        "id": "06c614c8"
      },
      "outputs": [],
      "source": [
        "# main function to calculate the similiarity between two clusters\n",
        "def getInterClusterSimiliarity(G, cl1, cl2, common_neighbors):\n",
        "   y1 = getClusterSimiliarity(G, cl1, common_neighbors)\n",
        "   y2 = getClusterSimiliarity(G, cl2, common_neighbors)\n",
        "   \n",
        "   # if (y1.size == 0):\n",
        "   #    print('y1: ', y1)\n",
        "   #    print('###', common_neighbors)\n",
        "   # if (y2.size == 0):\n",
        "   #    print('y2: ', y2)\n",
        "   #    print('###', common_neighbors)\n",
        "\n",
        "   alpha = np.dot(y1.T, y2)\n",
        "\n",
        "   ##first approach\n",
        "   beta = np.dot(y1.T, y1)\n",
        "   gamma = np.dot(y2.T, y2)\n",
        "   if (beta * gamma < 0):\n",
        "      print('it\"s negative: ', beta * gamma)\n",
        "   epsilon = 10 ** (-5)\n",
        "   #return alpha / (np.sqrt((beta * gamma)) + epsilon)\n",
        "   return alpha / (np.sqrt((beta * gamma)))\n",
        "\n",
        "   ##second approach\n",
        "   #return alpha / len(common_neighbors)"
      ]
    },
    {
      "cell_type": "code",
      "execution_count": 33,
      "id": "bee73e85",
      "metadata": {
        "id": "bee73e85"
      },
      "outputs": [],
      "source": [
        "# # calculates similiarities between each two clusters and returns a matrix\n",
        "# def getAllSimiliaritiesBetweenClusters(G, clusters):\n",
        "#     clusters_no = clusters.shape[0]\n",
        "#     similiarities = np.zeros(shape = (clusters_no, clusters_no))\n",
        "#     for i in range(clusters_no):\n",
        "#         for j in range(i, clusters_no):\n",
        "#             common_neighbors = getCommonNeighbors(G, clusters[i], clusters[j])\n",
        "#             current_similiarity = getInterClusterSimiliarity(G, clusters[i], clusters[j], common_neighbors)\n",
        "#             # similiarities[i][j] = similiarities[j][i] = current_similiarity\n",
        "#             if len(common_neighbors) == 0:\n",
        "#                 print('i:', clusters[i])\n",
        "#                 print('j:', clusters[j])\n",
        "#             if (math.isnan(current_similiarity)):\n",
        "#                 similiarities[i][j] = similiarities[j][i] = 0\n",
        "#             else:\n",
        "#                 similiarities[i][j] = similiarities[j][i] = current_similiarity\n",
        "#     return similiarities"
      ]
    },
    {
      "cell_type": "code",
      "execution_count": 34,
      "id": "e880f85a",
      "metadata": {
        "id": "e880f85a"
      },
      "outputs": [],
      "source": [
        "# Calculates similarities between each two clusters and returns a matrix\n",
        "def getAllSimilaritiesBetweenClusters(G, clusters):\n",
        "    clusters_no = clusters.shape[0]\n",
        "    similiarities = np.zeros(shape=(clusters_no, clusters_no), dtype = 'float16')\n",
        "    total_iterations = clusters_no * (clusters_no + 1) // 2  # Total number of iterations for progress bar\n",
        "\n",
        "    with tqdm(total=total_iterations, desc=\"Calculating similarities\") as pbar:\n",
        "        for i in range(clusters_no):\n",
        "            for j in range(i, clusters_no):\n",
        "                if i == j:\n",
        "                    similiarities[i][j] = 1\n",
        "                else:\n",
        "                    common_neighbors = getCommonNeighbors(G, clusters[i], clusters[j])\n",
        "                    current_similarity = getInterClusterSimiliarity(G, clusters[i], clusters[j], common_neighbors)\n",
        "\n",
        "                    if len(common_neighbors) == 0:\n",
        "                        print('i:', clusters[i])\n",
        "                        print('j:', clusters[j])\n",
        "                    if math.isnan(current_similarity):\n",
        "                        similiarities[i][j] = similiarities[j][i] = 0\n",
        "                    else:\n",
        "                        similiarities[i][j] = similiarities[j][i] = current_similarity\n",
        "\n",
        "                pbar.update(1)  # Update the progress bar\n",
        "\n",
        "    return similiarities"
      ]
    },
    {
      "cell_type": "code",
      "execution_count": 35,
      "id": "192ae994",
      "metadata": {
        "id": "192ae994"
      },
      "outputs": [],
      "source": [
        "# common_neighbors = getCommonNeighbors(train_graph, cluster1, cluster2)\n",
        "# similarity = getInterClusterSimiliarity(train_graph, cluster1, cluster2, common_neighbors)\n",
        "# similarity"
      ]
    },
    {
      "cell_type": "code",
      "execution_count": 35,
      "id": "3e377cba",
      "metadata": {
        "colab": {
          "base_uri": "https://localhost:8080/"
        },
        "id": "3e377cba",
        "outputId": "a31b142b-c990-4960-cff0-524fef1dd27b"
      },
      "outputs": [
        {
          "name": "stderr",
          "output_type": "stream",
          "text": [
            "Calculating similarities:   0%|          | 2/3936284628 [00:02<1372464:33:57,  1.26s/it]<ipython-input-28-8b1997a73068>:22: RuntimeWarning: invalid value encountered in double_scalars\n",
            "  return alpha / (np.sqrt((beta * gamma)))\n",
            "Calculating similarities:   0%|          | 3/3936284628 [00:04<1635268:06:03,  1.50s/it]"
          ]
        },
        {
          "name": "stdout",
          "output_type": "stream",
          "text": [
            "i: {19744, 35605, 6821}\n",
            "j: {20929, 69}\n"
          ]
        },
        {
          "name": "stderr",
          "output_type": "stream",
          "text": [
            "Calculating similarities:   0%|          | 4/3936284628 [00:06<2040593:38:42,  1.87s/it]"
          ]
        },
        {
          "name": "stdout",
          "output_type": "stream",
          "text": [
            "i: {19744, 35605, 6821}\n",
            "j: {273, 493, 49526}\n"
          ]
        },
        {
          "name": "stderr",
          "output_type": "stream",
          "text": [
            "Calculating similarities:   0%|          | 5/3936284628 [00:08<2068645:49:43,  1.89s/it]"
          ]
        },
        {
          "name": "stdout",
          "output_type": "stream",
          "text": [
            "i: {19744, 35605, 6821}\n",
            "j: {13, 88725}\n"
          ]
        },
        {
          "name": "stderr",
          "output_type": "stream",
          "text": [
            "Calculating similarities:   0%|          | 6/3936284628 [00:11<2288902:14:01,  2.09s/it]"
          ]
        },
        {
          "name": "stdout",
          "output_type": "stream",
          "text": [
            "i: {19744, 35605, 6821}\n",
            "j: {13690, 3155, 22683, 97485}\n"
          ]
        },
        {
          "name": "stderr",
          "output_type": "stream",
          "text": [
            "Calculating similarities:   0%|          | 7/3936284628 [00:13<2375668:02:53,  2.17s/it]"
          ]
        },
        {
          "name": "stdout",
          "output_type": "stream",
          "text": [
            "i: {19744, 35605, 6821}\n",
            "j: {115888, 115889}\n"
          ]
        },
        {
          "name": "stderr",
          "output_type": "stream",
          "text": [
            "Calculating similarities:   0%|          | 8/3936284628 [00:15<2240069:57:05,  2.05s/it]"
          ]
        },
        {
          "name": "stdout",
          "output_type": "stream",
          "text": [
            "i: {19744, 35605, 6821}\n",
            "j: {19874, 6804, 12311}\n"
          ]
        },
        {
          "name": "stderr",
          "output_type": "stream",
          "text": [
            "Calculating similarities:   0%|          | 9/3936284628 [00:17<2196613:50:07,  2.01s/it]"
          ]
        },
        {
          "name": "stdout",
          "output_type": "stream",
          "text": [
            "i: {19744, 35605, 6821}\n",
            "j: {92738, 78631}\n"
          ]
        },
        {
          "name": "stderr",
          "output_type": "stream",
          "text": [
            "Calculating similarities:   0%|          | 10/3936284628 [00:19<2288274:46:01,  2.09s/it]"
          ]
        },
        {
          "name": "stdout",
          "output_type": "stream",
          "text": [
            "i: {19744, 35605, 6821}\n",
            "j: {2502, 50663}\n"
          ]
        },
        {
          "name": "stderr",
          "output_type": "stream",
          "text": [
            "Calculating similarities:   0%|          | 11/3936284628 [00:21<2310505:46:00,  2.11s/it]"
          ]
        },
        {
          "name": "stdout",
          "output_type": "stream",
          "text": [
            "i: {19744, 35605, 6821}\n",
            "j: {113852, 113853}\n"
          ]
        },
        {
          "name": "stderr",
          "output_type": "stream",
          "text": [
            "Calculating similarities:   0%|          | 12/3936284628 [00:23<2310665:22:02,  2.11s/it]"
          ]
        },
        {
          "name": "stdout",
          "output_type": "stream",
          "text": [
            "i: {19744, 35605, 6821}\n",
            "j: {15008, 57670}\n"
          ]
        },
        {
          "name": "stderr",
          "output_type": "stream",
          "text": [
            "Calculating similarities:   0%|          | 13/3936284628 [00:25<2153412:56:19,  1.97s/it]"
          ]
        },
        {
          "name": "stdout",
          "output_type": "stream",
          "text": [
            "i: {19744, 35605, 6821}\n",
            "j: {7684, 22341, 15142, 7466, 22763, 9872, 2320, 30258, 4887, 29050, 8124}\n"
          ]
        },
        {
          "name": "stderr",
          "output_type": "stream",
          "text": [
            "Calculating similarities:   0%|          | 14/3936284628 [00:27<2235795:31:33,  2.04s/it]"
          ]
        },
        {
          "name": "stdout",
          "output_type": "stream",
          "text": [
            "i: {19744, 35605, 6821}\n",
            "j: {37145, 110589}\n"
          ]
        },
        {
          "name": "stderr",
          "output_type": "stream",
          "text": [
            "Calculating similarities:   0%|          | 15/3936284628 [00:29<2185215:52:43,  2.00s/it]"
          ]
        },
        {
          "name": "stdout",
          "output_type": "stream",
          "text": [
            "i: {19744, 35605, 6821}\n",
            "j: {10781, 45550}\n"
          ]
        },
        {
          "name": "stderr",
          "output_type": "stream",
          "text": [
            "Calculating similarities:   0%|          | 16/3936284628 [00:31<2119338:41:16,  1.94s/it]"
          ]
        },
        {
          "name": "stdout",
          "output_type": "stream",
          "text": [
            "i: {19744, 35605, 6821}\n",
            "j: {92449, 7757, 174, 596, 534, 3327}\n"
          ]
        },
        {
          "name": "stderr",
          "output_type": "stream",
          "text": [
            "Calculating similarities:   0%|          | 17/3936284628 [00:33<2027089:45:54,  1.85s/it]"
          ]
        },
        {
          "name": "stdout",
          "output_type": "stream",
          "text": [
            "i: {19744, 35605, 6821}\n",
            "j: {58019, 59284, 27108}\n"
          ]
        },
        {
          "name": "stderr",
          "output_type": "stream",
          "text": [
            "Calculating similarities:   0%|          | 18/3936284628 [00:34<1978586:23:12,  1.81s/it]"
          ]
        },
        {
          "name": "stdout",
          "output_type": "stream",
          "text": [
            "i: {19744, 35605, 6821}\n",
            "j: {36560, 2203, 4870, 70847}\n"
          ]
        },
        {
          "name": "stderr",
          "output_type": "stream",
          "text": [
            "Calculating similarities:   0%|          | 19/3936284628 [00:36<1904721:09:00,  1.74s/it]"
          ]
        },
        {
          "name": "stdout",
          "output_type": "stream",
          "text": [
            "i: {19744, 35605, 6821}\n",
            "j: {4011, 66623}\n"
          ]
        },
        {
          "name": "stderr",
          "output_type": "stream",
          "text": [
            "Calculating similarities:   0%|          | 20/3936284628 [00:37<1830155:39:28,  1.67s/it]"
          ]
        },
        {
          "name": "stdout",
          "output_type": "stream",
          "text": [
            "i: {19744, 35605, 6821}\n",
            "j: {1713, 26845}\n"
          ]
        },
        {
          "name": "stderr",
          "output_type": "stream",
          "text": [
            "Calculating similarities:   0%|          | 21/3936284628 [00:39<1914129:06:27,  1.75s/it]"
          ]
        },
        {
          "name": "stdout",
          "output_type": "stream",
          "text": [
            "i: {19744, 35605, 6821}\n",
            "j: {3361, 118084}\n"
          ]
        },
        {
          "name": "stderr",
          "output_type": "stream",
          "text": [
            "Calculating similarities:   0%|          | 24/3936284628 [00:44<1732992:25:00,  1.58s/it]"
          ]
        },
        {
          "name": "stdout",
          "output_type": "stream",
          "text": [
            "i: {19744, 35605, 6821}\n",
            "j: {127184, 127183}\n"
          ]
        },
        {
          "name": "stderr",
          "output_type": "stream",
          "text": [
            "Calculating similarities:   0%|          | 26/3936284628 [00:47<1813337:10:40,  1.66s/it]"
          ]
        },
        {
          "name": "stdout",
          "output_type": "stream",
          "text": [
            "i: {19744, 35605, 6821}\n",
            "j: {9094, 41255, 8396, 367, 11197}\n"
          ]
        },
        {
          "name": "stderr",
          "output_type": "stream",
          "text": [
            "Calculating similarities:   0%|          | 27/3936284628 [00:49<1705437:59:20,  1.56s/it]"
          ]
        },
        {
          "name": "stdout",
          "output_type": "stream",
          "text": [
            "i: {19744, 35605, 6821}\n",
            "j: {43330, 451, 5547, 4688, 3193, 13534}\n"
          ]
        },
        {
          "name": "stderr",
          "output_type": "stream",
          "text": [
            "Calculating similarities:   0%|          | 30/3936284628 [00:53<1683022:14:40,  1.54s/it]"
          ]
        },
        {
          "name": "stdout",
          "output_type": "stream",
          "text": [
            "i: {19744, 35605, 6821}\n",
            "j: {102642, 29822}\n"
          ]
        },
        {
          "name": "stderr",
          "output_type": "stream",
          "text": [
            "Calculating similarities:   0%|          | 31/3936284628 [00:55<1626168:46:50,  1.49s/it]"
          ]
        },
        {
          "name": "stdout",
          "output_type": "stream",
          "text": [
            "i: {19744, 35605, 6821}\n",
            "j: {7765, 68831}\n"
          ]
        },
        {
          "name": "stderr",
          "output_type": "stream",
          "text": [
            "Calculating similarities:   0%|          | 32/3936284628 [00:56<1598963:28:27,  1.46s/it]"
          ]
        },
        {
          "name": "stdout",
          "output_type": "stream",
          "text": [
            "i: {19744, 35605, 6821}\n",
            "j: {21841, 47658, 66140}\n"
          ]
        },
        {
          "name": "stderr",
          "output_type": "stream",
          "text": [
            "Calculating similarities:   0%|          | 33/3936284628 [00:58<1635778:32:00,  1.50s/it]"
          ]
        },
        {
          "name": "stdout",
          "output_type": "stream",
          "text": [
            "i: {19744, 35605, 6821}\n",
            "j: {96193, 23909, 94046}\n"
          ]
        },
        {
          "name": "stderr",
          "output_type": "stream",
          "text": [
            "Calculating similarities:   0%|          | 35/3936284628 [01:01<1709384:46:25,  1.56s/it]"
          ]
        },
        {
          "name": "stdout",
          "output_type": "stream",
          "text": [
            "i: {19744, 35605, 6821}\n",
            "j: {109418, 22467}\n"
          ]
        },
        {
          "name": "stderr",
          "output_type": "stream",
          "text": [
            "Calculating similarities:   0%|          | 36/3936284628 [01:02<1699299:22:51,  1.55s/it]"
          ]
        },
        {
          "name": "stdout",
          "output_type": "stream",
          "text": [
            "i: {19744, 35605, 6821}\n",
            "j: {35508, 94013}\n"
          ]
        },
        {
          "name": "stderr",
          "output_type": "stream",
          "text": [
            "Calculating similarities:   0%|          | 37/3936284628 [01:04<1641468:59:48,  1.50s/it]"
          ]
        },
        {
          "name": "stdout",
          "output_type": "stream",
          "text": [
            "i: {19744, 35605, 6821}\n",
            "j: {4019, 55123, 57430, 57431, 35832, 57432}\n"
          ]
        },
        {
          "name": "stderr",
          "output_type": "stream",
          "text": [
            "Calculating similarities:   0%|          | 38/3936284628 [01:05<1666668:18:19,  1.52s/it]"
          ]
        },
        {
          "name": "stdout",
          "output_type": "stream",
          "text": [
            "i: {19744, 35605, 6821}\n",
            "j: {23721, 99029, 6799}\n"
          ]
        },
        {
          "name": "stderr",
          "output_type": "stream",
          "text": [
            "Calculating similarities:   0%|          | 39/3936284628 [01:07<1721716:38:35,  1.57s/it]"
          ]
        },
        {
          "name": "stdout",
          "output_type": "stream",
          "text": [
            "i: {19744, 35605, 6821}\n",
            "j: {76444, 76445}\n"
          ]
        },
        {
          "name": "stderr",
          "output_type": "stream",
          "text": [
            "Calculating similarities:   0%|          | 40/3936284628 [01:09<1848250:50:21,  1.69s/it]"
          ]
        },
        {
          "name": "stdout",
          "output_type": "stream",
          "text": [
            "i: {19744, 35605, 6821}\n",
            "j: {114416, 58454}\n"
          ]
        },
        {
          "name": "stderr",
          "output_type": "stream",
          "text": [
            "Calculating similarities:   0%|          | 42/3936284628 [01:13<2055513:37:48,  1.88s/it]"
          ]
        },
        {
          "name": "stdout",
          "output_type": "stream",
          "text": [
            "i: {19744, 35605, 6821}\n",
            "j: {121690, 121691}\n"
          ]
        },
        {
          "name": "stderr",
          "output_type": "stream",
          "text": [
            "Calculating similarities:   0%|          | 44/3936284628 [01:17<2029136:09:34,  1.86s/it]"
          ]
        },
        {
          "name": "stdout",
          "output_type": "stream",
          "text": [
            "i: {19744, 35605, 6821}\n",
            "j: {30561, 6210, 50881, 50882, 3269, 50883, 50884, 50885, 4362, 50867, 50868, 10614, 91740}\n"
          ]
        },
        {
          "name": "stderr",
          "output_type": "stream",
          "text": [
            "Calculating similarities:   0%|          | 45/3936284628 [01:19<2051477:26:37,  1.88s/it]"
          ]
        },
        {
          "name": "stdout",
          "output_type": "stream",
          "text": [
            "i: {19744, 35605, 6821}\n",
            "j: {479, 437, 1367, 7887}\n"
          ]
        },
        {
          "name": "stderr",
          "output_type": "stream",
          "text": [
            "Calculating similarities:   0%|          | 46/3936284628 [01:21<2015949:40:37,  1.84s/it]"
          ]
        },
        {
          "name": "stdout",
          "output_type": "stream",
          "text": [
            "i: {19744, 35605, 6821}\n",
            "j: {12731, 64910}\n"
          ]
        },
        {
          "name": "stderr",
          "output_type": "stream",
          "text": [
            "Calculating similarities:   0%|          | 47/3936284628 [01:23<2327227:14:53,  2.13s/it]"
          ]
        },
        {
          "name": "stdout",
          "output_type": "stream",
          "text": [
            "i: {19744, 35605, 6821}\n",
            "j: {93949, 93950}\n"
          ]
        },
        {
          "name": "stderr",
          "output_type": "stream",
          "text": [
            "Calculating similarities:   0%|          | 48/3936284628 [01:25<2272199:41:46,  2.08s/it]"
          ]
        },
        {
          "name": "stdout",
          "output_type": "stream",
          "text": [
            "i: {19744, 35605, 6821}\n",
            "j: {6817, 33282, 45642, 6059, 8238}\n"
          ]
        },
        {
          "name": "stderr",
          "output_type": "stream",
          "text": [
            "Calculating similarities:   0%|          | 49/3936284628 [01:27<2023479:22:07,  1.85s/it]"
          ]
        },
        {
          "name": "stdout",
          "output_type": "stream",
          "text": [
            "i: {19744, 35605, 6821}\n",
            "j: {3904, 7343, 20372, 7348, 84152}\n"
          ]
        },
        {
          "name": "stderr",
          "output_type": "stream",
          "text": [
            "Calculating similarities:   0%|          | 50/3936284628 [01:29<2134066:25:28,  1.95s/it]"
          ]
        },
        {
          "name": "stdout",
          "output_type": "stream",
          "text": [
            "i: {19744, 35605, 6821}\n",
            "j: {75266, 117381}\n"
          ]
        },
        {
          "name": "stderr",
          "output_type": "stream",
          "text": [
            "Calculating similarities:   0%|          | 51/3936284628 [01:30<2038736:54:15,  1.86s/it]"
          ]
        },
        {
          "name": "stdout",
          "output_type": "stream",
          "text": [
            "i: {19744, 35605, 6821}\n",
            "j: {5800, 12243, 67910}\n"
          ]
        },
        {
          "name": "stderr",
          "output_type": "stream",
          "text": [
            "Calculating similarities:   0%|          | 52/3936284628 [01:32<1975756:06:25,  1.81s/it]"
          ]
        },
        {
          "name": "stdout",
          "output_type": "stream",
          "text": [
            "i: {19744, 35605, 6821}\n",
            "j: {113044, 113045}\n"
          ]
        },
        {
          "name": "stderr",
          "output_type": "stream",
          "text": [
            "Calculating similarities:   0%|          | 53/3936284628 [01:34<1969272:18:37,  1.80s/it]"
          ]
        },
        {
          "name": "stdout",
          "output_type": "stream",
          "text": [
            "i: {19744, 35605, 6821}\n",
            "j: {43033, 7494}\n"
          ]
        },
        {
          "name": "stderr",
          "output_type": "stream",
          "text": [
            "Calculating similarities:   0%|          | 54/3936284628 [01:36<1907063:41:32,  1.74s/it]"
          ]
        },
        {
          "name": "stdout",
          "output_type": "stream",
          "text": [
            "i: {19744, 35605, 6821}\n",
            "j: {129118, 129119}\n"
          ]
        },
        {
          "name": "stderr",
          "output_type": "stream",
          "text": [
            "Calculating similarities:   0%|          | 55/3936284628 [01:37<1762446:31:10,  1.61s/it]"
          ]
        },
        {
          "name": "stdout",
          "output_type": "stream",
          "text": [
            "i: {19744, 35605, 6821}\n",
            "j: {100672, 28405, 11847}\n"
          ]
        },
        {
          "name": "stderr",
          "output_type": "stream",
          "text": [
            "Calculating similarities:   0%|          | 56/3936284628 [01:38<1714194:13:52,  1.57s/it]"
          ]
        },
        {
          "name": "stdout",
          "output_type": "stream",
          "text": [
            "i: {19744, 35605, 6821}\n",
            "j: {26424, 111048, 73925, 111047}\n"
          ]
        },
        {
          "name": "stderr",
          "output_type": "stream",
          "text": [
            "Calculating similarities:   0%|          | 59/3936284628 [01:43<1637166:38:33,  1.50s/it]"
          ]
        },
        {
          "name": "stdout",
          "output_type": "stream",
          "text": [
            "i: {19744, 35605, 6821}\n",
            "j: {88345, 20051}\n"
          ]
        },
        {
          "name": "stderr",
          "output_type": "stream",
          "text": [
            "Calculating similarities:   0%|          | 60/3936284628 [01:44<1564412:00:39,  1.43s/it]"
          ]
        },
        {
          "name": "stdout",
          "output_type": "stream",
          "text": [
            "i: {19744, 35605, 6821}\n",
            "j: {96995, 96999}\n"
          ]
        },
        {
          "name": "stderr",
          "output_type": "stream",
          "text": [
            "Calculating similarities:   0%|          | 61/3936284628 [01:46<1622311:00:16,  1.48s/it]"
          ]
        },
        {
          "name": "stdout",
          "output_type": "stream",
          "text": [
            "i: {19744, 35605, 6821}\n",
            "j: {72672, 72673}\n"
          ]
        },
        {
          "name": "stderr",
          "output_type": "stream",
          "text": [
            "Calculating similarities:   0%|          | 62/3936284628 [01:47<1576729:07:57,  1.44s/it]"
          ]
        },
        {
          "name": "stdout",
          "output_type": "stream",
          "text": [
            "i: {19744, 35605, 6821}\n",
            "j: {5692, 84516, 78871}\n"
          ]
        },
        {
          "name": "stderr",
          "output_type": "stream",
          "text": [
            "Calculating similarities:   0%|          | 63/3936284628 [01:49<1568738:17:19,  1.43s/it]"
          ]
        },
        {
          "name": "stdout",
          "output_type": "stream",
          "text": [
            "i: {19744, 35605, 6821}\n",
            "j: {129122}\n"
          ]
        },
        {
          "name": "stderr",
          "output_type": "stream",
          "text": [
            "Calculating similarities:   0%|          | 64/3936284628 [01:50<1560466:11:16,  1.43s/it]"
          ]
        },
        {
          "name": "stdout",
          "output_type": "stream",
          "text": [
            "i: {19744, 35605, 6821}\n",
            "j: {122213, 122214}\n"
          ]
        },
        {
          "name": "stderr",
          "output_type": "stream",
          "text": [
            "Calculating similarities:   0%|          | 65/3936284628 [01:51<1519367:04:45,  1.39s/it]"
          ]
        },
        {
          "name": "stdout",
          "output_type": "stream",
          "text": [
            "i: {19744, 35605, 6821}\n",
            "j: {103200, 73282, 10211, 7580}\n"
          ]
        },
        {
          "name": "stderr",
          "output_type": "stream",
          "text": [
            "Calculating similarities:   0%|          | 66/3936284628 [01:53<1509328:11:20,  1.38s/it]"
          ]
        },
        {
          "name": "stdout",
          "output_type": "stream",
          "text": [
            "i: {19744, 35605, 6821}\n",
            "j: {106200, 106201}\n"
          ]
        },
        {
          "name": "stderr",
          "output_type": "stream",
          "text": [
            "Calculating similarities:   0%|          | 67/3936284628 [01:54<1493438:05:05,  1.37s/it]"
          ]
        },
        {
          "name": "stdout",
          "output_type": "stream",
          "text": [
            "i: {19744, 35605, 6821}\n",
            "j: {3116, 40678}\n"
          ]
        },
        {
          "name": "stderr",
          "output_type": "stream",
          "text": [
            "Calculating similarities:   0%|          | 68/3936284628 [01:55<1494154:03:28,  1.37s/it]"
          ]
        },
        {
          "name": "stdout",
          "output_type": "stream",
          "text": [
            "i: {19744, 35605, 6821}\n",
            "j: {46986, 46988}\n"
          ]
        },
        {
          "name": "stderr",
          "output_type": "stream",
          "text": [
            "Calculating similarities:   0%|          | 69/3936284628 [01:57<1494479:35:10,  1.37s/it]"
          ]
        },
        {
          "name": "stdout",
          "output_type": "stream",
          "text": [
            "i: {19744, 35605, 6821}\n",
            "j: {107821, 4318}\n"
          ]
        },
        {
          "name": "stderr",
          "output_type": "stream",
          "text": [
            "Calculating similarities:   0%|          | 70/3936284628 [01:58<1485292:30:45,  1.36s/it]"
          ]
        },
        {
          "name": "stdout",
          "output_type": "stream",
          "text": [
            "i: {19744, 35605, 6821}\n",
            "j: {15570, 74810, 74811}\n"
          ]
        },
        {
          "name": "stderr",
          "output_type": "stream",
          "text": [
            "Calculating similarities:   0%|          | 71/3936284628 [01:59<1506061:51:32,  1.38s/it]"
          ]
        },
        {
          "name": "stdout",
          "output_type": "stream",
          "text": [
            "i: {19744, 35605, 6821}\n",
            "j: {13572, 62230}\n"
          ]
        },
        {
          "name": "stderr",
          "output_type": "stream",
          "text": [
            "Calculating similarities:   0%|          | 73/3936284628 [02:02<1495062:03:03,  1.37s/it]"
          ]
        },
        {
          "name": "stdout",
          "output_type": "stream",
          "text": [
            "i: {19744, 35605, 6821}\n",
            "j: {44112, 8230}\n"
          ]
        },
        {
          "name": "stderr",
          "output_type": "stream",
          "text": [
            "Calculating similarities:   0%|          | 74/3936284628 [02:03<1457703:47:33,  1.33s/it]"
          ]
        },
        {
          "name": "stdout",
          "output_type": "stream",
          "text": [
            "i: {19744, 35605, 6821}\n",
            "j: {3915, 1829}\n"
          ]
        },
        {
          "name": "stderr",
          "output_type": "stream",
          "text": [
            "Calculating similarities:   0%|          | 75/3936284628 [02:05<1444750:54:11,  1.32s/it]"
          ]
        },
        {
          "name": "stdout",
          "output_type": "stream",
          "text": [
            "i: {19744, 35605, 6821}\n",
            "j: {78914, 77475, 4141, 6470}\n"
          ]
        },
        {
          "name": "stderr",
          "output_type": "stream",
          "text": [
            "Calculating similarities:   0%|          | 76/3936284628 [02:06<1449039:30:55,  1.33s/it]"
          ]
        },
        {
          "name": "stdout",
          "output_type": "stream",
          "text": [
            "i: {19744, 35605, 6821}\n",
            "j: {66077, 66078}\n"
          ]
        },
        {
          "name": "stderr",
          "output_type": "stream",
          "text": [
            "Calculating similarities:   0%|          | 78/3936284628 [02:09<1462243:16:18,  1.34s/it]"
          ]
        },
        {
          "name": "stdout",
          "output_type": "stream",
          "text": [
            "i: {19744, 35605, 6821}\n",
            "j: {71977, 3451, 6174}\n"
          ]
        },
        {
          "name": "stderr",
          "output_type": "stream",
          "text": [
            "Calculating similarities:   0%|          | 79/3936284628 [02:10<1443389:19:43,  1.32s/it]"
          ]
        },
        {
          "name": "stdout",
          "output_type": "stream",
          "text": [
            "i: {19744, 35605, 6821}\n",
            "j: {115899, 115900}\n"
          ]
        },
        {
          "name": "stderr",
          "output_type": "stream",
          "text": [
            "Calculating similarities:   0%|          | 80/3936284628 [02:11<1428197:26:52,  1.31s/it]"
          ]
        },
        {
          "name": "stdout",
          "output_type": "stream",
          "text": [
            "i: {19744, 35605, 6821}\n",
            "j: {93677, 27014}\n"
          ]
        },
        {
          "name": "stderr",
          "output_type": "stream",
          "text": [
            "Calculating similarities:   0%|          | 82/3936284628 [02:14<1489499:35:55,  1.36s/it]"
          ]
        },
        {
          "name": "stdout",
          "output_type": "stream",
          "text": [
            "i: {19744, 35605, 6821}\n",
            "j: {79883, 79884, 85923}\n"
          ]
        },
        {
          "name": "stderr",
          "output_type": "stream",
          "text": [
            "Calculating similarities:   0%|          | 83/3936284628 [02:16<1610069:02:30,  1.47s/it]"
          ]
        },
        {
          "name": "stdout",
          "output_type": "stream",
          "text": [
            "i: {19744, 35605, 6821}\n",
            "j: {11073, 68009, 11097, 444, 18749}\n"
          ]
        },
        {
          "name": "stderr",
          "output_type": "stream",
          "text": [
            "Calculating similarities:   0%|          | 84/3936284628 [02:17<1579009:19:39,  1.44s/it]"
          ]
        },
        {
          "name": "stdout",
          "output_type": "stream",
          "text": [
            "i: {19744, 35605, 6821}\n",
            "j: {1409, 38604}\n"
          ]
        },
        {
          "name": "stderr",
          "output_type": "stream",
          "text": [
            "Calculating similarities:   0%|          | 85/3936284628 [02:19<1585538:09:57,  1.45s/it]"
          ]
        },
        {
          "name": "stdout",
          "output_type": "stream",
          "text": [
            "i: {19744, 35605, 6821}\n",
            "j: {14274, 35491, 26438, 13932, 7310, 22833, 92891}\n"
          ]
        },
        {
          "name": "stderr",
          "output_type": "stream",
          "text": [
            "Calculating similarities:   0%|          | 86/3936284628 [02:20<1564186:02:03,  1.43s/it]"
          ]
        },
        {
          "name": "stdout",
          "output_type": "stream",
          "text": [
            "i: {19744, 35605, 6821}\n",
            "j: {47925, 47926}\n"
          ]
        },
        {
          "name": "stderr",
          "output_type": "stream",
          "text": [
            "Calculating similarities:   0%|          | 87/3936284628 [02:22<1689453:29:35,  1.55s/it]"
          ]
        },
        {
          "name": "stdout",
          "output_type": "stream",
          "text": [
            "i: {19744, 35605, 6821}\n",
            "j: {93502, 93503}\n"
          ]
        },
        {
          "name": "stderr",
          "output_type": "stream",
          "text": [
            "Calculating similarities:   0%|          | 88/3936284628 [02:23<1726257:37:54,  1.58s/it]"
          ]
        },
        {
          "name": "stdout",
          "output_type": "stream",
          "text": [
            "i: {19744, 35605, 6821}\n",
            "j: {22, 10119}\n"
          ]
        },
        {
          "name": "stderr",
          "output_type": "stream",
          "text": [
            "Calculating similarities:   0%|          | 89/3936284628 [02:25<1764126:29:42,  1.61s/it]"
          ]
        },
        {
          "name": "stdout",
          "output_type": "stream",
          "text": [
            "i: {19744, 35605, 6821}\n",
            "j: {23115, 80101}\n"
          ]
        },
        {
          "name": "stderr",
          "output_type": "stream",
          "text": [
            "Calculating similarities:   0%|          | 90/3936284628 [02:27<1770435:57:22,  1.62s/it]"
          ]
        },
        {
          "name": "stdout",
          "output_type": "stream",
          "text": [
            "i: {19744, 35605, 6821}\n",
            "j: {27208, 6043}\n"
          ]
        },
        {
          "name": "stderr",
          "output_type": "stream",
          "text": [
            "Calculating similarities:   0%|          | 91/3936284628 [02:29<1809066:42:38,  1.65s/it]"
          ]
        },
        {
          "name": "stdout",
          "output_type": "stream",
          "text": [
            "i: {19744, 35605, 6821}\n",
            "j: {127598, 127599}\n"
          ]
        },
        {
          "name": "stderr",
          "output_type": "stream",
          "text": [
            "Calculating similarities:   0%|          | 92/3936284628 [02:30<1784574:42:33,  1.63s/it]"
          ]
        },
        {
          "name": "stdout",
          "output_type": "stream",
          "text": [
            "i: {19744, 35605, 6821}\n",
            "j: {63138, 15908}\n"
          ]
        },
        {
          "name": "stderr",
          "output_type": "stream",
          "text": [
            "Calculating similarities:   0%|          | 93/3936284628 [02:32<1776319:37:21,  1.62s/it]"
          ]
        },
        {
          "name": "stdout",
          "output_type": "stream",
          "text": [
            "i: {19744, 35605, 6821}\n",
            "j: {27257, 151}\n"
          ]
        },
        {
          "name": "stderr",
          "output_type": "stream",
          "text": [
            "Calculating similarities:   0%|          | 94/3936284628 [02:33<1720806:26:54,  1.57s/it]"
          ]
        },
        {
          "name": "stdout",
          "output_type": "stream",
          "text": [
            "i: {19744, 35605, 6821}\n",
            "j: {20531, 103383}\n"
          ]
        },
        {
          "name": "stderr",
          "output_type": "stream",
          "text": [
            "Calculating similarities:   0%|          | 95/3936284628 [02:35<1909813:34:07,  1.75s/it]"
          ]
        },
        {
          "name": "stdout",
          "output_type": "stream",
          "text": [
            "i: {19744, 35605, 6821}\n",
            "j: {89428, 10244}\n"
          ]
        },
        {
          "name": "stderr",
          "output_type": "stream",
          "text": [
            "Calculating similarities:   0%|          | 96/3936284628 [02:38<2066839:32:01,  1.89s/it]"
          ]
        },
        {
          "name": "stdout",
          "output_type": "stream",
          "text": [
            "i: {19744, 35605, 6821}\n",
            "j: {45185, 78530}\n"
          ]
        },
        {
          "name": "stderr",
          "output_type": "stream",
          "text": [
            "Calculating similarities:   0%|          | 96/3936284628 [02:38<1803256:20:05,  1.65s/it]\n"
          ]
        },
        {
          "ename": "KeyboardInterrupt",
          "evalue": "",
          "output_type": "error",
          "traceback": [
            "\u001b[1;31m---------------------------------------------------------------------------\u001b[0m",
            "\u001b[1;31mKeyboardInterrupt\u001b[0m                         Traceback (most recent call last)",
            "\u001b[1;32m<ipython-input-35-2e483fca7df5>\u001b[0m in \u001b[0;36m<module>\u001b[1;34m\u001b[0m\n\u001b[1;32m----> 1\u001b[1;33m \u001b[0mmatrix_of_similarity\u001b[0m \u001b[1;33m=\u001b[0m \u001b[0mgetAllSimilaritiesBetweenClusters\u001b[0m\u001b[1;33m(\u001b[0m\u001b[0mtrain_graph\u001b[0m\u001b[1;33m,\u001b[0m \u001b[0mmain_clusters\u001b[0m\u001b[1;33m)\u001b[0m\u001b[1;33m\u001b[0m\u001b[1;33m\u001b[0m\u001b[0m\n\u001b[0m\u001b[0;32m      2\u001b[0m \u001b[0mmatrix_of_similarity\u001b[0m\u001b[1;33m\u001b[0m\u001b[1;33m\u001b[0m\u001b[0m\n",
            "\u001b[1;32m<ipython-input-34-8ddc7131e1ae>\u001b[0m in \u001b[0;36mgetAllSimilaritiesBetweenClusters\u001b[1;34m(G, clusters)\u001b[0m\n\u001b[0;32m     12\u001b[0m                 \u001b[1;32melse\u001b[0m\u001b[1;33m:\u001b[0m\u001b[1;33m\u001b[0m\u001b[1;33m\u001b[0m\u001b[0m\n\u001b[0;32m     13\u001b[0m                     \u001b[0mcommon_neighbors\u001b[0m \u001b[1;33m=\u001b[0m \u001b[0mgetCommonNeighbors\u001b[0m\u001b[1;33m(\u001b[0m\u001b[0mG\u001b[0m\u001b[1;33m,\u001b[0m \u001b[0mclusters\u001b[0m\u001b[1;33m[\u001b[0m\u001b[0mi\u001b[0m\u001b[1;33m]\u001b[0m\u001b[1;33m,\u001b[0m \u001b[0mclusters\u001b[0m\u001b[1;33m[\u001b[0m\u001b[0mj\u001b[0m\u001b[1;33m]\u001b[0m\u001b[1;33m)\u001b[0m\u001b[1;33m\u001b[0m\u001b[1;33m\u001b[0m\u001b[0m\n\u001b[1;32m---> 14\u001b[1;33m                     \u001b[0mcurrent_similarity\u001b[0m \u001b[1;33m=\u001b[0m \u001b[0mgetInterClusterSimiliarity\u001b[0m\u001b[1;33m(\u001b[0m\u001b[0mG\u001b[0m\u001b[1;33m,\u001b[0m \u001b[0mclusters\u001b[0m\u001b[1;33m[\u001b[0m\u001b[0mi\u001b[0m\u001b[1;33m]\u001b[0m\u001b[1;33m,\u001b[0m \u001b[0mclusters\u001b[0m\u001b[1;33m[\u001b[0m\u001b[0mj\u001b[0m\u001b[1;33m]\u001b[0m\u001b[1;33m,\u001b[0m \u001b[0mcommon_neighbors\u001b[0m\u001b[1;33m)\u001b[0m\u001b[1;33m\u001b[0m\u001b[1;33m\u001b[0m\u001b[0m\n\u001b[0m\u001b[0;32m     15\u001b[0m \u001b[1;33m\u001b[0m\u001b[0m\n\u001b[0;32m     16\u001b[0m                     \u001b[1;32mif\u001b[0m \u001b[0mlen\u001b[0m\u001b[1;33m(\u001b[0m\u001b[0mcommon_neighbors\u001b[0m\u001b[1;33m)\u001b[0m \u001b[1;33m==\u001b[0m \u001b[1;36m0\u001b[0m\u001b[1;33m:\u001b[0m\u001b[1;33m\u001b[0m\u001b[1;33m\u001b[0m\u001b[0m\n",
            "\u001b[1;32m<ipython-input-28-8b1997a73068>\u001b[0m in \u001b[0;36mgetInterClusterSimiliarity\u001b[1;34m(G, cl1, cl2, common_neighbors)\u001b[0m\n\u001b[0;32m      1\u001b[0m \u001b[1;31m# main function to calculate the similiarity between two clusters\u001b[0m\u001b[1;33m\u001b[0m\u001b[1;33m\u001b[0m\u001b[0m\n\u001b[0;32m      2\u001b[0m \u001b[1;32mdef\u001b[0m \u001b[0mgetInterClusterSimiliarity\u001b[0m\u001b[1;33m(\u001b[0m\u001b[0mG\u001b[0m\u001b[1;33m,\u001b[0m \u001b[0mcl1\u001b[0m\u001b[1;33m,\u001b[0m \u001b[0mcl2\u001b[0m\u001b[1;33m,\u001b[0m \u001b[0mcommon_neighbors\u001b[0m\u001b[1;33m)\u001b[0m\u001b[1;33m:\u001b[0m\u001b[1;33m\u001b[0m\u001b[1;33m\u001b[0m\u001b[0m\n\u001b[1;32m----> 3\u001b[1;33m    \u001b[0my1\u001b[0m \u001b[1;33m=\u001b[0m \u001b[0mgetClusterSimiliarity\u001b[0m\u001b[1;33m(\u001b[0m\u001b[0mG\u001b[0m\u001b[1;33m,\u001b[0m \u001b[0mcl1\u001b[0m\u001b[1;33m,\u001b[0m \u001b[0mcommon_neighbors\u001b[0m\u001b[1;33m)\u001b[0m\u001b[1;33m\u001b[0m\u001b[1;33m\u001b[0m\u001b[0m\n\u001b[0m\u001b[0;32m      4\u001b[0m    \u001b[0my2\u001b[0m \u001b[1;33m=\u001b[0m \u001b[0mgetClusterSimiliarity\u001b[0m\u001b[1;33m(\u001b[0m\u001b[0mG\u001b[0m\u001b[1;33m,\u001b[0m \u001b[0mcl2\u001b[0m\u001b[1;33m,\u001b[0m \u001b[0mcommon_neighbors\u001b[0m\u001b[1;33m)\u001b[0m\u001b[1;33m\u001b[0m\u001b[1;33m\u001b[0m\u001b[0m\n\u001b[0;32m      5\u001b[0m \u001b[1;33m\u001b[0m\u001b[0m\n",
            "\u001b[1;32m<ipython-input-27-cb9b7db99d75>\u001b[0m in \u001b[0;36mgetClusterSimiliarity\u001b[1;34m(G, source_cluster, common_neighbors, sign_tag)\u001b[0m\n\u001b[0;32m      1\u001b[0m \u001b[1;32mdef\u001b[0m \u001b[0mgetClusterSimiliarity\u001b[0m\u001b[1;33m(\u001b[0m\u001b[0mG\u001b[0m\u001b[1;33m,\u001b[0m \u001b[0msource_cluster\u001b[0m\u001b[1;33m,\u001b[0m \u001b[0mcommon_neighbors\u001b[0m\u001b[1;33m,\u001b[0m \u001b[0msign_tag\u001b[0m \u001b[1;33m=\u001b[0m \u001b[1;34m'sign'\u001b[0m\u001b[1;33m)\u001b[0m\u001b[1;33m:\u001b[0m\u001b[1;33m\u001b[0m\u001b[1;33m\u001b[0m\u001b[0m\n\u001b[0;32m      2\u001b[0m     \u001b[1;31m#print('common_neighbors: ', common_neighbors)\u001b[0m\u001b[1;33m\u001b[0m\u001b[1;33m\u001b[0m\u001b[0m\n\u001b[1;32m----> 3\u001b[1;33m     \u001b[0msign_map\u001b[0m \u001b[1;33m=\u001b[0m \u001b[0mnx\u001b[0m\u001b[1;33m.\u001b[0m\u001b[0mget_edge_attributes\u001b[0m\u001b[1;33m(\u001b[0m\u001b[0mG\u001b[0m\u001b[1;33m,\u001b[0m \u001b[0msign_tag\u001b[0m\u001b[1;33m)\u001b[0m\u001b[1;33m\u001b[0m\u001b[1;33m\u001b[0m\u001b[0m\n\u001b[0m\u001b[0;32m      4\u001b[0m     \u001b[0mepsilon\u001b[0m \u001b[1;33m=\u001b[0m \u001b[1;36m10\u001b[0m \u001b[1;33m**\u001b[0m \u001b[1;33m(\u001b[0m\u001b[1;33m-\u001b[0m\u001b[1;36m5\u001b[0m\u001b[1;33m)\u001b[0m\u001b[1;33m\u001b[0m\u001b[1;33m\u001b[0m\u001b[0m\n\u001b[0;32m      5\u001b[0m     \u001b[0my\u001b[0m \u001b[1;33m=\u001b[0m \u001b[1;33m[\u001b[0m\u001b[1;33m]\u001b[0m\u001b[1;33m\u001b[0m\u001b[1;33m\u001b[0m\u001b[0m\n",
            "\u001b[1;32m~\\AppData\\Local\\Packages\\PythonSoftwareFoundation.Python.3.9_qbz5n2kfra8p0\\LocalCache\\local-packages\\Python39\\site-packages\\networkx\\classes\\function.py\u001b[0m in \u001b[0;36mget_edge_attributes\u001b[1;34m(G, name)\u001b[0m\n\u001b[0;32m    843\u001b[0m     \u001b[1;32melse\u001b[0m\u001b[1;33m:\u001b[0m\u001b[1;33m\u001b[0m\u001b[1;33m\u001b[0m\u001b[0m\n\u001b[0;32m    844\u001b[0m         \u001b[0medges\u001b[0m \u001b[1;33m=\u001b[0m \u001b[0mG\u001b[0m\u001b[1;33m.\u001b[0m\u001b[0medges\u001b[0m\u001b[1;33m(\u001b[0m\u001b[0mdata\u001b[0m\u001b[1;33m=\u001b[0m\u001b[1;32mTrue\u001b[0m\u001b[1;33m)\u001b[0m\u001b[1;33m\u001b[0m\u001b[1;33m\u001b[0m\u001b[0m\n\u001b[1;32m--> 845\u001b[1;33m     \u001b[1;32mreturn\u001b[0m \u001b[1;33m{\u001b[0m\u001b[0mx\u001b[0m\u001b[1;33m[\u001b[0m\u001b[1;33m:\u001b[0m\u001b[1;33m-\u001b[0m\u001b[1;36m1\u001b[0m\u001b[1;33m]\u001b[0m\u001b[1;33m:\u001b[0m \u001b[0mx\u001b[0m\u001b[1;33m[\u001b[0m\u001b[1;33m-\u001b[0m\u001b[1;36m1\u001b[0m\u001b[1;33m]\u001b[0m\u001b[1;33m[\u001b[0m\u001b[0mname\u001b[0m\u001b[1;33m]\u001b[0m \u001b[1;32mfor\u001b[0m \u001b[0mx\u001b[0m \u001b[1;32min\u001b[0m \u001b[0medges\u001b[0m \u001b[1;32mif\u001b[0m \u001b[0mname\u001b[0m \u001b[1;32min\u001b[0m \u001b[0mx\u001b[0m\u001b[1;33m[\u001b[0m\u001b[1;33m-\u001b[0m\u001b[1;36m1\u001b[0m\u001b[1;33m]\u001b[0m\u001b[1;33m}\u001b[0m\u001b[1;33m\u001b[0m\u001b[1;33m\u001b[0m\u001b[0m\n\u001b[0m\u001b[0;32m    846\u001b[0m \u001b[1;33m\u001b[0m\u001b[0m\n\u001b[0;32m    847\u001b[0m \u001b[1;33m\u001b[0m\u001b[0m\n",
            "\u001b[1;32m~\\AppData\\Local\\Packages\\PythonSoftwareFoundation.Python.3.9_qbz5n2kfra8p0\\LocalCache\\local-packages\\Python39\\site-packages\\networkx\\classes\\function.py\u001b[0m in \u001b[0;36m<dictcomp>\u001b[1;34m(.0)\u001b[0m\n\u001b[0;32m    843\u001b[0m     \u001b[1;32melse\u001b[0m\u001b[1;33m:\u001b[0m\u001b[1;33m\u001b[0m\u001b[1;33m\u001b[0m\u001b[0m\n\u001b[0;32m    844\u001b[0m         \u001b[0medges\u001b[0m \u001b[1;33m=\u001b[0m \u001b[0mG\u001b[0m\u001b[1;33m.\u001b[0m\u001b[0medges\u001b[0m\u001b[1;33m(\u001b[0m\u001b[0mdata\u001b[0m\u001b[1;33m=\u001b[0m\u001b[1;32mTrue\u001b[0m\u001b[1;33m)\u001b[0m\u001b[1;33m\u001b[0m\u001b[1;33m\u001b[0m\u001b[0m\n\u001b[1;32m--> 845\u001b[1;33m     \u001b[1;32mreturn\u001b[0m \u001b[1;33m{\u001b[0m\u001b[0mx\u001b[0m\u001b[1;33m[\u001b[0m\u001b[1;33m:\u001b[0m\u001b[1;33m-\u001b[0m\u001b[1;36m1\u001b[0m\u001b[1;33m]\u001b[0m\u001b[1;33m:\u001b[0m \u001b[0mx\u001b[0m\u001b[1;33m[\u001b[0m\u001b[1;33m-\u001b[0m\u001b[1;36m1\u001b[0m\u001b[1;33m]\u001b[0m\u001b[1;33m[\u001b[0m\u001b[0mname\u001b[0m\u001b[1;33m]\u001b[0m \u001b[1;32mfor\u001b[0m \u001b[0mx\u001b[0m \u001b[1;32min\u001b[0m \u001b[0medges\u001b[0m \u001b[1;32mif\u001b[0m \u001b[0mname\u001b[0m \u001b[1;32min\u001b[0m \u001b[0mx\u001b[0m\u001b[1;33m[\u001b[0m\u001b[1;33m-\u001b[0m\u001b[1;36m1\u001b[0m\u001b[1;33m]\u001b[0m\u001b[1;33m}\u001b[0m\u001b[1;33m\u001b[0m\u001b[1;33m\u001b[0m\u001b[0m\n\u001b[0m\u001b[0;32m    846\u001b[0m \u001b[1;33m\u001b[0m\u001b[0m\n\u001b[0;32m    847\u001b[0m \u001b[1;33m\u001b[0m\u001b[0m\n",
            "\u001b[1;31mKeyboardInterrupt\u001b[0m: "
          ]
        }
      ],
      "source": [
        "matrix_of_similarity = getAllSimilaritiesBetweenClusters(train_graph, main_clusters)\n",
        "matrix_of_similarity"
      ]
    },
    {
      "cell_type": "code",
      "execution_count": 57,
      "id": "0cb4e156",
      "metadata": {
        "id": "0cb4e156"
      },
      "outputs": [],
      "source": [
        "def signPrediction(G, main_clusters, all_similiarities, k, u, v, threshold, w1, sign_tag = \"sign\"):\n",
        "    sign_map = nx.get_edge_attributes(G, sign_tag)\n",
        "    #main_clusters = getClusters(G, k)\n",
        "    \n",
        "    u_c = locationOfANode(main_clusters, u)\n",
        "    u_v = locationOfANode(main_clusters, v)\n",
        "    cl1 = main_clusters[u_c]\n",
        "    cl2 = main_clusters[u_v]\n",
        "    #s_AB = getCommonNeighbors(G, cl1, cl2)\n",
        "    #print(s_AB)\n",
        "    S = getNeighborsOfANode(G, v)\n",
        "    S_c = locationOfArrayOfNode(main_clusters, S)\n",
        "    n = len(S)\n",
        "    x = np.zeros(n)\n",
        "    for i in range(n):\n",
        "        #x[i] = getInterClusterSimiliarity(main_clusters[u_c], main_clusters[int(S_c[i])], s_AB)\n",
        "        x[i] = all_similiarities[u_c][int(S_c[i])]\n",
        "        #print('main_clusters_u_c: ', main_clusters[u_c])\n",
        "        #print('main_clusters_int: ', main_clusters[int(S_c[i])])\n",
        "        #print('s_AB: ', s_AB)\n",
        "        #print('x[i]' , x[i]  )\n",
        "        \n",
        "        # if locationOfANode(main_clusters, u) == locationOfANode(main_clusters, S_c[i]):\n",
        "        #     x[i] = w1 * x[i]\n",
        "        # else:\n",
        "        #     x[i] = (1 - w1) * x[i]\n",
        "        \n",
        "    r = np.zeros(n)\n",
        "    for i in range(n):\n",
        "        r[i] = sign_map[(S[i], v)]\n",
        "    #print('x: ', x)\n",
        "    #print('r: ', r)\n",
        "    #if (np.sum(x) == 0):\n",
        "    #    print('it is zero')\n",
        "    epsilon = 10 ** (-5)\n",
        "    #result = (np.dot(x.T, r)) / (np.sum(x) + epsilon)\n",
        "    result = (np.dot(x.T, r)) / (np.sum(x))\n",
        "    if result > threshold:\n",
        "        return 1\n",
        "    else:\n",
        "        return -1"
      ]
    },
    {
      "cell_type": "code",
      "execution_count": 48,
      "id": "b7784493",
      "metadata": {},
      "outputs": [
        {
          "name": "stderr",
          "output_type": "stream",
          "text": [
            "C:\\Users\\Alireza\\AppData\\Local\\Packages\\PythonSoftwareFoundation.Python.3.9_qbz5n2kfra8p0\\LocalCache\\local-packages\\Python39\\site-packages\\tqdm\\auto.py:21: TqdmWarning: IProgress not found. Please update jupyter and ipywidgets. See https://ipywidgets.readthedocs.io/en/stable/user_install.html\n",
            "  from .autonotebook import tqdm as notebook_tqdm\n"
          ]
        }
      ],
      "source": [
        "from tqdm.auto import tqdm"
      ]
    },
    {
      "cell_type": "code",
      "execution_count": 43,
      "id": "ec8bd279",
      "metadata": {
        "id": "ec8bd279"
      },
      "outputs": [],
      "source": [
        "# # Create a new column 'sign prediction' in test_df with sign predictions\n",
        "# def calculateSignPredictions(train_graph, main_clusters, test_df):\n",
        "#     with tqdm(total=len(test_df), desc=\"Calculating sign predictions\", bar_format='{l_bar}{bar:10}{r_bar}{bar:-10b}') as pbar:\n",
        "#         test_df['sign prediction'] = test_df.apply(lambda row: signPrediction(train_graph, main_clusters, matrix_of_similarity, 5, row['source'], row['target'], 0, 0.75), axis=1)\n",
        "#         pbar.update(len(test_df))  # Update the progress bar to complete\n",
        "\n",
        "#     return test_df\n"
      ]
    },
    {
      "cell_type": "code",
      "execution_count": 64,
      "id": "7b770bf8",
      "metadata": {},
      "outputs": [],
      "source": [
        "# Create a new column 'sign prediction' in test_df with sign predictions\n",
        "def calculateSignPredictions(train_graph, main_clusters, test_df, w):\n",
        "    new_test_df = test_df.copy()\n",
        "    tqdm.pandas()\n",
        "    new_test_df['sign prediction'] = new_test_df.progress_apply(lambda row: signPrediction(train_graph, main_clusters, matrix_of_similarity, 5, row['source'], row['target'], 0, w), axis=1)\n",
        "    return new_test_df\n"
      ]
    },
    {
      "cell_type": "code",
      "execution_count": 54,
      "id": "cd8ae6dd",
      "metadata": {
        "id": "cd8ae6dd",
        "scrolled": false
      },
      "outputs": [
        {
          "name": "stderr",
          "output_type": "stream",
          "text": [
            " 63%|██████▎   | 67/107 [03:27<00:39,  1.02it/s]<ipython-input-37-43a853b88aaa>:37: RuntimeWarning: invalid value encountered in double_scalars\n",
            "  result = (np.dot(x.T, r)) / (np.sum(x))\n",
            "100%|██████████| 107/107 [04:05<00:00,  2.30s/it]\n"
          ]
        }
      ],
      "source": [
        "# zz = np.zeros(test_df.shape[0])\n",
        "# # Call the function with the required parameters\n",
        "# new_test_df = calculateSignPredictions(train_graph, main_clusters, test_df, 0.75)\n",
        "# confusion_matrix(new_test_df['sign'], new_test_df['sign prediction'])\n",
        "# acc_temp = accuracy_score(new_test_df['sign'], new_test_df['sign prediction'],  normalize=True, sample_weight=None)\n",
        "# f_temp = f1_score(new_test_df['sign'], new_test_df['sign prediction'])"
      ]
    },
    {
      "cell_type": "code",
      "execution_count": 55,
      "id": "197eef23",
      "metadata": {
        "id": "197eef23"
      },
      "outputs": [
        {
          "name": "stdout",
          "output_type": "stream",
          "text": [
            "0.8878504672897196\n",
            "0.9325842696629213\n"
          ]
        }
      ],
      "source": [
        "# print(acc_temp)\n",
        "# print(f_temp)"
      ]
    },
    {
      "cell_type": "code",
      "execution_count": 56,
      "id": "e5dc47b9",
      "metadata": {
        "id": "e5dc47b9"
      },
      "outputs": [
        {
          "data": {
            "image/png": "[encoded data removed]",
            "text/plain": [
              "<Figure size 432x288 with 1 Axes>"
            ]
          },
          "metadata": {
            "needs_background": "light"
          },
          "output_type": "display_data"
        }
      ],
      "source": [
        "# plt.hist(test_df['sign'])\n",
        "\n",
        "# # Set the labels and title of the histogram\n",
        "# plt.xlabel('Sign')\n",
        "# plt.ylabel('Frequency')\n",
        "# plt.title('Histogram of Sign Values')\n",
        "\n",
        "# # Display the histogram\n",
        "# plt.show()\n",
        "\n",
        "\n"
      ]
    },
    {
      "cell_type": "code",
      "execution_count": 71,
      "id": "97d16830",
      "metadata": {
        "id": "97d16830"
      },
      "outputs": [
        {
          "name": "stderr",
          "output_type": "stream",
          "text": [
            " 63%|██████▎   | 67/107 [08:42<01:17,  1.94s/it]<ipython-input-57-6daae620cf7a>:37: RuntimeWarning: invalid value encountered in double_scalars\n",
            "  result = (np.dot(x.T, r)) / (np.sum(x))\n",
            "100%|██████████| 107/107 [09:59<00:00,  5.60s/it]\n"
          ]
        },
        {
          "name": "stdout",
          "output_type": "stream",
          "text": [
            "acc: 0.8878504672897196 f1: 0.9325842696629213\n"
          ]
        },
        {
          "name": "stderr",
          "output_type": "stream",
          "text": [
            " 63%|██████▎   | 67/107 [08:30<01:15,  1.88s/it]<ipython-input-57-6daae620cf7a>:37: RuntimeWarning: invalid value encountered in double_scalars\n",
            "  result = (np.dot(x.T, r)) / (np.sum(x))\n",
            "100%|██████████| 107/107 [09:45<00:00,  5.47s/it]\n"
          ]
        },
        {
          "name": "stdout",
          "output_type": "stream",
          "text": [
            "acc: 0.8878504672897196 f1: 0.9325842696629213\n"
          ]
        },
        {
          "name": "stderr",
          "output_type": "stream",
          "text": [
            "  2%|▏         | 2/107 [00:41<35:58, 20.55s/it]\n"
          ]
        },
        {
          "ename": "KeyboardInterrupt",
          "evalue": "",
          "output_type": "error",
          "traceback": [
            "\u001b[1;31m---------------------------------------------------------------------------\u001b[0m",
            "\u001b[1;31mKeyboardInterrupt\u001b[0m                         Traceback (most recent call last)",
            "\u001b[1;32m<ipython-input-71-14202f4d52da>\u001b[0m in \u001b[0;36m<module>\u001b[1;34m\u001b[0m\n\u001b[0;32m      4\u001b[0m \u001b[0mf_y\u001b[0m \u001b[1;33m=\u001b[0m \u001b[1;33m[\u001b[0m\u001b[1;33m]\u001b[0m\u001b[1;33m\u001b[0m\u001b[1;33m\u001b[0m\u001b[0m\n\u001b[0;32m      5\u001b[0m \u001b[1;32mfor\u001b[0m \u001b[0mw\u001b[0m \u001b[1;32min\u001b[0m \u001b[1;33m[\u001b[0m\u001b[1;36m0.1\u001b[0m\u001b[1;33m,\u001b[0m \u001b[1;36m0.3\u001b[0m\u001b[1;33m,\u001b[0m \u001b[1;36m0.5\u001b[0m\u001b[1;33m,\u001b[0m \u001b[1;36m0.7\u001b[0m\u001b[1;33m,\u001b[0m \u001b[1;36m0.9\u001b[0m\u001b[1;33m,\u001b[0m \u001b[1;36m1\u001b[0m\u001b[1;33m]\u001b[0m\u001b[1;33m:\u001b[0m\u001b[1;33m\u001b[0m\u001b[1;33m\u001b[0m\u001b[0m\n\u001b[1;32m----> 6\u001b[1;33m     \u001b[0mnew_test_df\u001b[0m \u001b[1;33m=\u001b[0m \u001b[0mcalculateSignPredictions\u001b[0m\u001b[1;33m(\u001b[0m\u001b[0mtrain_graph\u001b[0m\u001b[1;33m,\u001b[0m \u001b[0mmain_clusters\u001b[0m\u001b[1;33m,\u001b[0m \u001b[0mtest_df\u001b[0m\u001b[1;33m,\u001b[0m \u001b[0mw\u001b[0m\u001b[1;33m)\u001b[0m\u001b[1;33m\u001b[0m\u001b[1;33m\u001b[0m\u001b[0m\n\u001b[0m\u001b[0;32m      7\u001b[0m     \u001b[0mconfusion_matrix\u001b[0m\u001b[1;33m(\u001b[0m\u001b[0mnew_test_df\u001b[0m\u001b[1;33m[\u001b[0m\u001b[1;34m'sign'\u001b[0m\u001b[1;33m]\u001b[0m\u001b[1;33m,\u001b[0m \u001b[0mnew_test_df\u001b[0m\u001b[1;33m[\u001b[0m\u001b[1;34m'sign prediction'\u001b[0m\u001b[1;33m]\u001b[0m\u001b[1;33m)\u001b[0m\u001b[1;33m\u001b[0m\u001b[1;33m\u001b[0m\u001b[0m\n\u001b[0;32m      8\u001b[0m     \u001b[0macc_temp\u001b[0m \u001b[1;33m=\u001b[0m \u001b[0maccuracy_score\u001b[0m\u001b[1;33m(\u001b[0m\u001b[0mnew_test_df\u001b[0m\u001b[1;33m[\u001b[0m\u001b[1;34m'sign'\u001b[0m\u001b[1;33m]\u001b[0m\u001b[1;33m,\u001b[0m \u001b[0mnew_test_df\u001b[0m\u001b[1;33m[\u001b[0m\u001b[1;34m'sign prediction'\u001b[0m\u001b[1;33m]\u001b[0m\u001b[1;33m,\u001b[0m  \u001b[0mnormalize\u001b[0m\u001b[1;33m=\u001b[0m\u001b[1;32mTrue\u001b[0m\u001b[1;33m,\u001b[0m \u001b[0msample_weight\u001b[0m\u001b[1;33m=\u001b[0m\u001b[1;32mNone\u001b[0m\u001b[1;33m)\u001b[0m\u001b[1;33m\u001b[0m\u001b[1;33m\u001b[0m\u001b[0m\n",
            "\u001b[1;32m<ipython-input-64-c514d2119692>\u001b[0m in \u001b[0;36mcalculateSignPredictions\u001b[1;34m(train_graph, main_clusters, test_df, w)\u001b[0m\n\u001b[0;32m      3\u001b[0m     \u001b[0mnew_test_df\u001b[0m \u001b[1;33m=\u001b[0m \u001b[0mtest_df\u001b[0m\u001b[1;33m.\u001b[0m\u001b[0mcopy\u001b[0m\u001b[1;33m(\u001b[0m\u001b[1;33m)\u001b[0m\u001b[1;33m\u001b[0m\u001b[1;33m\u001b[0m\u001b[0m\n\u001b[0;32m      4\u001b[0m     \u001b[0mtqdm\u001b[0m\u001b[1;33m.\u001b[0m\u001b[0mpandas\u001b[0m\u001b[1;33m(\u001b[0m\u001b[1;33m)\u001b[0m\u001b[1;33m\u001b[0m\u001b[1;33m\u001b[0m\u001b[0m\n\u001b[1;32m----> 5\u001b[1;33m     \u001b[0mnew_test_df\u001b[0m\u001b[1;33m[\u001b[0m\u001b[1;34m'sign prediction'\u001b[0m\u001b[1;33m]\u001b[0m \u001b[1;33m=\u001b[0m \u001b[0mnew_test_df\u001b[0m\u001b[1;33m.\u001b[0m\u001b[0mprogress_apply\u001b[0m\u001b[1;33m(\u001b[0m\u001b[1;32mlambda\u001b[0m \u001b[0mrow\u001b[0m\u001b[1;33m:\u001b[0m \u001b[0msignPrediction\u001b[0m\u001b[1;33m(\u001b[0m\u001b[0mtrain_graph\u001b[0m\u001b[1;33m,\u001b[0m \u001b[0mmain_clusters\u001b[0m\u001b[1;33m,\u001b[0m \u001b[0mmatrix_of_similarity\u001b[0m\u001b[1;33m,\u001b[0m \u001b[1;36m5\u001b[0m\u001b[1;33m,\u001b[0m \u001b[0mrow\u001b[0m\u001b[1;33m[\u001b[0m\u001b[1;34m'source'\u001b[0m\u001b[1;33m]\u001b[0m\u001b[1;33m,\u001b[0m \u001b[0mrow\u001b[0m\u001b[1;33m[\u001b[0m\u001b[1;34m'target'\u001b[0m\u001b[1;33m]\u001b[0m\u001b[1;33m,\u001b[0m \u001b[1;36m0\u001b[0m\u001b[1;33m,\u001b[0m \u001b[0mw\u001b[0m\u001b[1;33m)\u001b[0m\u001b[1;33m,\u001b[0m \u001b[0maxis\u001b[0m\u001b[1;33m=\u001b[0m\u001b[1;36m1\u001b[0m\u001b[1;33m)\u001b[0m\u001b[1;33m\u001b[0m\u001b[1;33m\u001b[0m\u001b[0m\n\u001b[0m\u001b[0;32m      6\u001b[0m     \u001b[1;32mreturn\u001b[0m \u001b[0mnew_test_df\u001b[0m\u001b[1;33m\u001b[0m\u001b[1;33m\u001b[0m\u001b[0m\n",
            "\u001b[1;32m~\\AppData\\Local\\Packages\\PythonSoftwareFoundation.Python.3.9_qbz5n2kfra8p0\\LocalCache\\local-packages\\Python39\\site-packages\\tqdm\\std.py\u001b[0m in \u001b[0;36minner\u001b[1;34m(df, func, *args, **kwargs)\u001b[0m\n\u001b[0;32m    803\u001b[0m                 \u001b[1;31m# on the df using our wrapper (which provides bar updating)\u001b[0m\u001b[1;33m\u001b[0m\u001b[1;33m\u001b[0m\u001b[0m\n\u001b[0;32m    804\u001b[0m                 \u001b[1;32mtry\u001b[0m\u001b[1;33m:\u001b[0m\u001b[1;33m\u001b[0m\u001b[1;33m\u001b[0m\u001b[0m\n\u001b[1;32m--> 805\u001b[1;33m                     \u001b[1;32mreturn\u001b[0m \u001b[0mgetattr\u001b[0m\u001b[1;33m(\u001b[0m\u001b[0mdf\u001b[0m\u001b[1;33m,\u001b[0m \u001b[0mdf_function\u001b[0m\u001b[1;33m)\u001b[0m\u001b[1;33m(\u001b[0m\u001b[0mwrapper\u001b[0m\u001b[1;33m,\u001b[0m \u001b[1;33m**\u001b[0m\u001b[0mkwargs\u001b[0m\u001b[1;33m)\u001b[0m\u001b[1;33m\u001b[0m\u001b[1;33m\u001b[0m\u001b[0m\n\u001b[0m\u001b[0;32m    806\u001b[0m                 \u001b[1;32mfinally\u001b[0m\u001b[1;33m:\u001b[0m\u001b[1;33m\u001b[0m\u001b[1;33m\u001b[0m\u001b[0m\n\u001b[0;32m    807\u001b[0m                     \u001b[0mt\u001b[0m\u001b[1;33m.\u001b[0m\u001b[0mclose\u001b[0m\u001b[1;33m(\u001b[0m\u001b[1;33m)\u001b[0m\u001b[1;33m\u001b[0m\u001b[1;33m\u001b[0m\u001b[0m\n",
            "\u001b[1;32m~\\AppData\\Local\\Packages\\PythonSoftwareFoundation.Python.3.9_qbz5n2kfra8p0\\LocalCache\\local-packages\\Python39\\site-packages\\pandas\\core\\frame.py\u001b[0m in \u001b[0;36mapply\u001b[1;34m(self, func, axis, raw, result_type, args, **kwds)\u001b[0m\n\u001b[0;32m   7766\u001b[0m             \u001b[0mkwds\u001b[0m\u001b[1;33m=\u001b[0m\u001b[0mkwds\u001b[0m\u001b[1;33m,\u001b[0m\u001b[1;33m\u001b[0m\u001b[1;33m\u001b[0m\u001b[0m\n\u001b[0;32m   7767\u001b[0m         )\n\u001b[1;32m-> 7768\u001b[1;33m         \u001b[1;32mreturn\u001b[0m \u001b[0mop\u001b[0m\u001b[1;33m.\u001b[0m\u001b[0mget_result\u001b[0m\u001b[1;33m(\u001b[0m\u001b[1;33m)\u001b[0m\u001b[1;33m\u001b[0m\u001b[1;33m\u001b[0m\u001b[0m\n\u001b[0m\u001b[0;32m   7769\u001b[0m \u001b[1;33m\u001b[0m\u001b[0m\n\u001b[0;32m   7770\u001b[0m     \u001b[1;32mdef\u001b[0m \u001b[0mapplymap\u001b[0m\u001b[1;33m(\u001b[0m\u001b[0mself\u001b[0m\u001b[1;33m,\u001b[0m \u001b[0mfunc\u001b[0m\u001b[1;33m,\u001b[0m \u001b[0mna_action\u001b[0m\u001b[1;33m:\u001b[0m \u001b[0mOptional\u001b[0m\u001b[1;33m[\u001b[0m\u001b[0mstr\u001b[0m\u001b[1;33m]\u001b[0m \u001b[1;33m=\u001b[0m \u001b[1;32mNone\u001b[0m\u001b[1;33m)\u001b[0m \u001b[1;33m->\u001b[0m \u001b[0mDataFrame\u001b[0m\u001b[1;33m:\u001b[0m\u001b[1;33m\u001b[0m\u001b[1;33m\u001b[0m\u001b[0m\n",
            "\u001b[1;32m~\\AppData\\Local\\Packages\\PythonSoftwareFoundation.Python.3.9_qbz5n2kfra8p0\\LocalCache\\local-packages\\Python39\\site-packages\\pandas\\core\\apply.py\u001b[0m in \u001b[0;36mget_result\u001b[1;34m(self)\u001b[0m\n\u001b[0;32m    183\u001b[0m             \u001b[1;32mreturn\u001b[0m \u001b[0mself\u001b[0m\u001b[1;33m.\u001b[0m\u001b[0mapply_raw\u001b[0m\u001b[1;33m(\u001b[0m\u001b[1;33m)\u001b[0m\u001b[1;33m\u001b[0m\u001b[1;33m\u001b[0m\u001b[0m\n\u001b[0;32m    184\u001b[0m \u001b[1;33m\u001b[0m\u001b[0m\n\u001b[1;32m--> 185\u001b[1;33m         \u001b[1;32mreturn\u001b[0m \u001b[0mself\u001b[0m\u001b[1;33m.\u001b[0m\u001b[0mapply_standard\u001b[0m\u001b[1;33m(\u001b[0m\u001b[1;33m)\u001b[0m\u001b[1;33m\u001b[0m\u001b[1;33m\u001b[0m\u001b[0m\n\u001b[0m\u001b[0;32m    186\u001b[0m \u001b[1;33m\u001b[0m\u001b[0m\n\u001b[0;32m    187\u001b[0m     \u001b[1;32mdef\u001b[0m \u001b[0mapply_empty_result\u001b[0m\u001b[1;33m(\u001b[0m\u001b[0mself\u001b[0m\u001b[1;33m)\u001b[0m\u001b[1;33m:\u001b[0m\u001b[1;33m\u001b[0m\u001b[1;33m\u001b[0m\u001b[0m\n",
            "\u001b[1;32m~\\AppData\\Local\\Packages\\PythonSoftwareFoundation.Python.3.9_qbz5n2kfra8p0\\LocalCache\\local-packages\\Python39\\site-packages\\pandas\\core\\apply.py\u001b[0m in \u001b[0;36mapply_standard\u001b[1;34m(self)\u001b[0m\n\u001b[0;32m    274\u001b[0m \u001b[1;33m\u001b[0m\u001b[0m\n\u001b[0;32m    275\u001b[0m     \u001b[1;32mdef\u001b[0m \u001b[0mapply_standard\u001b[0m\u001b[1;33m(\u001b[0m\u001b[0mself\u001b[0m\u001b[1;33m)\u001b[0m\u001b[1;33m:\u001b[0m\u001b[1;33m\u001b[0m\u001b[1;33m\u001b[0m\u001b[0m\n\u001b[1;32m--> 276\u001b[1;33m         \u001b[0mresults\u001b[0m\u001b[1;33m,\u001b[0m \u001b[0mres_index\u001b[0m \u001b[1;33m=\u001b[0m \u001b[0mself\u001b[0m\u001b[1;33m.\u001b[0m\u001b[0mapply_series_generator\u001b[0m\u001b[1;33m(\u001b[0m\u001b[1;33m)\u001b[0m\u001b[1;33m\u001b[0m\u001b[1;33m\u001b[0m\u001b[0m\n\u001b[0m\u001b[0;32m    277\u001b[0m \u001b[1;33m\u001b[0m\u001b[0m\n\u001b[0;32m    278\u001b[0m         \u001b[1;31m# wrap results\u001b[0m\u001b[1;33m\u001b[0m\u001b[1;33m\u001b[0m\u001b[0m\n",
            "\u001b[1;32m~\\AppData\\Local\\Packages\\PythonSoftwareFoundation.Python.3.9_qbz5n2kfra8p0\\LocalCache\\local-packages\\Python39\\site-packages\\pandas\\core\\apply.py\u001b[0m in \u001b[0;36mapply_series_generator\u001b[1;34m(self)\u001b[0m\n\u001b[0;32m    288\u001b[0m             \u001b[1;32mfor\u001b[0m \u001b[0mi\u001b[0m\u001b[1;33m,\u001b[0m \u001b[0mv\u001b[0m \u001b[1;32min\u001b[0m \u001b[0menumerate\u001b[0m\u001b[1;33m(\u001b[0m\u001b[0mseries_gen\u001b[0m\u001b[1;33m)\u001b[0m\u001b[1;33m:\u001b[0m\u001b[1;33m\u001b[0m\u001b[1;33m\u001b[0m\u001b[0m\n\u001b[0;32m    289\u001b[0m                 \u001b[1;31m# ignore SettingWithCopy here in case the user mutates\u001b[0m\u001b[1;33m\u001b[0m\u001b[1;33m\u001b[0m\u001b[0m\n\u001b[1;32m--> 290\u001b[1;33m                 \u001b[0mresults\u001b[0m\u001b[1;33m[\u001b[0m\u001b[0mi\u001b[0m\u001b[1;33m]\u001b[0m \u001b[1;33m=\u001b[0m \u001b[0mself\u001b[0m\u001b[1;33m.\u001b[0m\u001b[0mf\u001b[0m\u001b[1;33m(\u001b[0m\u001b[0mv\u001b[0m\u001b[1;33m)\u001b[0m\u001b[1;33m\u001b[0m\u001b[1;33m\u001b[0m\u001b[0m\n\u001b[0m\u001b[0;32m    291\u001b[0m                 \u001b[1;32mif\u001b[0m \u001b[0misinstance\u001b[0m\u001b[1;33m(\u001b[0m\u001b[0mresults\u001b[0m\u001b[1;33m[\u001b[0m\u001b[0mi\u001b[0m\u001b[1;33m]\u001b[0m\u001b[1;33m,\u001b[0m \u001b[0mABCSeries\u001b[0m\u001b[1;33m)\u001b[0m\u001b[1;33m:\u001b[0m\u001b[1;33m\u001b[0m\u001b[1;33m\u001b[0m\u001b[0m\n\u001b[0;32m    292\u001b[0m                     \u001b[1;31m# If we have a view on v, we need to make a copy because\u001b[0m\u001b[1;33m\u001b[0m\u001b[1;33m\u001b[0m\u001b[0m\n",
            "\u001b[1;32m~\\AppData\\Local\\Packages\\PythonSoftwareFoundation.Python.3.9_qbz5n2kfra8p0\\LocalCache\\local-packages\\Python39\\site-packages\\tqdm\\std.py\u001b[0m in \u001b[0;36mwrapper\u001b[1;34m(*args, **kwargs)\u001b[0m\n\u001b[0;32m    798\u001b[0m                     \u001b[1;31m# take a fast or slow code path; so stop when t.total==t.n\u001b[0m\u001b[1;33m\u001b[0m\u001b[1;33m\u001b[0m\u001b[0m\n\u001b[0;32m    799\u001b[0m                     \u001b[0mt\u001b[0m\u001b[1;33m.\u001b[0m\u001b[0mupdate\u001b[0m\u001b[1;33m(\u001b[0m\u001b[0mn\u001b[0m\u001b[1;33m=\u001b[0m\u001b[1;36m1\u001b[0m \u001b[1;32mif\u001b[0m \u001b[1;32mnot\u001b[0m \u001b[0mt\u001b[0m\u001b[1;33m.\u001b[0m\u001b[0mtotal\u001b[0m \u001b[1;32mor\u001b[0m \u001b[0mt\u001b[0m\u001b[1;33m.\u001b[0m\u001b[0mn\u001b[0m \u001b[1;33m<\u001b[0m \u001b[0mt\u001b[0m\u001b[1;33m.\u001b[0m\u001b[0mtotal\u001b[0m \u001b[1;32melse\u001b[0m \u001b[1;36m0\u001b[0m\u001b[1;33m)\u001b[0m\u001b[1;33m\u001b[0m\u001b[1;33m\u001b[0m\u001b[0m\n\u001b[1;32m--> 800\u001b[1;33m                     \u001b[1;32mreturn\u001b[0m \u001b[0mfunc\u001b[0m\u001b[1;33m(\u001b[0m\u001b[1;33m*\u001b[0m\u001b[0margs\u001b[0m\u001b[1;33m,\u001b[0m \u001b[1;33m**\u001b[0m\u001b[0mkwargs\u001b[0m\u001b[1;33m)\u001b[0m\u001b[1;33m\u001b[0m\u001b[1;33m\u001b[0m\u001b[0m\n\u001b[0m\u001b[0;32m    801\u001b[0m \u001b[1;33m\u001b[0m\u001b[0m\n\u001b[0;32m    802\u001b[0m                 \u001b[1;31m# Apply the provided function (in **kwargs)\u001b[0m\u001b[1;33m\u001b[0m\u001b[1;33m\u001b[0m\u001b[0m\n",
            "\u001b[1;32m<ipython-input-64-c514d2119692>\u001b[0m in \u001b[0;36m<lambda>\u001b[1;34m(row)\u001b[0m\n\u001b[0;32m      3\u001b[0m     \u001b[0mnew_test_df\u001b[0m \u001b[1;33m=\u001b[0m \u001b[0mtest_df\u001b[0m\u001b[1;33m.\u001b[0m\u001b[0mcopy\u001b[0m\u001b[1;33m(\u001b[0m\u001b[1;33m)\u001b[0m\u001b[1;33m\u001b[0m\u001b[1;33m\u001b[0m\u001b[0m\n\u001b[0;32m      4\u001b[0m     \u001b[0mtqdm\u001b[0m\u001b[1;33m.\u001b[0m\u001b[0mpandas\u001b[0m\u001b[1;33m(\u001b[0m\u001b[1;33m)\u001b[0m\u001b[1;33m\u001b[0m\u001b[1;33m\u001b[0m\u001b[0m\n\u001b[1;32m----> 5\u001b[1;33m     \u001b[0mnew_test_df\u001b[0m\u001b[1;33m[\u001b[0m\u001b[1;34m'sign prediction'\u001b[0m\u001b[1;33m]\u001b[0m \u001b[1;33m=\u001b[0m \u001b[0mnew_test_df\u001b[0m\u001b[1;33m.\u001b[0m\u001b[0mprogress_apply\u001b[0m\u001b[1;33m(\u001b[0m\u001b[1;32mlambda\u001b[0m \u001b[0mrow\u001b[0m\u001b[1;33m:\u001b[0m \u001b[0msignPrediction\u001b[0m\u001b[1;33m(\u001b[0m\u001b[0mtrain_graph\u001b[0m\u001b[1;33m,\u001b[0m \u001b[0mmain_clusters\u001b[0m\u001b[1;33m,\u001b[0m \u001b[0mmatrix_of_similarity\u001b[0m\u001b[1;33m,\u001b[0m \u001b[1;36m5\u001b[0m\u001b[1;33m,\u001b[0m \u001b[0mrow\u001b[0m\u001b[1;33m[\u001b[0m\u001b[1;34m'source'\u001b[0m\u001b[1;33m]\u001b[0m\u001b[1;33m,\u001b[0m \u001b[0mrow\u001b[0m\u001b[1;33m[\u001b[0m\u001b[1;34m'target'\u001b[0m\u001b[1;33m]\u001b[0m\u001b[1;33m,\u001b[0m \u001b[1;36m0\u001b[0m\u001b[1;33m,\u001b[0m \u001b[0mw\u001b[0m\u001b[1;33m)\u001b[0m\u001b[1;33m,\u001b[0m \u001b[0maxis\u001b[0m\u001b[1;33m=\u001b[0m\u001b[1;36m1\u001b[0m\u001b[1;33m)\u001b[0m\u001b[1;33m\u001b[0m\u001b[1;33m\u001b[0m\u001b[0m\n\u001b[0m\u001b[0;32m      6\u001b[0m     \u001b[1;32mreturn\u001b[0m \u001b[0mnew_test_df\u001b[0m\u001b[1;33m\u001b[0m\u001b[1;33m\u001b[0m\u001b[0m\n",
            "\u001b[1;32m<ipython-input-57-6daae620cf7a>\u001b[0m in \u001b[0;36msignPrediction\u001b[1;34m(G, main_clusters, all_similiarities, k, u, v, threshold, w1, sign_tag)\u001b[0m\n\u001b[0;32m     21\u001b[0m         \u001b[1;31m#print('x[i]' , x[i]  )\u001b[0m\u001b[1;33m\u001b[0m\u001b[1;33m\u001b[0m\u001b[0m\n\u001b[0;32m     22\u001b[0m \u001b[1;33m\u001b[0m\u001b[0m\n\u001b[1;32m---> 23\u001b[1;33m         \u001b[1;32mif\u001b[0m \u001b[0mlocationOfANode\u001b[0m\u001b[1;33m(\u001b[0m\u001b[0mmain_clusters\u001b[0m\u001b[1;33m,\u001b[0m \u001b[0mu\u001b[0m\u001b[1;33m)\u001b[0m \u001b[1;33m==\u001b[0m \u001b[0mlocationOfANode\u001b[0m\u001b[1;33m(\u001b[0m\u001b[0mmain_clusters\u001b[0m\u001b[1;33m,\u001b[0m \u001b[0mS_c\u001b[0m\u001b[1;33m[\u001b[0m\u001b[0mi\u001b[0m\u001b[1;33m]\u001b[0m\u001b[1;33m)\u001b[0m\u001b[1;33m:\u001b[0m\u001b[1;33m\u001b[0m\u001b[1;33m\u001b[0m\u001b[0m\n\u001b[0m\u001b[0;32m     24\u001b[0m             \u001b[0mx\u001b[0m\u001b[1;33m[\u001b[0m\u001b[0mi\u001b[0m\u001b[1;33m]\u001b[0m \u001b[1;33m=\u001b[0m \u001b[0mw1\u001b[0m \u001b[1;33m*\u001b[0m \u001b[0mx\u001b[0m\u001b[1;33m[\u001b[0m\u001b[0mi\u001b[0m\u001b[1;33m]\u001b[0m\u001b[1;33m\u001b[0m\u001b[1;33m\u001b[0m\u001b[0m\n\u001b[0;32m     25\u001b[0m         \u001b[1;32melse\u001b[0m\u001b[1;33m:\u001b[0m\u001b[1;33m\u001b[0m\u001b[1;33m\u001b[0m\u001b[0m\n",
            "\u001b[1;32m<ipython-input-29-f889d380a1d7>\u001b[0m in \u001b[0;36mlocationOfANode\u001b[1;34m(clusters, u)\u001b[0m\n\u001b[0;32m      4\u001b[0m     \u001b[0mr\u001b[0m \u001b[1;33m=\u001b[0m \u001b[1;33m-\u001b[0m\u001b[1;36m1\u001b[0m\u001b[1;33m\u001b[0m\u001b[1;33m\u001b[0m\u001b[0m\n\u001b[0;32m      5\u001b[0m     \u001b[1;32mfor\u001b[0m \u001b[0mi\u001b[0m \u001b[1;32min\u001b[0m \u001b[0mrange\u001b[0m\u001b[1;33m(\u001b[0m\u001b[0mn\u001b[0m\u001b[1;33m)\u001b[0m\u001b[1;33m:\u001b[0m\u001b[1;33m\u001b[0m\u001b[1;33m\u001b[0m\u001b[0m\n\u001b[1;32m----> 6\u001b[1;33m         \u001b[1;32mif\u001b[0m \u001b[0mu\u001b[0m \u001b[1;32min\u001b[0m \u001b[0mclusters\u001b[0m\u001b[1;33m[\u001b[0m\u001b[0mi\u001b[0m\u001b[1;33m]\u001b[0m\u001b[1;33m:\u001b[0m\u001b[1;33m\u001b[0m\u001b[1;33m\u001b[0m\u001b[0m\n\u001b[0m\u001b[0;32m      7\u001b[0m             \u001b[0mr\u001b[0m \u001b[1;33m=\u001b[0m \u001b[0mi\u001b[0m\u001b[1;33m\u001b[0m\u001b[1;33m\u001b[0m\u001b[0m\n\u001b[0;32m      8\u001b[0m     \u001b[1;32mreturn\u001b[0m \u001b[0mr\u001b[0m\u001b[1;33m\u001b[0m\u001b[1;33m\u001b[0m\u001b[0m\n",
            "\u001b[1;31mKeyboardInterrupt\u001b[0m: "
          ]
        }
      ],
      "source": [
        "acc_y = []\n",
        "f_y = []\n",
        "for w in [0.1, 0.3, 0.5, 0.7, 0.9, 1]:\n",
        "    new_test_df = calculateSignPredictions(train_graph, main_clusters, test_df, w)\n",
        "    confusion_matrix(new_test_df['sign'], new_test_df['sign prediction'])\n",
        "    acc_temp = accuracy_score(new_test_df['sign'], new_test_df['sign prediction'],  normalize=True, sample_weight=None)\n",
        "    f_temp = f1_score(new_test_df['sign'], new_test_df['sign prediction'])\n",
        "    print('acc:', acc_temp, 'f1:', f_temp)\n",
        "    acc_y.append(acc_temp)\n",
        "    f_y.append(f_y)"
      ]
    },
    {
      "cell_type": "code",
      "execution_count": null,
      "id": "efdbf935",
      "metadata": {},
      "outputs": [],
      "source": []
    }
  ],
  "metadata": {
    "colab": {
      "provenance": []
    },
    "kernelspec": {
      "display_name": "Python 3 (ipykernel)",
      "language": "python",
      "name": "python3"
    },
    "language_info": {
      "codemirror_mode": {
        "name": "ipython",
        "version": 3
      },
      "file_extension": ".py",
      "mimetype": "text/x-python",
      "name": "python",
      "nbconvert_exporter": "python",
      "pygments_lexer": "ipython3",
      "version": "3.9.13"
    }
  },
  "nbformat": 4,
  "nbformat_minor": 5
}
