{
  "cells": [
    {
      "cell_type": "code",
      "execution_count": 1,
      "id": "659a84d9",
      "metadata": {
        "id": "659a84d9"
      },
      "outputs": [],
      "source": [
        "import math\n",
        "import random\n",
        "import numpy as np\n",
        "import pandas as pd\n",
        "import networkx as nx\n",
        "import scipy as sc\n",
        "from tqdm import tqdm\n",
        "\n",
        "from matplotlib import pyplot as plt\n",
        "from signet.cluster import Cluster\n",
        "from sklearn.model_selection import train_test_split\n",
        "#from sklearn.metrics import adjusted_rand_score\n",
        "from sklearn.metrics import confusion_matrix\n",
        "#from sklearn.metrics import plot_confusion_matrix\n",
        "#from sklearn.metrics import plot_roc_curve\n",
        "from sklearn.metrics import accuracy_score\n",
        "from sklearn.metrics import f1_score\n",
        "from sklearn.metrics import recall_score\n",
        "from sklearn.metrics import precision_score\n",
        "from sklearn.model_selection import train_test_split"
      ]
    },
    {
      "cell_type": "code",
      "execution_count": 2,
      "id": "-pBl8nmmJHDd",
      "metadata": {
        "colab": {
          "base_uri": "https://localhost:8080/"
        },
        "id": "-pBl8nmmJHDd",
        "outputId": "5d3caeb1-5ab2-4c61-d315-6c704fe4a6bb"
      },
      "outputs": [],
      "source": [
        "# for google colab\n",
        "# from google.colab import drive\n",
        "# drive.mount('/content/gdrive')"
      ]
    },
    {
      "cell_type": "code",
      "execution_count": 3,
      "id": "6382090b",
      "metadata": {
        "id": "6382090b"
      },
      "outputs": [],
      "source": [
        "# reading the raw dataset which may contain duplicates, node ids out of range (id of nodes should be assigned from zero to number_of_nodes - 1)\n",
        "#df_raw = pd.read_csv(\"Datasets/New_ Microsoft_ Excel_ Worksheet.csv\")\n",
        "df_raw = pd.read_csv(\"Datasets/soc-sign-epinions.csv\")"
      ]
    },
    {
      "cell_type": "code",
      "execution_count": 4,
      "id": "e3c3cd92",
      "metadata": {
        "colab": {
          "base_uri": "https://localhost:8080/",
          "height": 424
        },
        "id": "e3c3cd92",
        "outputId": "1f27bebd-ecda-4fda-f9f9-fe9b7f33278b"
      },
      "outputs": [
        {
          "data": {
            "text/html": [
              "<div>\n",
              "<style scoped>\n",
              "    .dataframe tbody tr th:only-of-type {\n",
              "        vertical-align: middle;\n",
              "    }\n",
              "\n",
              "    .dataframe tbody tr th {\n",
              "        vertical-align: top;\n",
              "    }\n",
              "\n",
              "    .dataframe thead th {\n",
              "        text-align: right;\n",
              "    }\n",
              "</style>\n",
              "<table border=\"1\" class=\"dataframe\">\n",
              "  <thead>\n",
              "    <tr style=\"text-align: right;\">\n",
              "      <th></th>\n",
              "      <th>source</th>\n",
              "      <th>target</th>\n",
              "      <th>sign</th>\n",
              "    </tr>\n",
              "  </thead>\n",
              "  <tbody>\n",
              "    <tr>\n",
              "      <th>0</th>\n",
              "      <td>131828</td>\n",
              "      <td>131828</td>\n",
              "      <td>841372</td>\n",
              "    </tr>\n",
              "    <tr>\n",
              "      <th>1</th>\n",
              "      <td>1</td>\n",
              "      <td>2</td>\n",
              "      <td>-1</td>\n",
              "    </tr>\n",
              "    <tr>\n",
              "      <th>2</th>\n",
              "      <td>130144</td>\n",
              "      <td>2</td>\n",
              "      <td>1</td>\n",
              "    </tr>\n",
              "    <tr>\n",
              "      <th>3</th>\n",
              "      <td>5080</td>\n",
              "      <td>3</td>\n",
              "      <td>1</td>\n",
              "    </tr>\n",
              "    <tr>\n",
              "      <th>4</th>\n",
              "      <td>3</td>\n",
              "      <td>4</td>\n",
              "      <td>1</td>\n",
              "    </tr>\n",
              "    <tr>\n",
              "      <th>...</th>\n",
              "      <td>...</td>\n",
              "      <td>...</td>\n",
              "      <td>...</td>\n",
              "    </tr>\n",
              "    <tr>\n",
              "      <th>841368</th>\n",
              "      <td>92808</td>\n",
              "      <td>131814</td>\n",
              "      <td>-1</td>\n",
              "    </tr>\n",
              "    <tr>\n",
              "      <th>841369</th>\n",
              "      <td>131816</td>\n",
              "      <td>131817</td>\n",
              "      <td>1</td>\n",
              "    </tr>\n",
              "    <tr>\n",
              "      <th>841370</th>\n",
              "      <td>131819</td>\n",
              "      <td>131820</td>\n",
              "      <td>-1</td>\n",
              "    </tr>\n",
              "    <tr>\n",
              "      <th>841371</th>\n",
              "      <td>131824</td>\n",
              "      <td>131825</td>\n",
              "      <td>1</td>\n",
              "    </tr>\n",
              "    <tr>\n",
              "      <th>841372</th>\n",
              "      <td>131826</td>\n",
              "      <td>131827</td>\n",
              "      <td>1</td>\n",
              "    </tr>\n",
              "  </tbody>\n",
              "</table>\n",
              "<p>841373 rows × 3 columns</p>\n",
              "</div>"
            ],
            "text/plain": [
              "        source  target    sign\n",
              "0       131828  131828  841372\n",
              "1            1       2      -1\n",
              "2       130144       2       1\n",
              "3         5080       3       1\n",
              "4            3       4       1\n",
              "...        ...     ...     ...\n",
              "841368   92808  131814      -1\n",
              "841369  131816  131817       1\n",
              "841370  131819  131820      -1\n",
              "841371  131824  131825       1\n",
              "841372  131826  131827       1\n",
              "\n",
              "[841373 rows x 3 columns]"
            ]
          },
          "execution_count": 4,
          "metadata": {},
          "output_type": "execute_result"
        }
      ],
      "source": [
        "df_raw"
      ]
    },
    {
      "cell_type": "code",
      "execution_count": 5,
      "id": "73e49f09",
      "metadata": {
        "id": "73e49f09"
      },
      "outputs": [],
      "source": [
        "df_no_dup = df_raw.drop_duplicates(inplace = False)\n",
        "df_no_dup = df_no_dup.reset_index(drop=True)"
      ]
    },
    {
      "cell_type": "code",
      "execution_count": 6,
      "id": "44d62bca",
      "metadata": {
        "colab": {
          "base_uri": "https://localhost:8080/",
          "height": 424
        },
        "id": "44d62bca",
        "outputId": "3e6681d3-b178-415b-b00c-dab5f794223f",
        "scrolled": true
      },
      "outputs": [
        {
          "data": {
            "text/html": [
              "<div>\n",
              "<style scoped>\n",
              "    .dataframe tbody tr th:only-of-type {\n",
              "        vertical-align: middle;\n",
              "    }\n",
              "\n",
              "    .dataframe tbody tr th {\n",
              "        vertical-align: top;\n",
              "    }\n",
              "\n",
              "    .dataframe thead th {\n",
              "        text-align: right;\n",
              "    }\n",
              "</style>\n",
              "<table border=\"1\" class=\"dataframe\">\n",
              "  <thead>\n",
              "    <tr style=\"text-align: right;\">\n",
              "      <th></th>\n",
              "      <th>source</th>\n",
              "      <th>target</th>\n",
              "      <th>sign</th>\n",
              "    </tr>\n",
              "  </thead>\n",
              "  <tbody>\n",
              "    <tr>\n",
              "      <th>0</th>\n",
              "      <td>131828</td>\n",
              "      <td>131828</td>\n",
              "      <td>841372</td>\n",
              "    </tr>\n",
              "    <tr>\n",
              "      <th>1</th>\n",
              "      <td>1</td>\n",
              "      <td>2</td>\n",
              "      <td>-1</td>\n",
              "    </tr>\n",
              "    <tr>\n",
              "      <th>2</th>\n",
              "      <td>130144</td>\n",
              "      <td>2</td>\n",
              "      <td>1</td>\n",
              "    </tr>\n",
              "    <tr>\n",
              "      <th>3</th>\n",
              "      <td>5080</td>\n",
              "      <td>3</td>\n",
              "      <td>1</td>\n",
              "    </tr>\n",
              "    <tr>\n",
              "      <th>4</th>\n",
              "      <td>3</td>\n",
              "      <td>4</td>\n",
              "      <td>1</td>\n",
              "    </tr>\n",
              "    <tr>\n",
              "      <th>...</th>\n",
              "      <td>...</td>\n",
              "      <td>...</td>\n",
              "      <td>...</td>\n",
              "    </tr>\n",
              "    <tr>\n",
              "      <th>841368</th>\n",
              "      <td>92808</td>\n",
              "      <td>131814</td>\n",
              "      <td>-1</td>\n",
              "    </tr>\n",
              "    <tr>\n",
              "      <th>841369</th>\n",
              "      <td>131816</td>\n",
              "      <td>131817</td>\n",
              "      <td>1</td>\n",
              "    </tr>\n",
              "    <tr>\n",
              "      <th>841370</th>\n",
              "      <td>131819</td>\n",
              "      <td>131820</td>\n",
              "      <td>-1</td>\n",
              "    </tr>\n",
              "    <tr>\n",
              "      <th>841371</th>\n",
              "      <td>131824</td>\n",
              "      <td>131825</td>\n",
              "      <td>1</td>\n",
              "    </tr>\n",
              "    <tr>\n",
              "      <th>841372</th>\n",
              "      <td>131826</td>\n",
              "      <td>131827</td>\n",
              "      <td>1</td>\n",
              "    </tr>\n",
              "  </tbody>\n",
              "</table>\n",
              "<p>841373 rows × 3 columns</p>\n",
              "</div>"
            ],
            "text/plain": [
              "        source  target    sign\n",
              "0       131828  131828  841372\n",
              "1            1       2      -1\n",
              "2       130144       2       1\n",
              "3         5080       3       1\n",
              "4            3       4       1\n",
              "...        ...     ...     ...\n",
              "841368   92808  131814      -1\n",
              "841369  131816  131817       1\n",
              "841370  131819  131820      -1\n",
              "841371  131824  131825       1\n",
              "841372  131826  131827       1\n",
              "\n",
              "[841373 rows x 3 columns]"
            ]
          },
          "execution_count": 6,
          "metadata": {},
          "output_type": "execute_result"
        }
      ],
      "source": [
        "df_no_dup"
      ]
    },
    {
      "cell_type": "code",
      "execution_count": 7,
      "id": "05691ab6",
      "metadata": {
        "id": "05691ab6"
      },
      "outputs": [],
      "source": [
        "# function to assign new ids to nodes regarding keeping ids in zero to num_of_nodes - 1\n",
        "def relabel(df):\n",
        "    source_old_labels = df[\"source\"].drop_duplicates().to_numpy()\n",
        "    #print(source_old_labels)\n",
        "    target_old_labels = df[\"target\"].drop_duplicates().to_numpy()\n",
        "    all_old_labels = np.union1d(source_old_labels, target_old_labels)\n",
        "    index_map = dict(enumerate(all_old_labels))\n",
        "    new_index_map = dict([(value, key) for key, value in index_map.items()])\n",
        "    #print(index_map == new_index_map)\n",
        "    new_df = df.copy()\n",
        "    for index, row in new_df.iterrows():\n",
        "        #print(row[\"source\"])\n",
        "        row[\"source\"] = new_index_map[row[\"source\"]]\n",
        "        row[\"target\"] = new_index_map[row[\"target\"]]\n",
        "    return new_index_map, new_df"
      ]
    },
    {
      "cell_type": "code",
      "execution_count": 8,
      "id": "12f8a5fc",
      "metadata": {
        "id": "12f8a5fc"
      },
      "outputs": [],
      "source": [
        "ind_map, df_relabled = relabel(df_no_dup)"
      ]
    },
    {
      "attachments": {},
      "cell_type": "markdown",
      "id": "9ca26b10",
      "metadata": {
        "id": "9ca26b10"
      },
      "source": [
        "#### اگر طوقه داشته باشه دیتاست نباید از MultiDiGraph استفاده شود"
      ]
    },
    {
      "cell_type": "code",
      "execution_count": 9,
      "id": "b69d8601",
      "metadata": {
        "id": "b69d8601"
      },
      "outputs": [],
      "source": [
        "main_graph = nx.DiGraph()\n",
        "main_graph = nx.from_pandas_edgelist(df = df_relabled, source = 'source', target = 'target', edge_attr = 'sign', create_using = nx.DiGraph(), edge_key = 'sign')"
      ]
    },
    {
      "cell_type": "code",
      "execution_count": 10,
      "id": "5dc371ca",
      "metadata": {
        "colab": {
          "base_uri": "https://localhost:8080/"
        },
        "id": "5dc371ca",
        "outputId": "df661c51-0c22-4ced-93ec-7ffdf6c262da",
        "scrolled": true
      },
      "outputs": [
        {
          "name": "stdout",
          "output_type": "stream",
          "text": [
            "number of nodes G = 131828\n",
            "number of edges G = 841373\n",
            "Density of G: 4.8414621282583676e-05\n"
          ]
        }
      ],
      "source": [
        "print('number of nodes G =', nx.number_of_nodes(main_graph) )\n",
        "print('number of edges G =', nx.number_of_edges(main_graph) )\n",
        "print('Density of G:', nx.density(main_graph))"
      ]
    },
    {
      "attachments": {},
      "cell_type": "markdown",
      "id": "293c1bc7",
      "metadata": {
        "id": "293c1bc7"
      },
      "source": [
        "### توجه شود که اختلاف تعداد یال‎های گراف با سطرهای دیتافریم به دلیل وجود یال چندگانه یا طوقه در دیتا فریم است."
      ]
    },
    {
      "cell_type": "code",
      "execution_count": 11,
      "id": "918de99e",
      "metadata": {
        "id": "918de99e"
      },
      "outputs": [],
      "source": [
        "def graphTrainTestSplit(G, df, train_size, positive_size = 0.8):\n",
        "    G_train = G.copy()\n",
        "    train_df = df.copy()\n",
        "    test_df = df.copy()\n",
        "    edges_no = nx.number_of_edges(G_train)\n",
        "    test_size = 1 - train_size\n",
        "    \n",
        "    # Get the indices of positive and negative labels\n",
        "    positive_indices = train_df[train_df['sign'] == 1].index.to_list()\n",
        "    negative_indices = train_df[train_df['sign'] == -1].index.to_list()\n",
        "    \n",
        "    # Shuffle the indices randomly\n",
        "    random.shuffle(positive_indices)\n",
        "    random.shuffle(negative_indices)\n",
        "    \n",
        "    # Calculate the number of positive and negative labels for test set\n",
        "    negative_size = 1 - positive_size\n",
        "    test_positive_count = int(test_size * edges_no * positive_size)\n",
        "    test_negative_count = int(test_size * edges_no * negative_size)\n",
        "    # test_positive_count = int(train_size * len(positive_indices))\n",
        "    # test_negative_count = int(train_size * len(negative_indices))\n",
        "    number_of_edges_left_for_removal = test_positive_count + test_negative_count\n",
        "    \n",
        "    edges_to_remove = []  # List to store edges for removal\n",
        "    \n",
        "    #print(\"number_of_edges_left_for_removal: \", number_of_edges_left_for_removal, 'test_positive_count:', test_positive_count, 'test_negative_count: ', test_negative_count)\n",
        "\n",
        "    while number_of_edges_left_for_removal > 0:\n",
        "        edges = np.array(G_train.edges)\n",
        "        chosen_edge = random.choice(edges)\n",
        "        source = chosen_edge[0]\n",
        "        target = chosen_edge[1]\n",
        "        \n",
        "        if (G_train.degree[source] > 1 and G_train.degree[target] > 1):\n",
        "            label = train_df.loc[(train_df['source'] == source) & (train_df['target'] == target), 'sign'].values[0]\n",
        "            \n",
        "            # Check if the edge label matches the desired distribution\n",
        "            if (label == 1 and test_positive_count > 0) or (label == -1 and test_negative_count > 0):\n",
        "                if G_train.has_edge(source, target):\n",
        "                    edges_to_remove.append((source, target))\n",
        "                    G_train.remove_edge(source, target)\n",
        "                    if label == 1:\n",
        "                        test_positive_count -= 1\n",
        "                    else:\n",
        "                        test_negative_count -= 1\n",
        "                    number_of_edges_left_for_removal -= 1\n",
        "\n",
        "    #print('edges_to_remove size: ', len(edges_to_remove))    \n",
        "    # Remove the corresponding rows from the train DataFrame\n",
        "    # train_df = train_df.drop(train_df[(train_df['source'].isin([edge[0] for edge in edges_to_remove])) &  (train_df['target'].isin([edge[1] for edge in edges_to_remove]))].index)\n",
        "    \n",
        "    mask = train_df[['source', 'target']].apply(tuple, axis=1).isin(edges_to_remove)\n",
        "    train_df = train_df[~mask]\n",
        "\n",
        "    test_df = test_df.merge(train_df, how='left', indicator=True)\n",
        "    test_df = test_df[test_df['_merge'] == 'left_only'].drop('_merge', axis=1)\n",
        "    \n",
        "    return G_train, train_df, test_df\n"
      ]
    },
    {
      "cell_type": "code",
      "execution_count": 12,
      "id": "5b9500d3",
      "metadata": {
        "id": "5b9500d3"
      },
      "outputs": [],
      "source": [
        "# def graphTrainTestSplit(G, df, train_size):\n",
        "#     G_train = G.copy()\n",
        "#     train_df = df.copy()\n",
        "#     test_df = df.copy()\n",
        "#     edges_no = nx.number_of_edges(G_train)\n",
        "#     number_of_edges_left_for_removal = np.floor((1 - train_size) * edges_no)\n",
        "#     while (number_of_edges_left_for_removal > 0):\n",
        "#         edges = np.array(G_train.edges)\n",
        "#         chosen_edge = random.choice(edges)\n",
        "#         if (G_train.degree[chosen_edge[0]] > 1 and G_train.degree[chosen_edge[1]] > 1):\n",
        "#             G_train.remove_edge(chosen_edge[0], chosen_edge[1])\n",
        "            \n",
        "#             # Get indexes where name column has value\n",
        "#             index_names = train_df.index[(train_df['source'] == chosen_edge[0]) & (train_df['target'] == chosen_edge[1])]\n",
        "#             # Delete these row indexes from dataFrame\n",
        "#             train_df.drop(index_names, inplace = True)\n",
        "            \n",
        "#             number_of_edges_left_for_removal -= 1\n",
        "#     test_df = test_df.merge(train_df, how='left', indicator=True)\n",
        "#     test_df = test_df[test_df['_merge'] == 'left_only'].drop('_merge', axis=1)\n",
        "#     return G_train, train_df, test_df"
      ]
    },
    {
      "cell_type": "code",
      "execution_count": 13,
      "id": "7499a852",
      "metadata": {
        "id": "7499a852"
      },
      "outputs": [],
      "source": [
        "train_graph, train_df, test_df = graphTrainTestSplit(main_graph, df_relabled, 0.99987163838155015670814252418369)"
      ]
    },
    {
      "cell_type": "code",
      "execution_count": 14,
      "id": "5wwEwNTAMBYh",
      "metadata": {
        "colab": {
          "base_uri": "https://localhost:8080/",
          "height": 424
        },
        "id": "5wwEwNTAMBYh",
        "outputId": "72b4eb98-e195-4549-bf48-2339e9444aca"
      },
      "outputs": [
        {
          "data": {
            "text/html": [
              "<div>\n",
              "<style scoped>\n",
              "    .dataframe tbody tr th:only-of-type {\n",
              "        vertical-align: middle;\n",
              "    }\n",
              "\n",
              "    .dataframe tbody tr th {\n",
              "        vertical-align: top;\n",
              "    }\n",
              "\n",
              "    .dataframe thead th {\n",
              "        text-align: right;\n",
              "    }\n",
              "</style>\n",
              "<table border=\"1\" class=\"dataframe\">\n",
              "  <thead>\n",
              "    <tr style=\"text-align: right;\">\n",
              "      <th></th>\n",
              "      <th>source</th>\n",
              "      <th>target</th>\n",
              "      <th>sign</th>\n",
              "    </tr>\n",
              "  </thead>\n",
              "  <tbody>\n",
              "    <tr>\n",
              "      <th>0</th>\n",
              "      <td>131827</td>\n",
              "      <td>131827</td>\n",
              "      <td>841372</td>\n",
              "    </tr>\n",
              "    <tr>\n",
              "      <th>1</th>\n",
              "      <td>0</td>\n",
              "      <td>1</td>\n",
              "      <td>-1</td>\n",
              "    </tr>\n",
              "    <tr>\n",
              "      <th>2</th>\n",
              "      <td>130143</td>\n",
              "      <td>1</td>\n",
              "      <td>1</td>\n",
              "    </tr>\n",
              "    <tr>\n",
              "      <th>3</th>\n",
              "      <td>5079</td>\n",
              "      <td>2</td>\n",
              "      <td>1</td>\n",
              "    </tr>\n",
              "    <tr>\n",
              "      <th>4</th>\n",
              "      <td>2</td>\n",
              "      <td>3</td>\n",
              "      <td>1</td>\n",
              "    </tr>\n",
              "    <tr>\n",
              "      <th>...</th>\n",
              "      <td>...</td>\n",
              "      <td>...</td>\n",
              "      <td>...</td>\n",
              "    </tr>\n",
              "    <tr>\n",
              "      <th>841368</th>\n",
              "      <td>92807</td>\n",
              "      <td>131813</td>\n",
              "      <td>-1</td>\n",
              "    </tr>\n",
              "    <tr>\n",
              "      <th>841369</th>\n",
              "      <td>131815</td>\n",
              "      <td>131816</td>\n",
              "      <td>1</td>\n",
              "    </tr>\n",
              "    <tr>\n",
              "      <th>841370</th>\n",
              "      <td>131818</td>\n",
              "      <td>131819</td>\n",
              "      <td>-1</td>\n",
              "    </tr>\n",
              "    <tr>\n",
              "      <th>841371</th>\n",
              "      <td>131823</td>\n",
              "      <td>131824</td>\n",
              "      <td>1</td>\n",
              "    </tr>\n",
              "    <tr>\n",
              "      <th>841372</th>\n",
              "      <td>131825</td>\n",
              "      <td>131826</td>\n",
              "      <td>1</td>\n",
              "    </tr>\n",
              "  </tbody>\n",
              "</table>\n",
              "<p>841266 rows × 3 columns</p>\n",
              "</div>"
            ],
            "text/plain": [
              "        source  target    sign\n",
              "0       131827  131827  841372\n",
              "1            0       1      -1\n",
              "2       130143       1       1\n",
              "3         5079       2       1\n",
              "4            2       3       1\n",
              "...        ...     ...     ...\n",
              "841368   92807  131813      -1\n",
              "841369  131815  131816       1\n",
              "841370  131818  131819      -1\n",
              "841371  131823  131824       1\n",
              "841372  131825  131826       1\n",
              "\n",
              "[841266 rows x 3 columns]"
            ]
          },
          "execution_count": 14,
          "metadata": {},
          "output_type": "execute_result"
        }
      ],
      "source": [
        "train_df"
      ]
    },
    {
      "cell_type": "code",
      "execution_count": 15,
      "id": "dXUF0U7gQif8",
      "metadata": {
        "colab": {
          "base_uri": "https://localhost:8080/",
          "height": 424
        },
        "id": "dXUF0U7gQif8",
        "outputId": "5ff0d0a8-7e3b-445c-b43e-d8c553d13c00"
      },
      "outputs": [
        {
          "data": {
            "text/html": [
              "<div>\n",
              "<style scoped>\n",
              "    .dataframe tbody tr th:only-of-type {\n",
              "        vertical-align: middle;\n",
              "    }\n",
              "\n",
              "    .dataframe tbody tr th {\n",
              "        vertical-align: top;\n",
              "    }\n",
              "\n",
              "    .dataframe thead th {\n",
              "        text-align: right;\n",
              "    }\n",
              "</style>\n",
              "<table border=\"1\" class=\"dataframe\">\n",
              "  <thead>\n",
              "    <tr style=\"text-align: right;\">\n",
              "      <th></th>\n",
              "      <th>source</th>\n",
              "      <th>target</th>\n",
              "      <th>sign</th>\n",
              "    </tr>\n",
              "  </thead>\n",
              "  <tbody>\n",
              "    <tr>\n",
              "      <th>526</th>\n",
              "      <td>9289</td>\n",
              "      <td>5</td>\n",
              "      <td>1</td>\n",
              "    </tr>\n",
              "    <tr>\n",
              "      <th>18171</th>\n",
              "      <td>49421</td>\n",
              "      <td>219</td>\n",
              "      <td>1</td>\n",
              "    </tr>\n",
              "    <tr>\n",
              "      <th>26779</th>\n",
              "      <td>10854</td>\n",
              "      <td>364</td>\n",
              "      <td>1</td>\n",
              "    </tr>\n",
              "    <tr>\n",
              "      <th>29863</th>\n",
              "      <td>23846</td>\n",
              "      <td>372</td>\n",
              "      <td>1</td>\n",
              "    </tr>\n",
              "    <tr>\n",
              "      <th>34003</th>\n",
              "      <td>3923</td>\n",
              "      <td>430</td>\n",
              "      <td>1</td>\n",
              "    </tr>\n",
              "    <tr>\n",
              "      <th>...</th>\n",
              "      <td>...</td>\n",
              "      <td>...</td>\n",
              "      <td>...</td>\n",
              "    </tr>\n",
              "    <tr>\n",
              "      <th>810129</th>\n",
              "      <td>81809</td>\n",
              "      <td>108714</td>\n",
              "      <td>1</td>\n",
              "    </tr>\n",
              "    <tr>\n",
              "      <th>812659</th>\n",
              "      <td>1480</td>\n",
              "      <td>110205</td>\n",
              "      <td>1</td>\n",
              "    </tr>\n",
              "    <tr>\n",
              "      <th>815477</th>\n",
              "      <td>118696</td>\n",
              "      <td>111875</td>\n",
              "      <td>1</td>\n",
              "    </tr>\n",
              "    <tr>\n",
              "      <th>825395</th>\n",
              "      <td>118802</td>\n",
              "      <td>117581</td>\n",
              "      <td>1</td>\n",
              "    </tr>\n",
              "    <tr>\n",
              "      <th>825617</th>\n",
              "      <td>117729</td>\n",
              "      <td>117729</td>\n",
              "      <td>1</td>\n",
              "    </tr>\n",
              "  </tbody>\n",
              "</table>\n",
              "<p>107 rows × 3 columns</p>\n",
              "</div>"
            ],
            "text/plain": [
              "        source  target  sign\n",
              "526       9289       5     1\n",
              "18171    49421     219     1\n",
              "26779    10854     364     1\n",
              "29863    23846     372     1\n",
              "34003     3923     430     1\n",
              "...        ...     ...   ...\n",
              "810129   81809  108714     1\n",
              "812659    1480  110205     1\n",
              "815477  118696  111875     1\n",
              "825395  118802  117581     1\n",
              "825617  117729  117729     1\n",
              "\n",
              "[107 rows x 3 columns]"
            ]
          },
          "execution_count": 15,
          "metadata": {},
          "output_type": "execute_result"
        }
      ],
      "source": [
        "test_df"
      ]
    },
    {
      "cell_type": "code",
      "execution_count": 16,
      "id": "OkWA6V5GO91U",
      "metadata": {
        "colab": {
          "base_uri": "https://localhost:8080/"
        },
        "id": "OkWA6V5GO91U",
        "outputId": "37d36c97-36ac-4f5c-c806-24709ebab8ec"
      },
      "outputs": [
        {
          "name": "stdout",
          "output_type": "stream",
          "text": [
            "Number of duplicates: 0\n"
          ]
        }
      ],
      "source": [
        "num_duplicates = test_df.duplicated().sum()\n",
        "print(\"Number of duplicates:\", num_duplicates)\n"
      ]
    },
    {
      "cell_type": "code",
      "execution_count": 17,
      "id": "451b9c43",
      "metadata": {
        "id": "451b9c43"
      },
      "outputs": [],
      "source": [
        "rows = train_df.loc[:, \"source\"].to_numpy()\n",
        "cols = train_df.loc[:, \"target\"].to_numpy()\n",
        "sign = train_df.loc[:, \"sign\"].to_numpy()"
      ]
    },
    {
      "cell_type": "code",
      "execution_count": 18,
      "id": "3ec1c649",
      "metadata": {
        "id": "3ec1c649"
      },
      "outputs": [],
      "source": [
        "p_rows = [rows[i] for i in range(len(rows)) if sign[i] == 1]\n",
        "p_cols = [cols[i] for i in range(len(cols)) if sign[i] == 1]\n",
        "p_data = np.ones(len(p_rows))\n",
        "\n",
        "n_rows = [rows[i] for i in range(len(rows)) if sign[i] == -1]\n",
        "n_cols = [cols[i] for i in range(len(cols)) if sign[i] == -1]\n",
        "n_data = np.ones(len(n_rows))"
      ]
    },
    {
      "cell_type": "code",
      "execution_count": 19,
      "id": "a53631fe",
      "metadata": {
        "id": "a53631fe"
      },
      "outputs": [],
      "source": [
        "nodes_no = nx.number_of_nodes(train_graph)\n",
        "edges_no = nx.number_of_edges(train_graph)"
      ]
    },
    {
      "cell_type": "code",
      "execution_count": 20,
      "id": "18644208",
      "metadata": {
        "id": "18644208",
        "scrolled": true
      },
      "outputs": [],
      "source": [
        "A_p = sc.sparse.csc_matrix((p_data, (p_rows, p_cols)), shape = (nodes_no , nodes_no))\n",
        "A_n = sc.sparse.csc_matrix((n_data, (n_rows, n_cols)), shape = (nodes_no , nodes_no))"
      ]
    },
    {
      "cell_type": "code",
      "execution_count": 21,
      "id": "4a961ac9",
      "metadata": {
        "colab": {
          "base_uri": "https://localhost:8080/"
        },
        "id": "4a961ac9",
        "outputId": "a029a1ef-8843-4881-a4eb-8c4bf792e384"
      },
      "outputs": [
        {
          "name": "stdout",
          "output_type": "stream",
          "text": [
            "(717581,)\n",
            "(123684,)\n"
          ]
        }
      ],
      "source": [
        "print(p_data.shape)\n",
        "print(n_data.shape)"
      ]
    },
    {
      "attachments": {},
      "cell_type": "markdown",
      "id": "0e56cf49",
      "metadata": {
        "id": "0e56cf49"
      },
      "source": [
        "# اینجاااااااااااااااااااااااااااااااااااااااااااااااااااااا"
      ]
    },
    {
      "cell_type": "code",
      "execution_count": 22,
      "id": "3603fa90",
      "metadata": {
        "id": "3603fa90"
      },
      "outputs": [],
      "source": [
        "def getNeighborsOfANode(graph, node):\n",
        "    x = []\n",
        "    for v in graph.nodes():\n",
        "        if ((v, node) in graph.edges()):\n",
        "            x.append(v)\n",
        "    return np.array(x)"
      ]
    },
    {
      "cell_type": "code",
      "execution_count": 23,
      "id": "d60c6603",
      "metadata": {
        "id": "d60c6603"
      },
      "outputs": [],
      "source": [
        "# def NodeswithoutInAndOutneighbors(G, sign_tag = 'sign'):\n",
        "#     nodes_no = nx.number_of_nodes(G)\n",
        "#     sign_map = nx.get_edge_attributes(G, sign_tag)\n",
        "#     n = 0\n",
        "#     for u in G.nodes():\n",
        "#         for v in G.nodes():\n",
        "#             #print(\"u: \", u, \", v: \", v)\n",
        "#             if (u != v):\n",
        "#                 u_neighbors = set(G.adj[u])\n",
        "#                 v_neighbors = set(G.adj[v])\n",
        "#                 uv_neighbors = list(u_neighbors.intersection(v_neighbors))\n",
        "#                 u_inneighbors = set(getNeighborsOfANode(G, u))\n",
        "#                 v_inneighbors = set(getNeighborsOfANode(G, v))\n",
        "#                 uv_inneighbors = list(u_inneighbors.intersection(v_inneighbors))\n",
        "#                 if (len(uv_neighbors) + len(uv_inneighbors)) == 0 and (u,v) in G.edges():\n",
        "#                     n = n+1\n",
        "#                     print(\"(u,v):\" , (u,v))\n",
        "#     return n"
      ]
    },
    {
      "cell_type": "code",
      "execution_count": 24,
      "id": "8f6898d1",
      "metadata": {
        "id": "8f6898d1"
      },
      "outputs": [],
      "source": [
        "#c = Cluster((A_p, A_n))"
      ]
    },
    {
      "cell_type": "code",
      "execution_count": 25,
      "id": "6e7b7ea4",
      "metadata": {
        "id": "6e7b7ea4"
      },
      "outputs": [],
      "source": [
        "def getClusters(G, k, A_p, A_n):\n",
        "    c = Cluster((A_p, A_n))\n",
        "    #spec_clus = c.spectral_cluster_adjacency(k = 5, normalisation = 'sym_sep', eigens = None, mi = None)\n",
        "    spec_clus = c.spectral_cluster_bnc(k = 5, normalisation='sym', eigens=None, mi=None)\n",
        "    clusters = []\n",
        "    for j in range(k):\n",
        "        clusters.append([i for i in G.nodes() if spec_clus[int(i - 1)] == j])\n",
        "    return np.array(clusters, dtype = np.ndarray)"
      ]
    },
    {
      "cell_type": "code",
      "execution_count": 26,
      "id": "d8c331dd",
      "metadata": {
        "colab": {
          "base_uri": "https://localhost:8080/"
        },
        "id": "d8c331dd",
        "outputId": "6205da18-5b6e-4892-b59d-9e5683ea52d7"
      },
      "outputs": [
        {
          "name": "stderr",
          "output_type": "stream",
          "text": [
            "C:\\Users\\Alireza\\AppData\\Local\\Packages\\PythonSoftwareFoundation.Python.3.9_qbz5n2kfra8p0\\LocalCache\\local-packages\\Python39\\site-packages\\sklearn\\cluster\\_kmeans.py:870: FutureWarning: The default value of `n_init` will change from 10 to 'auto' in 1.4. Set the value of `n_init` explicitly to suppress the warning\n",
            "  warnings.warn(\n"
          ]
        }
      ],
      "source": [
        "main_clusters = getClusters(train_graph, 5, A_p, A_n)\n",
        "cluster1 = main_clusters[0]\n",
        "cluster2 = main_clusters[1]\n",
        "cluster3 = main_clusters[2]\n",
        "cluster4 = main_clusters[3]\n",
        "cluster5 = main_clusters[4]"
      ]
    },
    {
      "cell_type": "code",
      "execution_count": 27,
      "id": "7e3f0631",
      "metadata": {
        "colab": {
          "base_uri": "https://localhost:8080/"
        },
        "id": "7e3f0631",
        "outputId": "85f99509-ee56-4304-95c4-fc26c6d3c228"
      },
      "outputs": [
        {
          "name": "stdout",
          "output_type": "stream",
          "text": [
            "43125\n",
            "40540\n",
            "40764\n",
            "3809\n",
            "3590\n"
          ]
        }
      ],
      "source": [
        "print(len(cluster1))\n",
        "print(len(cluster2))\n",
        "print(len(cluster3))\n",
        "print(len(cluster4))\n",
        "print(len(cluster5))"
      ]
    },
    {
      "cell_type": "code",
      "execution_count": 28,
      "id": "a74788dc",
      "metadata": {
        "id": "a74788dc"
      },
      "outputs": [],
      "source": [
        "def getCommonNeighbors(G, cl1, cl2):\n",
        "    x = set([])\n",
        "    for i in cl1:\n",
        "        x = x.union(set(G.adj[i]))\n",
        "    #print('x: ', x)\n",
        "    y = set([])\n",
        "    for j in cl2:\n",
        "        y = y.union(set(G.adj[j]))\n",
        "    #print('y: ', y)\n",
        "    return list(x.intersection(y))"
      ]
    },
    {
      "cell_type": "code",
      "execution_count": 29,
      "id": "031c1e03",
      "metadata": {
        "id": "031c1e03"
      },
      "outputs": [],
      "source": [
        "def locationOfANode(clusters, u):\n",
        "    n = clusters.shape[0]\n",
        "    x = np.zeros(n)\n",
        "    r = -1\n",
        "    for i in range(n):\n",
        "        if u in clusters[i]:\n",
        "            r = i\n",
        "    return r"
      ]
    },
    {
      "cell_type": "code",
      "execution_count": 30,
      "id": "165dfc34",
      "metadata": {
        "id": "165dfc34"
      },
      "outputs": [],
      "source": [
        "\n",
        "def locationOfArrayOfNode(clusters, U):\n",
        "    x = np.zeros(len(U))\n",
        "    for i in range(len(x)):\n",
        "        x[i] = locationOfANode(clusters, U[i])\n",
        "    return x"
      ]
    },
    {
      "cell_type": "code",
      "execution_count": 31,
      "id": "8ee81b85",
      "metadata": {
        "id": "8ee81b85"
      },
      "outputs": [],
      "source": [
        "def getClusterSimiliarity(G, source_cluster, common_neighbors, sign_tag = 'sign'):\n",
        "    #print('common_neighbors: ', common_neighbors)\n",
        "    sign_map = nx.get_edge_attributes(G, sign_tag)\n",
        "    epsilon = 10 ** (-5)\n",
        "    y = []\n",
        "    for v in common_neighbors:\n",
        "        # adding an epsilon to prevent mean of an empty array\n",
        "        #x = [epsilon]\n",
        "        x = []\n",
        "        for u in source_cluster:\n",
        "            if (u, v) in G.edges():\n",
        "                x.append(sign_map[(u, v)])\n",
        "                #print(\"u\", u , \"v\" , v)\n",
        "        y.append(np.mean(np.array(x)))\n",
        "    return np.array(y)"
      ]
    },
    {
      "attachments": {},
      "cell_type": "markdown",
      "id": "60ec2a0e",
      "metadata": {
        "id": "60ec2a0e"
      },
      "source": [
        "##################"
      ]
    },
    {
      "cell_type": "code",
      "execution_count": 32,
      "id": "06c614c8",
      "metadata": {
        "id": "06c614c8"
      },
      "outputs": [],
      "source": [
        "# main function to calculate the similiarity between two clusters\n",
        "def getInterClusterSimiliarity(G, cl1, cl2, common_neighbors):\n",
        "   y1 = getClusterSimiliarity(G, cl1, common_neighbors)\n",
        "   y2 = getClusterSimiliarity(G, cl2, common_neighbors)\n",
        "   \n",
        "   # if (y1.size == 0):\n",
        "   #    print('y1: ', y1)\n",
        "   #    print('###', common_neighbors)\n",
        "   # if (y2.size == 0):\n",
        "   #    print('y2: ', y2)\n",
        "   #    print('###', common_neighbors)\n",
        "\n",
        "   alpha = np.dot(y1.T, y2)\n",
        "\n",
        "   ##first approach\n",
        "   beta = np.dot(y1.T, y1)\n",
        "   gamma = np.dot(y2.T, y2)\n",
        "   if (beta * gamma < 0):\n",
        "      print('it\"s negative: ', beta * gamma)\n",
        "   epsilon = 10 ** (-5)\n",
        "   #return alpha / (np.sqrt((beta * gamma)) + epsilon)\n",
        "   return alpha / (np.sqrt((beta * gamma)))\n",
        "\n",
        "   ##second approach\n",
        "   #return alpha / len(common_neighbors)"
      ]
    },
    {
      "cell_type": "code",
      "execution_count": 33,
      "id": "bee73e85",
      "metadata": {
        "id": "bee73e85"
      },
      "outputs": [],
      "source": [
        "# # calculates similiarities between each two clusters and returns a matrix\n",
        "# def getAllSimiliaritiesBetweenClusters(G, clusters):\n",
        "#     clusters_no = clusters.shape[0]\n",
        "#     similiarities = np.zeros(shape = (clusters_no, clusters_no))\n",
        "#     for i in range(clusters_no):\n",
        "#         for j in range(i, clusters_no):\n",
        "#             common_neighbors = getCommonNeighbors(G, clusters[i], clusters[j])\n",
        "#             current_similiarity = getInterClusterSimiliarity(G, clusters[i], clusters[j], common_neighbors)\n",
        "#             # similiarities[i][j] = similiarities[j][i] = current_similiarity\n",
        "#             if len(common_neighbors) == 0:\n",
        "#                 print('i:', clusters[i])\n",
        "#                 print('j:', clusters[j])\n",
        "#             if (math.isnan(current_similiarity)):\n",
        "#                 similiarities[i][j] = similiarities[j][i] = 0\n",
        "#             else:\n",
        "#                 similiarities[i][j] = similiarities[j][i] = current_similiarity\n",
        "#     return similiarities"
      ]
    },
    {
      "cell_type": "code",
      "execution_count": 34,
      "id": "e880f85a",
      "metadata": {
        "id": "e880f85a"
      },
      "outputs": [],
      "source": [
        "# Calculates similarities between each two clusters and returns a matrix\n",
        "def getAllSimilaritiesBetweenClusters(G, clusters):\n",
        "    clusters_no = clusters.shape[0]\n",
        "    similiarities = np.zeros(shape=(clusters_no, clusters_no))\n",
        "    total_iterations = clusters_no * (clusters_no + 1) // 2  # Total number of iterations for progress bar\n",
        "\n",
        "    with tqdm(total=total_iterations, desc=\"Calculating similarities\") as pbar:\n",
        "        for i in range(clusters_no):\n",
        "            for j in range(i, clusters_no):\n",
        "                if i == j:\n",
        "                    similiarities[i][j] = 1\n",
        "                else:\n",
        "                    common_neighbors = getCommonNeighbors(G, clusters[i], clusters[j])\n",
        "                    current_similarity = getInterClusterSimiliarity(G, clusters[i], clusters[j], common_neighbors)\n",
        "\n",
        "                    if len(common_neighbors) == 0:\n",
        "                        print('i:', clusters[i])\n",
        "                        print('j:', clusters[j])\n",
        "                    if math.isnan(current_similarity):\n",
        "                        similiarities[i][j] = similiarities[j][i] = 0\n",
        "                    else:\n",
        "                        similiarities[i][j] = similiarities[j][i] = current_similarity\n",
        "\n",
        "                pbar.update(1)  # Update the progress bar\n",
        "\n",
        "    return similiarities"
      ]
    },
    {
      "cell_type": "code",
      "execution_count": 35,
      "id": "192ae994",
      "metadata": {
        "id": "192ae994"
      },
      "outputs": [],
      "source": [
        "# common_neighbors = getCommonNeighbors(train_graph, cluster1, cluster2)\n",
        "# similarity = getInterClusterSimiliarity(train_graph, cluster1, cluster2, common_neighbors)\n",
        "# similarity"
      ]
    },
    {
      "cell_type": "code",
      "execution_count": 36,
      "id": "3e377cba",
      "metadata": {
        "colab": {
          "base_uri": "https://localhost:8080/"
        },
        "id": "3e377cba",
        "outputId": "a31b142b-c990-4960-cff0-524fef1dd27b"
      },
      "outputs": [
        {
          "name": "stderr",
          "output_type": "stream",
          "text": [
            "Calculating similarities: 100%|██████████| 15/15 [1:33:01<00:00, 372.07s/it] \n"
          ]
        },
        {
          "data": {
            "text/plain": [
              "array([[1.  , 0.83, 0.81, 0.8 , 0.81],\n",
              "       [0.83, 1.  , 0.81, 0.79, 0.8 ],\n",
              "       [0.81, 0.81, 1.  , 0.81, 0.82],\n",
              "       [0.8 , 0.79, 0.81, 1.  , 0.76],\n",
              "       [0.81, 0.8 , 0.82, 0.76, 1.  ]])"
            ]
          },
          "execution_count": 36,
          "metadata": {},
          "output_type": "execute_result"
        }
      ],
      "source": [
        "matrix_of_similarity = getAllSimilaritiesBetweenClusters(train_graph, main_clusters)\n",
        "matrix_of_similarity"
      ]
    },
    {
      "cell_type": "code",
      "execution_count": 57,
      "id": "0cb4e156",
      "metadata": {
        "id": "0cb4e156"
      },
      "outputs": [],
      "source": [
        "def signPrediction(G, main_clusters, all_similiarities, k, u, v, threshold, w1, sign_tag = \"sign\"):\n",
        "    sign_map = nx.get_edge_attributes(G, sign_tag)\n",
        "    #main_clusters = getClusters(G, k)\n",
        "    \n",
        "    u_c = locationOfANode(main_clusters, u)\n",
        "    u_v = locationOfANode(main_clusters, v)\n",
        "    cl1 = main_clusters[u_c]\n",
        "    cl2 = main_clusters[u_v]\n",
        "    #s_AB = getCommonNeighbors(G, cl1, cl2)\n",
        "    #print(s_AB)\n",
        "    S = getNeighborsOfANode(G, v)\n",
        "    S_c = locationOfArrayOfNode(main_clusters, S)\n",
        "    n = len(S)\n",
        "    x = np.zeros(n)\n",
        "    for i in range(n):\n",
        "        #x[i] = getInterClusterSimiliarity(main_clusters[u_c], main_clusters[int(S_c[i])], s_AB)\n",
        "        x[i] = all_similiarities[u_c][int(S_c[i])]\n",
        "        #print('main_clusters_u_c: ', main_clusters[u_c])\n",
        "        #print('main_clusters_int: ', main_clusters[int(S_c[i])])\n",
        "        #print('s_AB: ', s_AB)\n",
        "        #print('x[i]' , x[i]  )\n",
        "        \n",
        "        if locationOfANode(main_clusters, u) == locationOfANode(main_clusters, S_c[i]):\n",
        "            x[i] = w1 * x[i]\n",
        "        else:\n",
        "            x[i] = (1 - w1) * x[i]\n",
        "        \n",
        "    r = np.zeros(n)\n",
        "    for i in range(n):\n",
        "        r[i] = sign_map[(S[i], v)]\n",
        "    #print('x: ', x)\n",
        "    #print('r: ', r)\n",
        "    #if (np.sum(x) == 0):\n",
        "    #    print('it is zero')\n",
        "    epsilon = 10 ** (-5)\n",
        "    #result = (np.dot(x.T, r)) / (np.sum(x) + epsilon)\n",
        "    result = (np.dot(x.T, r)) / (np.sum(x))\n",
        "    if result > threshold:\n",
        "        return 1\n",
        "    else:\n",
        "        return -1"
      ]
    },
    {
      "cell_type": "code",
      "execution_count": 48,
      "id": "b7784493",
      "metadata": {},
      "outputs": [
        {
          "name": "stderr",
          "output_type": "stream",
          "text": [
            "C:\\Users\\Alireza\\AppData\\Local\\Packages\\PythonSoftwareFoundation.Python.3.9_qbz5n2kfra8p0\\LocalCache\\local-packages\\Python39\\site-packages\\tqdm\\auto.py:21: TqdmWarning: IProgress not found. Please update jupyter and ipywidgets. See https://ipywidgets.readthedocs.io/en/stable/user_install.html\n",
            "  from .autonotebook import tqdm as notebook_tqdm\n"
          ]
        }
      ],
      "source": [
        "from tqdm.auto import tqdm"
      ]
    },
    {
      "cell_type": "code",
      "execution_count": 43,
      "id": "ec8bd279",
      "metadata": {
        "id": "ec8bd279"
      },
      "outputs": [],
      "source": [
        "# # Create a new column 'sign prediction' in test_df with sign predictions\n",
        "# def calculateSignPredictions(train_graph, main_clusters, test_df):\n",
        "#     with tqdm(total=len(test_df), desc=\"Calculating sign predictions\", bar_format='{l_bar}{bar:10}{r_bar}{bar:-10b}') as pbar:\n",
        "#         test_df['sign prediction'] = test_df.apply(lambda row: signPrediction(train_graph, main_clusters, matrix_of_similarity, 5, row['source'], row['target'], 0, 0.75), axis=1)\n",
        "#         pbar.update(len(test_df))  # Update the progress bar to complete\n",
        "\n",
        "#     return test_df\n"
      ]
    },
    {
      "cell_type": "code",
      "execution_count": 64,
      "id": "7b770bf8",
      "metadata": {},
      "outputs": [],
      "source": [
        "# Create a new column 'sign prediction' in test_df with sign predictions\n",
        "def calculateSignPredictions(train_graph, main_clusters, test_df, w):\n",
        "    new_test_df = test_df.copy()\n",
        "    tqdm.pandas()\n",
        "    new_test_df['sign prediction'] = new_test_df.progress_apply(lambda row: signPrediction(train_graph, main_clusters, matrix_of_similarity, 5, row['source'], row['target'], 0, w), axis=1)\n",
        "    return new_test_df\n"
      ]
    },
    {
      "cell_type": "code",
      "execution_count": 54,
      "id": "cd8ae6dd",
      "metadata": {
        "id": "cd8ae6dd",
        "scrolled": false
      },
      "outputs": [
        {
          "name": "stderr",
          "output_type": "stream",
          "text": [
            " 63%|██████▎   | 67/107 [03:27<00:39,  1.02it/s]<ipython-input-37-43a853b88aaa>:37: RuntimeWarning: invalid value encountered in double_scalars\n",
            "  result = (np.dot(x.T, r)) / (np.sum(x))\n",
            "100%|██████████| 107/107 [04:05<00:00,  2.30s/it]\n"
          ]
        }
      ],
      "source": [
        "# zz = np.zeros(test_df.shape[0])\n",
        "# # Call the function with the required parameters\n",
        "# new_test_df = calculateSignPredictions(train_graph, main_clusters, test_df, 0.75)\n",
        "# confusion_matrix(new_test_df['sign'], new_test_df['sign prediction'])\n",
        "# acc_temp = accuracy_score(new_test_df['sign'], new_test_df['sign prediction'],  normalize=True, sample_weight=None)\n",
        "# f_temp = f1_score(new_test_df['sign'], new_test_df['sign prediction'])"
      ]
    },
    {
      "cell_type": "code",
      "execution_count": 55,
      "id": "197eef23",
      "metadata": {
        "id": "197eef23"
      },
      "outputs": [
        {
          "name": "stdout",
          "output_type": "stream",
          "text": [
            "0.8878504672897196\n",
            "0.9325842696629213\n"
          ]
        }
      ],
      "source": [
        "# print(acc_temp)\n",
        "# print(f_temp)"
      ]
    },
    {
      "cell_type": "code",
      "execution_count": 56,
      "id": "e5dc47b9",
      "metadata": {
        "id": "e5dc47b9"
      },
      "outputs": [
        {
          "data": {
            "image/png": "[encoded data removed]",
            "text/plain": [
              "<Figure size 432x288 with 1 Axes>"
            ]
          },
          "metadata": {
            "needs_background": "light"
          },
          "output_type": "display_data"
        }
      ],
      "source": [
        "# plt.hist(test_df['sign'])\n",
        "\n",
        "# # Set the labels and title of the histogram\n",
        "# plt.xlabel('Sign')\n",
        "# plt.ylabel('Frequency')\n",
        "# plt.title('Histogram of Sign Values')\n",
        "\n",
        "# # Display the histogram\n",
        "# plt.show()\n",
        "\n",
        "\n"
      ]
    },
    {
      "cell_type": "code",
      "execution_count": 71,
      "id": "97d16830",
      "metadata": {
        "id": "97d16830"
      },
      "outputs": [
        {
          "name": "stderr",
          "output_type": "stream",
          "text": [
            " 63%|██████▎   | 67/107 [08:42<01:17,  1.94s/it]<ipython-input-57-6daae620cf7a>:37: RuntimeWarning: invalid value encountered in double_scalars\n",
            "  result = (np.dot(x.T, r)) / (np.sum(x))\n",
            "100%|██████████| 107/107 [09:59<00:00,  5.60s/it]\n"
          ]
        },
        {
          "name": "stdout",
          "output_type": "stream",
          "text": [
            "acc: 0.8878504672897196 f1: 0.9325842696629213\n"
          ]
        },
        {
          "name": "stderr",
          "output_type": "stream",
          "text": [
            " 63%|██████▎   | 67/107 [08:30<01:15,  1.88s/it]<ipython-input-57-6daae620cf7a>:37: RuntimeWarning: invalid value encountered in double_scalars\n",
            "  result = (np.dot(x.T, r)) / (np.sum(x))\n",
            "100%|██████████| 107/107 [09:45<00:00,  5.47s/it]\n"
          ]
        },
        {
          "name": "stdout",
          "output_type": "stream",
          "text": [
            "acc: 0.8878504672897196 f1: 0.9325842696629213\n"
          ]
        },
        {
          "name": "stderr",
          "output_type": "stream",
          "text": [
            "  2%|▏         | 2/107 [00:41<35:58, 20.55s/it]\n"
          ]
        },
        {
          "ename": "KeyboardInterrupt",
          "evalue": "",
          "output_type": "error",
          "traceback": [
            "\u001b[1;31m---------------------------------------------------------------------------\u001b[0m",
            "\u001b[1;31mKeyboardInterrupt\u001b[0m                         Traceback (most recent call last)",
            "\u001b[1;32m<ipython-input-71-14202f4d52da>\u001b[0m in \u001b[0;36m<module>\u001b[1;34m\u001b[0m\n\u001b[0;32m      4\u001b[0m \u001b[0mf_y\u001b[0m \u001b[1;33m=\u001b[0m \u001b[1;33m[\u001b[0m\u001b[1;33m]\u001b[0m\u001b[1;33m\u001b[0m\u001b[1;33m\u001b[0m\u001b[0m\n\u001b[0;32m      5\u001b[0m \u001b[1;32mfor\u001b[0m \u001b[0mw\u001b[0m \u001b[1;32min\u001b[0m \u001b[1;33m[\u001b[0m\u001b[1;36m0.1\u001b[0m\u001b[1;33m,\u001b[0m \u001b[1;36m0.3\u001b[0m\u001b[1;33m,\u001b[0m \u001b[1;36m0.5\u001b[0m\u001b[1;33m,\u001b[0m \u001b[1;36m0.7\u001b[0m\u001b[1;33m,\u001b[0m \u001b[1;36m0.9\u001b[0m\u001b[1;33m,\u001b[0m \u001b[1;36m1\u001b[0m\u001b[1;33m]\u001b[0m\u001b[1;33m:\u001b[0m\u001b[1;33m\u001b[0m\u001b[1;33m\u001b[0m\u001b[0m\n\u001b[1;32m----> 6\u001b[1;33m     \u001b[0mnew_test_df\u001b[0m \u001b[1;33m=\u001b[0m \u001b[0mcalculateSignPredictions\u001b[0m\u001b[1;33m(\u001b[0m\u001b[0mtrain_graph\u001b[0m\u001b[1;33m,\u001b[0m \u001b[0mmain_clusters\u001b[0m\u001b[1;33m,\u001b[0m \u001b[0mtest_df\u001b[0m\u001b[1;33m,\u001b[0m \u001b[0mw\u001b[0m\u001b[1;33m)\u001b[0m\u001b[1;33m\u001b[0m\u001b[1;33m\u001b[0m\u001b[0m\n\u001b[0m\u001b[0;32m      7\u001b[0m     \u001b[0mconfusion_matrix\u001b[0m\u001b[1;33m(\u001b[0m\u001b[0mnew_test_df\u001b[0m\u001b[1;33m[\u001b[0m\u001b[1;34m'sign'\u001b[0m\u001b[1;33m]\u001b[0m\u001b[1;33m,\u001b[0m \u001b[0mnew_test_df\u001b[0m\u001b[1;33m[\u001b[0m\u001b[1;34m'sign prediction'\u001b[0m\u001b[1;33m]\u001b[0m\u001b[1;33m)\u001b[0m\u001b[1;33m\u001b[0m\u001b[1;33m\u001b[0m\u001b[0m\n\u001b[0;32m      8\u001b[0m     \u001b[0macc_temp\u001b[0m \u001b[1;33m=\u001b[0m \u001b[0maccuracy_score\u001b[0m\u001b[1;33m(\u001b[0m\u001b[0mnew_test_df\u001b[0m\u001b[1;33m[\u001b[0m\u001b[1;34m'sign'\u001b[0m\u001b[1;33m]\u001b[0m\u001b[1;33m,\u001b[0m \u001b[0mnew_test_df\u001b[0m\u001b[1;33m[\u001b[0m\u001b[1;34m'sign prediction'\u001b[0m\u001b[1;33m]\u001b[0m\u001b[1;33m,\u001b[0m  \u001b[0mnormalize\u001b[0m\u001b[1;33m=\u001b[0m\u001b[1;32mTrue\u001b[0m\u001b[1;33m,\u001b[0m \u001b[0msample_weight\u001b[0m\u001b[1;33m=\u001b[0m\u001b[1;32mNone\u001b[0m\u001b[1;33m)\u001b[0m\u001b[1;33m\u001b[0m\u001b[1;33m\u001b[0m\u001b[0m\n",
            "\u001b[1;32m<ipython-input-64-c514d2119692>\u001b[0m in \u001b[0;36mcalculateSignPredictions\u001b[1;34m(train_graph, main_clusters, test_df, w)\u001b[0m\n\u001b[0;32m      3\u001b[0m     \u001b[0mnew_test_df\u001b[0m \u001b[1;33m=\u001b[0m \u001b[0mtest_df\u001b[0m\u001b[1;33m.\u001b[0m\u001b[0mcopy\u001b[0m\u001b[1;33m(\u001b[0m\u001b[1;33m)\u001b[0m\u001b[1;33m\u001b[0m\u001b[1;33m\u001b[0m\u001b[0m\n\u001b[0;32m      4\u001b[0m     \u001b[0mtqdm\u001b[0m\u001b[1;33m.\u001b[0m\u001b[0mpandas\u001b[0m\u001b[1;33m(\u001b[0m\u001b[1;33m)\u001b[0m\u001b[1;33m\u001b[0m\u001b[1;33m\u001b[0m\u001b[0m\n\u001b[1;32m----> 5\u001b[1;33m     \u001b[0mnew_test_df\u001b[0m\u001b[1;33m[\u001b[0m\u001b[1;34m'sign prediction'\u001b[0m\u001b[1;33m]\u001b[0m \u001b[1;33m=\u001b[0m \u001b[0mnew_test_df\u001b[0m\u001b[1;33m.\u001b[0m\u001b[0mprogress_apply\u001b[0m\u001b[1;33m(\u001b[0m\u001b[1;32mlambda\u001b[0m \u001b[0mrow\u001b[0m\u001b[1;33m:\u001b[0m \u001b[0msignPrediction\u001b[0m\u001b[1;33m(\u001b[0m\u001b[0mtrain_graph\u001b[0m\u001b[1;33m,\u001b[0m \u001b[0mmain_clusters\u001b[0m\u001b[1;33m,\u001b[0m \u001b[0mmatrix_of_similarity\u001b[0m\u001b[1;33m,\u001b[0m \u001b[1;36m5\u001b[0m\u001b[1;33m,\u001b[0m \u001b[0mrow\u001b[0m\u001b[1;33m[\u001b[0m\u001b[1;34m'source'\u001b[0m\u001b[1;33m]\u001b[0m\u001b[1;33m,\u001b[0m \u001b[0mrow\u001b[0m\u001b[1;33m[\u001b[0m\u001b[1;34m'target'\u001b[0m\u001b[1;33m]\u001b[0m\u001b[1;33m,\u001b[0m \u001b[1;36m0\u001b[0m\u001b[1;33m,\u001b[0m \u001b[0mw\u001b[0m\u001b[1;33m)\u001b[0m\u001b[1;33m,\u001b[0m \u001b[0maxis\u001b[0m\u001b[1;33m=\u001b[0m\u001b[1;36m1\u001b[0m\u001b[1;33m)\u001b[0m\u001b[1;33m\u001b[0m\u001b[1;33m\u001b[0m\u001b[0m\n\u001b[0m\u001b[0;32m      6\u001b[0m     \u001b[1;32mreturn\u001b[0m \u001b[0mnew_test_df\u001b[0m\u001b[1;33m\u001b[0m\u001b[1;33m\u001b[0m\u001b[0m\n",
            "\u001b[1;32m~\\AppData\\Local\\Packages\\PythonSoftwareFoundation.Python.3.9_qbz5n2kfra8p0\\LocalCache\\local-packages\\Python39\\site-packages\\tqdm\\std.py\u001b[0m in \u001b[0;36minner\u001b[1;34m(df, func, *args, **kwargs)\u001b[0m\n\u001b[0;32m    803\u001b[0m                 \u001b[1;31m# on the df using our wrapper (which provides bar updating)\u001b[0m\u001b[1;33m\u001b[0m\u001b[1;33m\u001b[0m\u001b[0m\n\u001b[0;32m    804\u001b[0m                 \u001b[1;32mtry\u001b[0m\u001b[1;33m:\u001b[0m\u001b[1;33m\u001b[0m\u001b[1;33m\u001b[0m\u001b[0m\n\u001b[1;32m--> 805\u001b[1;33m                     \u001b[1;32mreturn\u001b[0m \u001b[0mgetattr\u001b[0m\u001b[1;33m(\u001b[0m\u001b[0mdf\u001b[0m\u001b[1;33m,\u001b[0m \u001b[0mdf_function\u001b[0m\u001b[1;33m)\u001b[0m\u001b[1;33m(\u001b[0m\u001b[0mwrapper\u001b[0m\u001b[1;33m,\u001b[0m \u001b[1;33m**\u001b[0m\u001b[0mkwargs\u001b[0m\u001b[1;33m)\u001b[0m\u001b[1;33m\u001b[0m\u001b[1;33m\u001b[0m\u001b[0m\n\u001b[0m\u001b[0;32m    806\u001b[0m                 \u001b[1;32mfinally\u001b[0m\u001b[1;33m:\u001b[0m\u001b[1;33m\u001b[0m\u001b[1;33m\u001b[0m\u001b[0m\n\u001b[0;32m    807\u001b[0m                     \u001b[0mt\u001b[0m\u001b[1;33m.\u001b[0m\u001b[0mclose\u001b[0m\u001b[1;33m(\u001b[0m\u001b[1;33m)\u001b[0m\u001b[1;33m\u001b[0m\u001b[1;33m\u001b[0m\u001b[0m\n",
            "\u001b[1;32m~\\AppData\\Local\\Packages\\PythonSoftwareFoundation.Python.3.9_qbz5n2kfra8p0\\LocalCache\\local-packages\\Python39\\site-packages\\pandas\\core\\frame.py\u001b[0m in \u001b[0;36mapply\u001b[1;34m(self, func, axis, raw, result_type, args, **kwds)\u001b[0m\n\u001b[0;32m   7766\u001b[0m             \u001b[0mkwds\u001b[0m\u001b[1;33m=\u001b[0m\u001b[0mkwds\u001b[0m\u001b[1;33m,\u001b[0m\u001b[1;33m\u001b[0m\u001b[1;33m\u001b[0m\u001b[0m\n\u001b[0;32m   7767\u001b[0m         )\n\u001b[1;32m-> 7768\u001b[1;33m         \u001b[1;32mreturn\u001b[0m \u001b[0mop\u001b[0m\u001b[1;33m.\u001b[0m\u001b[0mget_result\u001b[0m\u001b[1;33m(\u001b[0m\u001b[1;33m)\u001b[0m\u001b[1;33m\u001b[0m\u001b[1;33m\u001b[0m\u001b[0m\n\u001b[0m\u001b[0;32m   7769\u001b[0m \u001b[1;33m\u001b[0m\u001b[0m\n\u001b[0;32m   7770\u001b[0m     \u001b[1;32mdef\u001b[0m \u001b[0mapplymap\u001b[0m\u001b[1;33m(\u001b[0m\u001b[0mself\u001b[0m\u001b[1;33m,\u001b[0m \u001b[0mfunc\u001b[0m\u001b[1;33m,\u001b[0m \u001b[0mna_action\u001b[0m\u001b[1;33m:\u001b[0m \u001b[0mOptional\u001b[0m\u001b[1;33m[\u001b[0m\u001b[0mstr\u001b[0m\u001b[1;33m]\u001b[0m \u001b[1;33m=\u001b[0m \u001b[1;32mNone\u001b[0m\u001b[1;33m)\u001b[0m \u001b[1;33m->\u001b[0m \u001b[0mDataFrame\u001b[0m\u001b[1;33m:\u001b[0m\u001b[1;33m\u001b[0m\u001b[1;33m\u001b[0m\u001b[0m\n",
            "\u001b[1;32m~\\AppData\\Local\\Packages\\PythonSoftwareFoundation.Python.3.9_qbz5n2kfra8p0\\LocalCache\\local-packages\\Python39\\site-packages\\pandas\\core\\apply.py\u001b[0m in \u001b[0;36mget_result\u001b[1;34m(self)\u001b[0m\n\u001b[0;32m    183\u001b[0m             \u001b[1;32mreturn\u001b[0m \u001b[0mself\u001b[0m\u001b[1;33m.\u001b[0m\u001b[0mapply_raw\u001b[0m\u001b[1;33m(\u001b[0m\u001b[1;33m)\u001b[0m\u001b[1;33m\u001b[0m\u001b[1;33m\u001b[0m\u001b[0m\n\u001b[0;32m    184\u001b[0m \u001b[1;33m\u001b[0m\u001b[0m\n\u001b[1;32m--> 185\u001b[1;33m         \u001b[1;32mreturn\u001b[0m \u001b[0mself\u001b[0m\u001b[1;33m.\u001b[0m\u001b[0mapply_standard\u001b[0m\u001b[1;33m(\u001b[0m\u001b[1;33m)\u001b[0m\u001b[1;33m\u001b[0m\u001b[1;33m\u001b[0m\u001b[0m\n\u001b[0m\u001b[0;32m    186\u001b[0m \u001b[1;33m\u001b[0m\u001b[0m\n\u001b[0;32m    187\u001b[0m     \u001b[1;32mdef\u001b[0m \u001b[0mapply_empty_result\u001b[0m\u001b[1;33m(\u001b[0m\u001b[0mself\u001b[0m\u001b[1;33m)\u001b[0m\u001b[1;33m:\u001b[0m\u001b[1;33m\u001b[0m\u001b[1;33m\u001b[0m\u001b[0m\n",
            "\u001b[1;32m~\\AppData\\Local\\Packages\\PythonSoftwareFoundation.Python.3.9_qbz5n2kfra8p0\\LocalCache\\local-packages\\Python39\\site-packages\\pandas\\core\\apply.py\u001b[0m in \u001b[0;36mapply_standard\u001b[1;34m(self)\u001b[0m\n\u001b[0;32m    274\u001b[0m \u001b[1;33m\u001b[0m\u001b[0m\n\u001b[0;32m    275\u001b[0m     \u001b[1;32mdef\u001b[0m \u001b[0mapply_standard\u001b[0m\u001b[1;33m(\u001b[0m\u001b[0mself\u001b[0m\u001b[1;33m)\u001b[0m\u001b[1;33m:\u001b[0m\u001b[1;33m\u001b[0m\u001b[1;33m\u001b[0m\u001b[0m\n\u001b[1;32m--> 276\u001b[1;33m         \u001b[0mresults\u001b[0m\u001b[1;33m,\u001b[0m \u001b[0mres_index\u001b[0m \u001b[1;33m=\u001b[0m \u001b[0mself\u001b[0m\u001b[1;33m.\u001b[0m\u001b[0mapply_series_generator\u001b[0m\u001b[1;33m(\u001b[0m\u001b[1;33m)\u001b[0m\u001b[1;33m\u001b[0m\u001b[1;33m\u001b[0m\u001b[0m\n\u001b[0m\u001b[0;32m    277\u001b[0m \u001b[1;33m\u001b[0m\u001b[0m\n\u001b[0;32m    278\u001b[0m         \u001b[1;31m# wrap results\u001b[0m\u001b[1;33m\u001b[0m\u001b[1;33m\u001b[0m\u001b[0m\n",
            "\u001b[1;32m~\\AppData\\Local\\Packages\\PythonSoftwareFoundation.Python.3.9_qbz5n2kfra8p0\\LocalCache\\local-packages\\Python39\\site-packages\\pandas\\core\\apply.py\u001b[0m in \u001b[0;36mapply_series_generator\u001b[1;34m(self)\u001b[0m\n\u001b[0;32m    288\u001b[0m             \u001b[1;32mfor\u001b[0m \u001b[0mi\u001b[0m\u001b[1;33m,\u001b[0m \u001b[0mv\u001b[0m \u001b[1;32min\u001b[0m \u001b[0menumerate\u001b[0m\u001b[1;33m(\u001b[0m\u001b[0mseries_gen\u001b[0m\u001b[1;33m)\u001b[0m\u001b[1;33m:\u001b[0m\u001b[1;33m\u001b[0m\u001b[1;33m\u001b[0m\u001b[0m\n\u001b[0;32m    289\u001b[0m                 \u001b[1;31m# ignore SettingWithCopy here in case the user mutates\u001b[0m\u001b[1;33m\u001b[0m\u001b[1;33m\u001b[0m\u001b[0m\n\u001b[1;32m--> 290\u001b[1;33m                 \u001b[0mresults\u001b[0m\u001b[1;33m[\u001b[0m\u001b[0mi\u001b[0m\u001b[1;33m]\u001b[0m \u001b[1;33m=\u001b[0m \u001b[0mself\u001b[0m\u001b[1;33m.\u001b[0m\u001b[0mf\u001b[0m\u001b[1;33m(\u001b[0m\u001b[0mv\u001b[0m\u001b[1;33m)\u001b[0m\u001b[1;33m\u001b[0m\u001b[1;33m\u001b[0m\u001b[0m\n\u001b[0m\u001b[0;32m    291\u001b[0m                 \u001b[1;32mif\u001b[0m \u001b[0misinstance\u001b[0m\u001b[1;33m(\u001b[0m\u001b[0mresults\u001b[0m\u001b[1;33m[\u001b[0m\u001b[0mi\u001b[0m\u001b[1;33m]\u001b[0m\u001b[1;33m,\u001b[0m \u001b[0mABCSeries\u001b[0m\u001b[1;33m)\u001b[0m\u001b[1;33m:\u001b[0m\u001b[1;33m\u001b[0m\u001b[1;33m\u001b[0m\u001b[0m\n\u001b[0;32m    292\u001b[0m                     \u001b[1;31m# If we have a view on v, we need to make a copy because\u001b[0m\u001b[1;33m\u001b[0m\u001b[1;33m\u001b[0m\u001b[0m\n",
            "\u001b[1;32m~\\AppData\\Local\\Packages\\PythonSoftwareFoundation.Python.3.9_qbz5n2kfra8p0\\LocalCache\\local-packages\\Python39\\site-packages\\tqdm\\std.py\u001b[0m in \u001b[0;36mwrapper\u001b[1;34m(*args, **kwargs)\u001b[0m\n\u001b[0;32m    798\u001b[0m                     \u001b[1;31m# take a fast or slow code path; so stop when t.total==t.n\u001b[0m\u001b[1;33m\u001b[0m\u001b[1;33m\u001b[0m\u001b[0m\n\u001b[0;32m    799\u001b[0m                     \u001b[0mt\u001b[0m\u001b[1;33m.\u001b[0m\u001b[0mupdate\u001b[0m\u001b[1;33m(\u001b[0m\u001b[0mn\u001b[0m\u001b[1;33m=\u001b[0m\u001b[1;36m1\u001b[0m \u001b[1;32mif\u001b[0m \u001b[1;32mnot\u001b[0m \u001b[0mt\u001b[0m\u001b[1;33m.\u001b[0m\u001b[0mtotal\u001b[0m \u001b[1;32mor\u001b[0m \u001b[0mt\u001b[0m\u001b[1;33m.\u001b[0m\u001b[0mn\u001b[0m \u001b[1;33m<\u001b[0m \u001b[0mt\u001b[0m\u001b[1;33m.\u001b[0m\u001b[0mtotal\u001b[0m \u001b[1;32melse\u001b[0m \u001b[1;36m0\u001b[0m\u001b[1;33m)\u001b[0m\u001b[1;33m\u001b[0m\u001b[1;33m\u001b[0m\u001b[0m\n\u001b[1;32m--> 800\u001b[1;33m                     \u001b[1;32mreturn\u001b[0m \u001b[0mfunc\u001b[0m\u001b[1;33m(\u001b[0m\u001b[1;33m*\u001b[0m\u001b[0margs\u001b[0m\u001b[1;33m,\u001b[0m \u001b[1;33m**\u001b[0m\u001b[0mkwargs\u001b[0m\u001b[1;33m)\u001b[0m\u001b[1;33m\u001b[0m\u001b[1;33m\u001b[0m\u001b[0m\n\u001b[0m\u001b[0;32m    801\u001b[0m \u001b[1;33m\u001b[0m\u001b[0m\n\u001b[0;32m    802\u001b[0m                 \u001b[1;31m# Apply the provided function (in **kwargs)\u001b[0m\u001b[1;33m\u001b[0m\u001b[1;33m\u001b[0m\u001b[0m\n",
            "\u001b[1;32m<ipython-input-64-c514d2119692>\u001b[0m in \u001b[0;36m<lambda>\u001b[1;34m(row)\u001b[0m\n\u001b[0;32m      3\u001b[0m     \u001b[0mnew_test_df\u001b[0m \u001b[1;33m=\u001b[0m \u001b[0mtest_df\u001b[0m\u001b[1;33m.\u001b[0m\u001b[0mcopy\u001b[0m\u001b[1;33m(\u001b[0m\u001b[1;33m)\u001b[0m\u001b[1;33m\u001b[0m\u001b[1;33m\u001b[0m\u001b[0m\n\u001b[0;32m      4\u001b[0m     \u001b[0mtqdm\u001b[0m\u001b[1;33m.\u001b[0m\u001b[0mpandas\u001b[0m\u001b[1;33m(\u001b[0m\u001b[1;33m)\u001b[0m\u001b[1;33m\u001b[0m\u001b[1;33m\u001b[0m\u001b[0m\n\u001b[1;32m----> 5\u001b[1;33m     \u001b[0mnew_test_df\u001b[0m\u001b[1;33m[\u001b[0m\u001b[1;34m'sign prediction'\u001b[0m\u001b[1;33m]\u001b[0m \u001b[1;33m=\u001b[0m \u001b[0mnew_test_df\u001b[0m\u001b[1;33m.\u001b[0m\u001b[0mprogress_apply\u001b[0m\u001b[1;33m(\u001b[0m\u001b[1;32mlambda\u001b[0m \u001b[0mrow\u001b[0m\u001b[1;33m:\u001b[0m \u001b[0msignPrediction\u001b[0m\u001b[1;33m(\u001b[0m\u001b[0mtrain_graph\u001b[0m\u001b[1;33m,\u001b[0m \u001b[0mmain_clusters\u001b[0m\u001b[1;33m,\u001b[0m \u001b[0mmatrix_of_similarity\u001b[0m\u001b[1;33m,\u001b[0m \u001b[1;36m5\u001b[0m\u001b[1;33m,\u001b[0m \u001b[0mrow\u001b[0m\u001b[1;33m[\u001b[0m\u001b[1;34m'source'\u001b[0m\u001b[1;33m]\u001b[0m\u001b[1;33m,\u001b[0m \u001b[0mrow\u001b[0m\u001b[1;33m[\u001b[0m\u001b[1;34m'target'\u001b[0m\u001b[1;33m]\u001b[0m\u001b[1;33m,\u001b[0m \u001b[1;36m0\u001b[0m\u001b[1;33m,\u001b[0m \u001b[0mw\u001b[0m\u001b[1;33m)\u001b[0m\u001b[1;33m,\u001b[0m \u001b[0maxis\u001b[0m\u001b[1;33m=\u001b[0m\u001b[1;36m1\u001b[0m\u001b[1;33m)\u001b[0m\u001b[1;33m\u001b[0m\u001b[1;33m\u001b[0m\u001b[0m\n\u001b[0m\u001b[0;32m      6\u001b[0m     \u001b[1;32mreturn\u001b[0m \u001b[0mnew_test_df\u001b[0m\u001b[1;33m\u001b[0m\u001b[1;33m\u001b[0m\u001b[0m\n",
            "\u001b[1;32m<ipython-input-57-6daae620cf7a>\u001b[0m in \u001b[0;36msignPrediction\u001b[1;34m(G, main_clusters, all_similiarities, k, u, v, threshold, w1, sign_tag)\u001b[0m\n\u001b[0;32m     21\u001b[0m         \u001b[1;31m#print('x[i]' , x[i]  )\u001b[0m\u001b[1;33m\u001b[0m\u001b[1;33m\u001b[0m\u001b[0m\n\u001b[0;32m     22\u001b[0m \u001b[1;33m\u001b[0m\u001b[0m\n\u001b[1;32m---> 23\u001b[1;33m         \u001b[1;32mif\u001b[0m \u001b[0mlocationOfANode\u001b[0m\u001b[1;33m(\u001b[0m\u001b[0mmain_clusters\u001b[0m\u001b[1;33m,\u001b[0m \u001b[0mu\u001b[0m\u001b[1;33m)\u001b[0m \u001b[1;33m==\u001b[0m \u001b[0mlocationOfANode\u001b[0m\u001b[1;33m(\u001b[0m\u001b[0mmain_clusters\u001b[0m\u001b[1;33m,\u001b[0m \u001b[0mS_c\u001b[0m\u001b[1;33m[\u001b[0m\u001b[0mi\u001b[0m\u001b[1;33m]\u001b[0m\u001b[1;33m)\u001b[0m\u001b[1;33m:\u001b[0m\u001b[1;33m\u001b[0m\u001b[1;33m\u001b[0m\u001b[0m\n\u001b[0m\u001b[0;32m     24\u001b[0m             \u001b[0mx\u001b[0m\u001b[1;33m[\u001b[0m\u001b[0mi\u001b[0m\u001b[1;33m]\u001b[0m \u001b[1;33m=\u001b[0m \u001b[0mw1\u001b[0m \u001b[1;33m*\u001b[0m \u001b[0mx\u001b[0m\u001b[1;33m[\u001b[0m\u001b[0mi\u001b[0m\u001b[1;33m]\u001b[0m\u001b[1;33m\u001b[0m\u001b[1;33m\u001b[0m\u001b[0m\n\u001b[0;32m     25\u001b[0m         \u001b[1;32melse\u001b[0m\u001b[1;33m:\u001b[0m\u001b[1;33m\u001b[0m\u001b[1;33m\u001b[0m\u001b[0m\n",
            "\u001b[1;32m<ipython-input-29-f889d380a1d7>\u001b[0m in \u001b[0;36mlocationOfANode\u001b[1;34m(clusters, u)\u001b[0m\n\u001b[0;32m      4\u001b[0m     \u001b[0mr\u001b[0m \u001b[1;33m=\u001b[0m \u001b[1;33m-\u001b[0m\u001b[1;36m1\u001b[0m\u001b[1;33m\u001b[0m\u001b[1;33m\u001b[0m\u001b[0m\n\u001b[0;32m      5\u001b[0m     \u001b[1;32mfor\u001b[0m \u001b[0mi\u001b[0m \u001b[1;32min\u001b[0m \u001b[0mrange\u001b[0m\u001b[1;33m(\u001b[0m\u001b[0mn\u001b[0m\u001b[1;33m)\u001b[0m\u001b[1;33m:\u001b[0m\u001b[1;33m\u001b[0m\u001b[1;33m\u001b[0m\u001b[0m\n\u001b[1;32m----> 6\u001b[1;33m         \u001b[1;32mif\u001b[0m \u001b[0mu\u001b[0m \u001b[1;32min\u001b[0m \u001b[0mclusters\u001b[0m\u001b[1;33m[\u001b[0m\u001b[0mi\u001b[0m\u001b[1;33m]\u001b[0m\u001b[1;33m:\u001b[0m\u001b[1;33m\u001b[0m\u001b[1;33m\u001b[0m\u001b[0m\n\u001b[0m\u001b[0;32m      7\u001b[0m             \u001b[0mr\u001b[0m \u001b[1;33m=\u001b[0m \u001b[0mi\u001b[0m\u001b[1;33m\u001b[0m\u001b[1;33m\u001b[0m\u001b[0m\n\u001b[0;32m      8\u001b[0m     \u001b[1;32mreturn\u001b[0m \u001b[0mr\u001b[0m\u001b[1;33m\u001b[0m\u001b[1;33m\u001b[0m\u001b[0m\n",
            "\u001b[1;31mKeyboardInterrupt\u001b[0m: "
          ]
        }
      ],
      "source": [
        "acc_y = []\n",
        "f_y = []\n",
        "for w in [0.1, 0.3, 0.5, 0.7, 0.9, 1]:\n",
        "    new_test_df = calculateSignPredictions(train_graph, main_clusters, test_df, w)\n",
        "    confusion_matrix(new_test_df['sign'], new_test_df['sign prediction'])\n",
        "    acc_temp = accuracy_score(new_test_df['sign'], new_test_df['sign prediction'],  normalize=True, sample_weight=None)\n",
        "    f_temp = f1_score(new_test_df['sign'], new_test_df['sign prediction'])\n",
        "    print('acc:', acc_temp, 'f1:', f_temp)\n",
        "    acc_y.append(acc_temp)\n",
        "    f_y.append(f_y)"
      ]
    },
    {
      "cell_type": "code",
      "execution_count": null,
      "id": "efdbf935",
      "metadata": {},
      "outputs": [],
      "source": []
    }
  ],
  "metadata": {
    "colab": {
      "provenance": []
    },
    "kernelspec": {
      "display_name": "Python 3 (ipykernel)",
      "language": "python",
      "name": "python3"
    },
    "language_info": {
      "codemirror_mode": {
        "name": "ipython",
        "version": 3
      },
      "file_extension": ".py",
      "mimetype": "text/x-python",
      "name": "python",
      "nbconvert_exporter": "python",
      "pygments_lexer": "ipython3",
      "version": "3.9.13"
    }
  },
  "nbformat": 4,
  "nbformat_minor": 5
}
