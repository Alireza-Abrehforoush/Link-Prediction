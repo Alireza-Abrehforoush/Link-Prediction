{
 "cells": [
  {
   "cell_type": "code",
   "execution_count": 1,
   "metadata": {},
   "outputs": [],
   "source": [
    "import numpy as np\n",
    "import pandas as pd\n",
    "import networkx as nx\n",
    "import scipy as sc\n",
    "#from scipy import io\n",
    "#from collections import Counter\n",
    "from matplotlib import pyplot as plt\n",
    "from signet.cluster import Cluster\n",
    "from signet.block_models import SSBM\n",
    "from sklearn.model_selection import train_test_split\n",
    "from sklearn.metrics import adjusted_rand_score\n",
    "from sklearn.metrics import confusion_matrix\n",
    "from sklearn.metrics import plot_confusion_matrix\n",
    "from sklearn.metrics import plot_roc_curve\n",
    "from sklearn.metrics import accuracy_score\n",
    "from sklearn.metrics import recall_score\n",
    "from sklearn.metrics import precision_score\n",
    "from sklearn.model_selection import train_test_split"
   ]
  },
  {
   "cell_type": "code",
   "execution_count": 2,
   "metadata": {},
   "outputs": [
    {
     "data": {
      "text/html": [
       "<div>\n",
       "<style scoped>\n",
       "    .dataframe tbody tr th:only-of-type {\n",
       "        vertical-align: middle;\n",
       "    }\n",
       "\n",
       "    .dataframe tbody tr th {\n",
       "        vertical-align: top;\n",
       "    }\n",
       "\n",
       "    .dataframe thead th {\n",
       "        text-align: right;\n",
       "    }\n",
       "</style>\n",
       "<table border=\"1\" class=\"dataframe\">\n",
       "  <thead>\n",
       "    <tr style=\"text-align: right;\">\n",
       "      <th></th>\n",
       "      <th>from</th>\n",
       "      <th>to</th>\n",
       "      <th>sign</th>\n",
       "    </tr>\n",
       "  </thead>\n",
       "  <tbody>\n",
       "    <tr>\n",
       "      <th>0</th>\n",
       "      <td>1</td>\n",
       "      <td>2</td>\n",
       "      <td>1</td>\n",
       "    </tr>\n",
       "    <tr>\n",
       "      <th>3</th>\n",
       "      <td>1</td>\n",
       "      <td>3</td>\n",
       "      <td>-1</td>\n",
       "    </tr>\n",
       "    <tr>\n",
       "      <th>4</th>\n",
       "      <td>1</td>\n",
       "      <td>4</td>\n",
       "      <td>-1</td>\n",
       "    </tr>\n",
       "    <tr>\n",
       "      <th>5</th>\n",
       "      <td>5</td>\n",
       "      <td>6</td>\n",
       "      <td>1</td>\n",
       "    </tr>\n",
       "    <tr>\n",
       "      <th>7</th>\n",
       "      <td>5</td>\n",
       "      <td>7</td>\n",
       "      <td>-1</td>\n",
       "    </tr>\n",
       "  </tbody>\n",
       "</table>\n",
       "</div>"
      ],
      "text/plain": [
       "   from  to  sign\n",
       "0     1   2     1\n",
       "3     1   3    -1\n",
       "4     1   4    -1\n",
       "5     5   6     1\n",
       "7     5   7    -1"
      ]
     },
     "execution_count": 2,
     "metadata": {},
     "output_type": "execute_result"
    }
   ],
   "source": [
    "df_small = pd.read_csv(\"Datasets/dataset_small.csv\")\n",
    "df_small = df_small.drop_duplicates(inplace = False)\n",
    "df_small.head()"
   ]
  },
  {
   "cell_type": "code",
   "execution_count": 3,
   "metadata": {},
   "outputs": [],
   "source": [
    "G = nx.DiGraph()\n",
    "G = nx.from_pandas_edgelist(df = df_small, source = 'from', target = 'to', edge_attr = 'sign', create_using = nx.DiGraph(), edge_key = 'sign')"
   ]
  },
  {
   "cell_type": "code",
   "execution_count": 5,
   "metadata": {},
   "outputs": [],
   "source": [
    "nodes_no = nx.number_of_nodes(G)\n",
    "edges_no = nx.number_of_edges(G)"
   ]
  },
  {
   "cell_type": "code",
   "execution_count": 4,
   "metadata": {},
   "outputs": [
    {
     "name": "stdout",
     "output_type": "stream",
     "text": [
      "number of nodes G = 219\n",
      "number of edges G = 588\n",
      "Density of G: 0.01231619957270328\n"
     ]
    }
   ],
   "source": [
    "print('number of nodes G =',nx.number_of_nodes(G) )\n",
    "print('number of edges G =',nx.number_of_edges(G) )\n",
    "print('Density of G:', nx.density(G))"
   ]
  },
  {
   "cell_type": "code",
   "execution_count": 27,
   "metadata": {},
   "outputs": [
    {
     "name": "stdout",
     "output_type": "stream",
     "text": [
      "[1, 2, 3, 4, 5, 6, 7, 8, 9, 10, 11, 12, 13, 14, 15, 16, 17, 18, 19, 20, 21, 22, 23, 24, 25, 26, 27, 28, 29, 30, 31, 32, 33, 34, 35, 36, 37, 38, 39, 40, 41, 42, 43, 44, 45, 46, 47, 48, 49, 50, 51, 52, 53, 54, 55, 56, 57, 58, 59, 60, 61, 62, 63, 64, 65, 66, 67, 68, 69, 70, 71, 72, 73, 74, 75, 76, 77, 78, 79, 80, 81, 82, 83, 84, 85, 86, 87, 88, 89, 90, 91, 92, 93, 94, 95, 96, 97, 98, 99, 100, 101, 102, 103, 104, 105, 106, 107, 108, 109, 110, 111, 112, 113, 114, 115, 116, 117, 118, 119, 120, 121, 122, 123, 124, 125, 126, 127, 128, 129, 130, 131, 132, 133, 134, 135, 136, 137, 138, 139, 140, 141, 142, 143, 144, 145, 146, 147, 148, 149, 150, 151, 152, 153, 154, 155, 156, 157, 158, 159, 160, 161, 162, 163, 164, 165, 166, 167, 168, 169, 170, 171, 172, 173, 174, 175, 176, 177, 178, 179, 180, 181, 182, 183, 184, 185, 186, 187, 188, 189, 190, 191, 192, 193, 194, 195, 196, 197, 198, 199, 200, 201, 202, 203, 204, 205, 206, 207, 208, 209, 210, 211, 212, 213, 214, 215, 216, 217, 218, 219]\n",
      "219\n"
     ]
    }
   ],
   "source": [
    "print(G.nodes)\n",
    "print(len(G.nodes))"
   ]
  },
  {
   "cell_type": "code",
   "execution_count": 65,
   "metadata": {},
   "outputs": [],
   "source": [
    "def getSimiliarity(G, sign_tag = 'sign'):\n",
    "    nodes_no = nx.number_of_nodes(G)\n",
    "    sign_map = nx.get_edge_attributes(G, sign_tag)\n",
    "    # similiarity_matrix = np.zeros(shape = (nodes_no, nodes_no))\n",
    "    pos_matrix = np.zeros(shape = (nodes_no, nodes_no))\n",
    "    neg_matrix = np.zeros(shape = (nodes_no, nodes_no))\n",
    "    for u in G.nodes():\n",
    "        for v in G.nodes():\n",
    "            if (u != v):\n",
    "                u_neighbors = set(G.adj[u])\n",
    "                v_neighbors = set(G.adj[v])\n",
    "                uv_neighbors = list(u_neighbors.intersection(v_neighbors))\n",
    "                # similiarity_matrix[u - 1][v - 1] = np.sum([sign_map[(u, i)] * sign_map[(v, i)] for i in uv_neighbors])\n",
    "                uv_similiarity = np.sum([sign_map[(u, i)] * sign_map[(v, i)] for i in uv_neighbors])\n",
    "                if len(uv_neighbors) != 0:\n",
    "                    uv_similiarity /= len(uv_neighbors)\n",
    "                if (uv_similiarity > 0):\n",
    "                    pos_matrix[u - 1][v - 1] = 1\n",
    "                elif (uv_similiarity < 0):\n",
    "                    neg_matrix[u - 1][v - 1] = 1\n",
    "            #else:\n",
    "                #similiarity_matrix[u - 1][v - 1] = 0\n",
    "    pos_csc = sc.sparse.csc_matrix(pos_matrix)\n",
    "    neg_csc = sc.sparse.csc_matrix(neg_matrix)\n",
    "    return pos_csc, neg_csc\n"
   ]
  },
  {
   "cell_type": "code",
   "execution_count": 29,
   "metadata": {},
   "outputs": [
    {
     "name": "stdout",
     "output_type": "stream",
     "text": [
      "[[ 0.  1. -1. ...  0.  0.  0.]\n",
      " [ 1.  0. -1. ...  0.  0.  0.]\n",
      " [-1. -1.  0. ...  0.  0.  0.]\n",
      " ...\n",
      " [ 0.  0.  0. ...  0.  0.  0.]\n",
      " [ 0.  0.  0. ...  0.  0.  0.]\n",
      " [ 0.  0.  0. ...  0.  0.  0.]]\n"
     ]
    }
   ],
   "source": [
    "print(getSimiliarity(G, sign_tag = 'sign'))"
   ]
  },
  {
   "cell_type": "code",
   "execution_count": 66,
   "metadata": {},
   "outputs": [],
   "source": [
    "A_p, A_n = getSimiliarity(G, sign_tag = 'sign')"
   ]
  },
  {
   "cell_type": "code",
   "execution_count": 67,
   "metadata": {},
   "outputs": [],
   "source": [
    "c = Cluster((A_p, A_n))"
   ]
  },
  {
   "cell_type": "code",
   "execution_count": 107,
   "metadata": {},
   "outputs": [],
   "source": [
    "def getClusters(G, k):\n",
    "    spec_clus = c.spectral_cluster_bnc(k = 3, normalisation = 'sym', eigens = None, mi = None)\n",
    "    clusters = []\n",
    "    for j in range(k):\n",
    "        clusters.append([i for i in G.nodes() if spec_clus[i - 1] == j])\n",
    "    return np.array(clusters, dtype = np.ndarray)"
   ]
  },
  {
   "cell_type": "code",
   "execution_count": 109,
   "metadata": {},
   "outputs": [
    {
     "name": "stdout",
     "output_type": "stream",
     "text": [
      "[3, 4, 5, 6, 8, 9, 10, 11, 12, 13, 14, 15, 16, 17, 20, 22, 23, 24, 26, 28, 29, 30, 31, 32, 33, 34, 35, 36, 37, 38, 40, 41, 42, 44, 45, 46, 47, 48, 49, 50, 51, 52, 53, 55, 61, 64, 66, 67, 69, 71, 73, 75, 76, 77, 78, 79, 80, 81, 82, 83, 85, 86, 87, 88, 89, 90, 91, 95, 96, 97, 98, 99, 100, 101, 102, 103, 104, 105, 106, 107, 108, 109, 110, 112, 114, 115, 117, 118, 119, 120, 121, 122, 123, 125, 127, 128, 129, 130, 131, 132, 133, 134, 135, 136, 137, 139, 140, 142, 144, 145, 147, 148, 149, 150, 151, 152, 153, 156, 157, 158, 159, 160, 161, 162, 163, 164, 165, 166, 167, 168, 169, 170, 171, 172, 173, 176, 177, 178, 179, 181, 183, 184, 186, 187, 188, 189, 190, 191, 192, 193, 194, 195, 196, 198, 199, 201, 203, 204, 205, 206, 207, 208, 210, 211, 212, 213, 214, 215, 216, 217, 218, 219]\n",
      "\n",
      "[1, 2, 7, 18, 19, 21, 25, 27, 39, 43, 54, 56, 57, 58, 59, 60, 62, 63, 68, 70, 72, 74, 84, 92, 93, 94, 111, 113, 116, 124, 126, 138, 141, 143, 146, 154, 155, 174, 175, 180, 182, 185, 197, 200, 202, 209]\n",
      "\n",
      "[65]\n"
     ]
    }
   ],
   "source": [
    "clusters = getClusters(G, 3)\n",
    "print(clusters[0])\n",
    "print()\n",
    "print(clusters[1])\n",
    "print()\n",
    "print(clusters[2])"
   ]
  },
  {
   "cell_type": "code",
   "execution_count": 110,
   "metadata": {},
   "outputs": [],
   "source": [
    "def getCommonNeighbors(G, cl1, cl2):\n",
    "    x = set([])\n",
    "    for i in cl1:\n",
    "        x = x.union(set(G.adj[i]))\n",
    "    #print('x: ', x)\n",
    "    y = set([])\n",
    "    for j in cl2:\n",
    "        y = y.union(set(G.adj[j]))\n",
    "    #print('y: ', y)\n",
    "    return list(x.intersection(y))\n",
    "\n",
    "def getClusterSimiliarity(Cluster, common_neigbors, sign_tag = 'sign'):\n",
    "    sign_map = nx.get_edge_attributes(G, sign_tag)\n",
    "    y = []\n",
    "    for v in common_neigbors:\n",
    "        x = []\n",
    "        for u in Cluster:\n",
    "            if (u, v) in G.edges():\n",
    "                #print(str((u, v)) + \": \" + str(sign_map[(u, v)]))\n",
    "                x.append(sign_map[(u, v)])\n",
    "        #print(\"#\")\n",
    "        y.append(np.mean(np.array(x)))\n",
    "    return np.array(y)\n",
    "\n",
    "\n",
    "def getSimiliarity(y1, y2):\n",
    "    alpha = np.dot(y1.T, y2)\n",
    "    beta = np.dot(y1.T, y1)\n",
    "    gamma = np.dot(y2.T, y2)\n",
    "    return alpha / np.sqrt((beta * gamma))\n",
    "\n",
    "\n",
    "# main function to calculate the similiarity between two clusters\n",
    "def getInterClusterSimiliarity(cl1, cl2, common_neigbors):\n",
    "    y1 = getClusterSimiliarity(cl1, common_neigbors)\n",
    "    y2 = getClusterSimiliarity(cl2, common_neigbors)\n",
    "    return getSimiliarity(y1, y2)\n",
    "\n",
    "# calculates similiarities between each two clusters and returns a matrix\n",
    "def getAllSimiliaritiesBetweenClusters(G, clusters):\n",
    "    clusters_no = clusters.shape[0]\n",
    "    similiarities = np.zeros(shape = (clusters_no, clusters_no))\n",
    "    for i in range(clusters_no):\n",
    "        for j in range(i, clusters_no):\n",
    "            common_neighbors = getCommonNeighbors(G, clusters[i], clusters[j])\n",
    "            similiarities[i][j] = similiarities[j][i] = getInterClusterSimiliarity(clusters[i], clusters[j], common_neighbors)\n",
    "    return similiarities"
   ]
  },
  {
   "cell_type": "code",
   "execution_count": null,
   "metadata": {},
   "outputs": [],
   "source": []
  },
  {
   "cell_type": "code",
   "execution_count": null,
   "metadata": {},
   "outputs": [],
   "source": [
    "def signPrediction(G, sign_map, clusters, common_neighbors, u, v, threshold):\n",
    "    #if ((u, v) in G.edges()):\n",
    "        #pass\n",
    "    #else:\n",
    "        u_c = whereIsIt(main_clusters, u)\n",
    "        v_c = whereIsIt(main_clusters, v)\n",
    "        S = calcX(G, v)\n",
    "        S_c = whereAreThey(main_clusters, S)\n",
    "        \n",
    "        n = len(S)\n",
    "        x = np.zeros(n)\n",
    "        for i in range(n):\n",
    "            x[i] = getInterClusterSimiliarity(main_clusters[u_c], main_clusters[int(S_c[i])], s_AB)\n",
    "        r = np.zeros(n)\n",
    "        for i in range(n):\n",
    "            r[i] = AA1[(S[i], v)]\n",
    "        #print(x)\n",
    "        #print(r)\n",
    "        result = (np.dot(x.T, r)) / (np.sum(x))\n",
    "        if result > threshold:\n",
    "            return 1\n",
    "        else:\n",
    "            return -1"
   ]
  }
 ],
 "metadata": {
  "kernelspec": {
   "display_name": "Python 3",
   "language": "python",
   "name": "python3"
  },
  "language_info": {
   "codemirror_mode": {
    "name": "ipython",
    "version": 3
   },
   "file_extension": ".py",
   "mimetype": "text/x-python",
   "name": "python",
   "nbconvert_exporter": "python",
   "pygments_lexer": "ipython3",
   "version": "3.8.5"
  }
 },
 "nbformat": 4,
 "nbformat_minor": 4
}
