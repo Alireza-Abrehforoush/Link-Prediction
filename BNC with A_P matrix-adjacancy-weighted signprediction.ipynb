{
 "cells": [
  {
   "cell_type": "code",
   "execution_count": 347,
   "metadata": {},
   "outputs": [],
   "source": [
    "import math\n",
    "import numpy as np\n",
    "import pandas as pd\n",
    "import networkx as nx\n",
    "import scipy as sc\n",
    "#from scipy import io\n",
    "#from collections import Counter\n",
    "from matplotlib import pyplot as plt\n",
    "from signet.cluster import Cluster\n",
    "from sklearn.model_selection import train_test_split\n",
    "from sklearn.metrics import adjusted_rand_score\n",
    "from sklearn.metrics import confusion_matrix\n",
    "from sklearn.metrics import plot_confusion_matrix\n",
    "from sklearn.metrics import plot_roc_curve\n",
    "from sklearn.metrics import accuracy_score\n",
    "from sklearn.metrics import f1_score\n",
    "from sklearn.metrics import recall_score\n",
    "from sklearn.metrics import precision_score\n",
    "from sklearn.model_selection import train_test_split"
   ]
  },
  {
   "cell_type": "code",
   "execution_count": 348,
   "metadata": {},
   "outputs": [],
   "source": [
    "df_small = pd.read_csv(\"New_ Microsoft_ Excel_ Worksheet.csv\")\n",
    "#df_small = pd.read_csv(\"test11.csv\")\n",
    "df_small = df_small.drop_duplicates(inplace = False)\n",
    "df_small_p = df_small[df_small['sign'] == 1]\n",
    "df_small_n = df_small[df_small['sign'] == -1]"
   ]
  },
  {
   "cell_type": "code",
   "execution_count": 349,
   "metadata": {},
   "outputs": [],
   "source": [
    "df_small_train_p, df_small_test_p, df_small_train_label_p, df_small_test_label_p = train_test_split(df_small_p, df_small_p['source'], test_size = 0.40)\n",
    "df_small_train_n, df_small_test_n, df_small_train_label_n, df_small_test_label_n = train_test_split(df_small_n, df_small_n['source'], test_size = 0.40)\n",
    "df_small_train_final = pd.concat([df_small_train_p, df_small_train_n])\n",
    "df_small_test_final = pd.concat([df_small_test_p, df_small_test_n])"
   ]
  },
  {
   "cell_type": "code",
   "execution_count": 350,
   "metadata": {
    "scrolled": true
   },
   "outputs": [],
   "source": [
    "#df_small_test_final.head()"
   ]
  },
  {
   "cell_type": "code",
   "execution_count": 351,
   "metadata": {},
   "outputs": [],
   "source": [
    "def relabel(df):\n",
    "    source_old_labels = df[\"source\"].drop_duplicates().to_numpy()\n",
    "    #print(source_old_labels)\n",
    "    target_old_labels = df[\"target\"].drop_duplicates().to_numpy()\n",
    "    all_old_labels = np.union1d(source_old_labels, target_old_labels)\n",
    "    index_map = dict(enumerate(all_old_labels))\n",
    "    new_index_map = dict([(value, key) for key, value in index_map.items()])\n",
    "    #print(all_old_labels)\n",
    "    new_df = df.copy()\n",
    "    for index, row in new_df.iterrows():\n",
    "        #print(row[\"source\"])\n",
    "        row[\"source\"] = new_index_map[row[\"source\"]]\n",
    "        row[\"target\"] = new_index_map[row[\"target\"]]\n",
    "    return new_index_map, new_df"
   ]
  },
  {
   "cell_type": "code",
   "execution_count": 352,
   "metadata": {},
   "outputs": [],
   "source": [
    "ind_map, df_small_test_final = relabel(df_small_test_final)"
   ]
  },
  {
   "cell_type": "code",
   "execution_count": 353,
   "metadata": {},
   "outputs": [],
   "source": [
    "G = nx.DiGraph()\n",
    "G = nx.from_pandas_edgelist(df = df_small_test_final, source = 'source', target = 'target', edge_attr = 'sign', create_using = nx.DiGraph(), edge_key = 'sign')"
   ]
  },
  {
   "cell_type": "code",
   "execution_count": 354,
   "metadata": {},
   "outputs": [],
   "source": [
    "nodes_no = nx.number_of_nodes(G)\n",
    "edges_no = nx.number_of_edges(G)"
   ]
  },
  {
   "cell_type": "code",
   "execution_count": 355,
   "metadata": {},
   "outputs": [
    {
     "name": "stdout",
     "output_type": "stream",
     "text": [
      "number of nodes G = 693\n",
      "number of edges G = 807\n",
      "Density of G: 0.0016828065961013937\n"
     ]
    }
   ],
   "source": [
    "print('number of nodes G =',nx.number_of_nodes(G) )\n",
    "print('number of edges G =',nx.number_of_edges(G) )\n",
    "print('Density of G:', nx.density(G))"
   ]
  },
  {
   "cell_type": "code",
   "execution_count": 356,
   "metadata": {},
   "outputs": [],
   "source": [
    "rows = df_small_test_final.loc[:, \"source\"].to_numpy()\n",
    "cols = df_small_test_final.loc[:, \"target\"].to_numpy()\n",
    "sign = df_small_test_final.loc[:, \"sign\"].to_numpy()"
   ]
  },
  {
   "cell_type": "code",
   "execution_count": 357,
   "metadata": {},
   "outputs": [],
   "source": [
    "p_rows = [rows[i] for i in range(len(rows)) if sign[i] == 1]\n",
    "p_cols = [cols[i] for i in range(len(cols)) if sign[i] == 1]\n",
    "p_data = np.ones(len(p_rows))\n",
    "\n",
    "n_rows = [rows[i] for i in range(len(rows)) if sign[i] == -1]\n",
    "n_cols = [cols[i] for i in range(len(cols)) if sign[i] == -1]\n",
    "n_data = np.ones(len(n_rows))"
   ]
  },
  {
   "cell_type": "code",
   "execution_count": 358,
   "metadata": {},
   "outputs": [],
   "source": [
    "A_p = sc.sparse.csc_matrix((p_data, (p_rows, p_cols)), shape = (nodes_no , nodes_no))\n",
    "A_n = sc.sparse.csc_matrix((n_data, (n_rows, n_cols)), shape = (nodes_no , nodes_no))\n",
    "#A_p = A_p+A_p.T\n",
    "#A_n = A_n+A_n.T\n",
    "#print(\"A_p\",A_p)\n",
    "#print(\"A_n\",A_n)"
   ]
  },
  {
   "cell_type": "code",
   "execution_count": 359,
   "metadata": {},
   "outputs": [
    {
     "name": "stdout",
     "output_type": "stream",
     "text": [
      "(696,)\n",
      "(111,)\n"
     ]
    }
   ],
   "source": [
    "print(p_data.shape)\n",
    "print(n_data.shape)"
   ]
  },
  {
   "cell_type": "code",
   "execution_count": 360,
   "metadata": {},
   "outputs": [],
   "source": [
    "def getNeighborsOfANode(G, u):\n",
    "    x = []\n",
    "    for v in G.nodes():\n",
    "        if ((v, u) in G.edges()):\n",
    "            x.append(v)\n",
    "    return np.array(x)\n",
    "\n",
    "\n",
    "\n",
    "\n",
    "\n",
    "\n",
    "def NodeswithoutInAndOutneighbors(G, sign_tag = 'sign'):\n",
    "    nodes_no = nx.number_of_nodes(G)\n",
    "    sign_map = nx.get_edge_attributes(G, sign_tag)\n",
    "    n = 0\n",
    "    for u in G.nodes():\n",
    "        for v in G.nodes():\n",
    "            #print(\"u: \", u, \", v: \", v)\n",
    "            if (u != v):\n",
    "                u_neighbors = set(G.adj[u])\n",
    "                v_neighbors = set(G.adj[v])\n",
    "                uv_neighbors = list(u_neighbors.intersection(v_neighbors))\n",
    "                u_inneighbors = set(getNeighborsOfANode(G, u))\n",
    "                v_inneighbors = set(getNeighborsOfANode(G, v))\n",
    "                uv_inneighbors = list(u_inneighbors.intersection(v_inneighbors))\n",
    "                if (len(uv_neighbors) + len(uv_inneighbors)) == 0 and (u,v) in G.edges():\n",
    "                    n = n+1\n",
    "                    print(\"(u,v):\" , (u,v))\n",
    "    return n"
   ]
  },
  {
   "cell_type": "code",
   "execution_count": 361,
   "metadata": {},
   "outputs": [],
   "source": [
    "#print(NodeswithoutInAndOutneighbors(G, sign_tag = 'sign'))"
   ]
  },
  {
   "cell_type": "code",
   "execution_count": 362,
   "metadata": {},
   "outputs": [],
   "source": [
    "c = Cluster((A_p, A_n))"
   ]
  },
  {
   "cell_type": "code",
   "execution_count": 363,
   "metadata": {},
   "outputs": [],
   "source": [
    "#for i in range(1,20):\n",
    "    #print(c.spectral_cluster_bnc(k = 2, normalisation = 'sym', eigens = None, mi = None))"
   ]
  },
  {
   "cell_type": "code",
   "execution_count": 364,
   "metadata": {},
   "outputs": [],
   "source": [
    "def getClusters(G, k):\n",
    "    spec_clus = c.spectral_cluster_adjacency(k = 5, normalisation = 'sym_sep', eigens = None, mi = None)\n",
    "    clusters = []\n",
    "    for j in range(k):\n",
    "        clusters.append([i for i in G.nodes() if spec_clus[int(i - 1)] == j])\n",
    "    return np.array(clusters, dtype = np.ndarray)"
   ]
  },
  {
   "cell_type": "code",
   "execution_count": 365,
   "metadata": {},
   "outputs": [],
   "source": [
    "clusters = getClusters(G, 5)\n",
    "cluster1 = clusters[0]\n",
    "cluster2 = clusters[1]\n",
    "cluster3 = clusters[2]\n",
    "cluster4 = clusters[3]\n",
    "cluster5 = clusters[4]\n",
    "\n",
    "#print(\"cluster1:\",cluster1)\n",
    "#print()\n",
    "#print(\"cluster2:\",cluster2)\n",
    "#print()\n",
    "#print(\"cluster3:\",cluster3)\n",
    "#print()\n",
    "#print(\"cluster4:\",cluster4)\n",
    "#print()\n",
    "#print(\"cluster5:\",cluster5)\n"
   ]
  },
  {
   "cell_type": "code",
   "execution_count": 366,
   "metadata": {},
   "outputs": [
    {
     "name": "stdout",
     "output_type": "stream",
     "text": [
      "40\n",
      "281\n",
      "326\n",
      "2\n",
      "44\n"
     ]
    }
   ],
   "source": [
    "print(len(cluster1))\n",
    "print(len(cluster2))\n",
    "print(len(cluster3))\n",
    "print(len(cluster4))\n",
    "print(len(cluster5))"
   ]
  },
  {
   "cell_type": "code",
   "execution_count": 367,
   "metadata": {},
   "outputs": [],
   "source": [
    "def getCommonNeighbors(G, cl1, cl2):\n",
    "    x = set([])\n",
    "    for i in cl1:\n",
    "        x = x.union(set(G.adj[i]))\n",
    "    #print('x: ', x)\n",
    "    y = set([])\n",
    "    for j in cl2:\n",
    "        y = y.union(set(G.adj[j]))\n",
    "    #print('y: ', y)\n",
    "    return list(x.intersection(y))\n",
    "\n",
    "def locationOfANode(clusters, u):\n",
    "    n = clusters.shape[0]\n",
    "    x = np.zeros(n)\n",
    "    r = -1\n",
    "    for i in range(n):\n",
    "        if u in clusters[i]:\n",
    "            r = i\n",
    "    return r\n",
    "\n",
    "def getClusterSimiliarity(Cluster, common_neighbors, sign_tag = 'sign'):\n",
    "    sign_map = nx.get_edge_attributes(G, sign_tag)\n",
    "    epsilon = 10 ** (-5)\n",
    "    y = []\n",
    "    for v in common_neighbors:\n",
    "        # adding an epsilon to prevent mean of an empty array\n",
    "        x = [epsilon]\n",
    "        #x = []\n",
    "        for u in Cluster:\n",
    "            if (u, v) in G.edges():\n",
    "                x.append(sign_map[(u, v)])\n",
    "                #print(\"u\", u , \"v\" , v)\n",
    "        y.append(np.mean(np.array(x)))\n",
    "    return np.array(y)\n",
    "\n",
    "\n",
    "def getSimiliarity(y1, y2):\n",
    "    alpha = np.dot(y1.T, y2)\n",
    "    beta = np.dot(y1.T, y1)\n",
    "    gamma = np.dot(y2.T, y2)\n",
    "    if (beta * gamma < 0):\n",
    "        print('it\"s negative: ', beta * gamma)\n",
    "    epsilon = 10 ** (-5)\n",
    "    return alpha / (np.sqrt((beta * gamma)) + epsilon)\n",
    "\n",
    "\n",
    "# main function to calculate the similiarity between two clusters\n",
    "def getInterClusterSimiliarity(cl1, cl2, common_neighbors):\n",
    "    y1 = getClusterSimiliarity(cl1, common_neighbors)\n",
    "    y2 = getClusterSimiliarity(cl2, common_neighbors)\n",
    "    return getSimiliarity(y1, y2)\n",
    "\n",
    "# calculates similiarities between each two clusters and returns a matrix\n",
    "def getAllSimiliaritiesBetweenClusters(G, clusters):\n",
    "    clusters_no = clusters.shape[0]\n",
    "    similiarities = np.zeros(shape = (clusters_no, clusters_no))\n",
    "    for i in range(clusters_no):\n",
    "        for j in range(i, clusters_no):\n",
    "            common_neighbors = getCommonNeighbors(G, clusters[i], clusters[j])\n",
    "            current_similiarity = getInterClusterSimiliarity(clusters[i], clusters[j], common_neighbors)\n",
    "           # similiarities[i][j] = similiarities[j][i] = current_similiarity\n",
    "            if (math.isnan(current_similiarity)):\n",
    "                similiarities[i][j] = similiarities[j][i] = 0\n",
    "            else:\n",
    "                similiarities[i][j] = similiarities[j][i] = current_similiarity\n",
    "    return similiarities"
   ]
  },
  {
   "cell_type": "code",
   "execution_count": 368,
   "metadata": {},
   "outputs": [
    {
     "data": {
      "text/plain": [
       "array([[ 1.  ,  0.58,  0.43,  0.  , -0.38],\n",
       "       [ 0.58,  1.  ,  0.67,  0.  ,  0.27],\n",
       "       [ 0.43,  0.67,  1.  ,  0.  ,  0.51],\n",
       "       [ 0.  ,  0.  ,  0.  ,  1.  ,  0.  ],\n",
       "       [-0.38,  0.27,  0.51,  0.  ,  1.  ]])"
      ]
     },
     "execution_count": 368,
     "metadata": {},
     "output_type": "execute_result"
    }
   ],
   "source": [
    "common_neighbors = getCommonNeighbors(G, cluster1, cluster2)\n",
    "common_neighbors\n",
    "y1 = getClusterSimiliarity(cluster1, common_neighbors)\n",
    "y2 = getClusterSimiliarity(cluster2, common_neighbors)\n",
    "similarity = getInterClusterSimiliarity(cluster1, cluster2, common_neighbors)\n",
    "similarity \n",
    "matrix_of_similarity = getAllSimiliaritiesBetweenClusters(G, clusters)\n",
    "matrix_of_similarity"
   ]
  },
  {
   "cell_type": "code",
   "execution_count": 369,
   "metadata": {},
   "outputs": [],
   "source": [
    "def getNeighborsOfANode(G, u):\n",
    "    x = []\n",
    "    for v in G.nodes():\n",
    "        if ((v, u) in G.edges()):\n",
    "            x.append(v)\n",
    "    return np.array(x)"
   ]
  },
  {
   "cell_type": "code",
   "execution_count": 370,
   "metadata": {},
   "outputs": [],
   "source": [
    "\n",
    "def locationOfArrayOfNode(clusters, U):\n",
    "    x = np.zeros(len(U))\n",
    "    for i in range(len(x)):\n",
    "        x[i] = locationOfANode(clusters, U[i])\n",
    "    return x"
   ]
  },
  {
   "cell_type": "code",
   "execution_count": 371,
   "metadata": {},
   "outputs": [],
   "source": [
    "def signPrediction(G, k, u, v, threshold, w1, sign_tag = \"sign\"):\n",
    "    sign_map = nx.get_edge_attributes(G, sign_tag)\n",
    "    main_clusters = getClusters(G, k)\n",
    "    u_c = locationOfANode(main_clusters, u)\n",
    "    u_v = locationOfANode(main_clusters, v)\n",
    "    cl1 = main_clusters[u_c]\n",
    "    cl2 = main_clusters[u_v]\n",
    "    s_AB = getCommonNeighbors(G, cl1, cl2)\n",
    "    #print(s_AB)\n",
    "    S = getNeighborsOfANode(G, v)\n",
    "    S_c = locationOfArrayOfNode(main_clusters, S)\n",
    "    n = len(S)\n",
    "    x = np.zeros(n)\n",
    "    for i in range(n):\n",
    "        x[i] = getInterClusterSimiliarity(main_clusters[u_c], main_clusters[int(S_c[i])], s_AB)\n",
    "        if locationOfANode(main_clusters, u) == locationOfANode(main_clusters, S_c[i]):\n",
    "            x[i] = w1 * x[i] \n",
    "        else:\n",
    "            x[i] = (1-w1) * x[i]\n",
    "        \n",
    "    r = np.zeros(n)\n",
    "    for i in range(n):\n",
    "        r[i] = sign_map[(S[i], v)]\n",
    "    #print('x: ', x)\n",
    "    #print('r: ', r)\n",
    "    #if (np.sum(x) == 0):\n",
    "    #    print('it is zero')\n",
    "    epsilon = 10 ** (-5)\n",
    "    result = (np.dot(x.T, r)) / (np.sum(x) + epsilon)\n",
    "    if result > threshold:\n",
    "        return 1\n",
    "    else:\n",
    "        return -1"
   ]
  },
  {
   "cell_type": "code",
   "execution_count": 372,
   "metadata": {},
   "outputs": [],
   "source": [
    "#zz = np.zeros(df_small_test_final.shape[0])\n",
    "#df_small_test_final['sign prediction'] = df_small_test_final.apply(lambda row : signPrediction(G, 5, row['source'], row['target'], 0, 0.75), axis = 1)\n",
    "#confusion_matrix(df_small_test_final['sign'], df_small_test_final['sign prediction'])\n",
    "#acc_temp = accuracy_score(df_small_test_final['sign'], df_small_test_final['sign prediction'],  normalize=True, sample_weight=None)\n",
    "#f_temp = f1_score(df_small_test_final['sign'], df_small_test_final['sign prediction'])"
   ]
  },
  {
   "cell_type": "code",
   "execution_count": 373,
   "metadata": {},
   "outputs": [
    {
     "name": "stdout",
     "output_type": "stream",
     "text": [
      "0.9454770755885997\n",
      "0.9685714285714285\n"
     ]
    }
   ],
   "source": [
    "#print(acc_temp)\n",
    "#print(f_temp)"
   ]
  },
  {
   "cell_type": "code",
   "execution_count": 374,
   "metadata": {
    "scrolled": true
   },
   "outputs": [
    {
     "ename": "KeyboardInterrupt",
     "evalue": "",
     "output_type": "error",
     "traceback": [
      "\u001b[1;31m---------------------------------------------------------------------------\u001b[0m",
      "\u001b[1;31mKeyboardInterrupt\u001b[0m                         Traceback (most recent call last)",
      "Input \u001b[1;32mIn [374]\u001b[0m, in \u001b[0;36m<cell line: 5>\u001b[1;34m()\u001b[0m\n\u001b[0;32m      5\u001b[0m \u001b[38;5;28;01mfor\u001b[39;00m w \u001b[38;5;129;01min\u001b[39;00m [i \u001b[38;5;241m/\u001b[39m \u001b[38;5;241m10\u001b[39m \u001b[38;5;28;01mfor\u001b[39;00m i \u001b[38;5;129;01min\u001b[39;00m \u001b[38;5;28mrange\u001b[39m(\u001b[38;5;241m0\u001b[39m, \u001b[38;5;241m11\u001b[39m)]:\n\u001b[0;32m      6\u001b[0m     zz \u001b[38;5;241m=\u001b[39m np\u001b[38;5;241m.\u001b[39mzeros(df_small_test_final\u001b[38;5;241m.\u001b[39mshape[\u001b[38;5;241m0\u001b[39m])\n\u001b[1;32m----> 7\u001b[0m     df_small_test_final[\u001b[38;5;124m'\u001b[39m\u001b[38;5;124msign prediction\u001b[39m\u001b[38;5;124m'\u001b[39m] \u001b[38;5;241m=\u001b[39m \u001b[43mdf_small_test_final\u001b[49m\u001b[38;5;241;43m.\u001b[39;49m\u001b[43mapply\u001b[49m\u001b[43m(\u001b[49m\u001b[38;5;28;43;01mlambda\u001b[39;49;00m\u001b[43m \u001b[49m\u001b[43mrow\u001b[49m\u001b[43m \u001b[49m\u001b[43m:\u001b[49m\u001b[43m \u001b[49m\u001b[43msignPrediction\u001b[49m\u001b[43m(\u001b[49m\u001b[43mG\u001b[49m\u001b[43m,\u001b[49m\u001b[43m \u001b[49m\u001b[38;5;241;43m5\u001b[39;49m\u001b[43m,\u001b[49m\u001b[43m \u001b[49m\u001b[43mrow\u001b[49m\u001b[43m[\u001b[49m\u001b[38;5;124;43m'\u001b[39;49m\u001b[38;5;124;43msource\u001b[39;49m\u001b[38;5;124;43m'\u001b[39;49m\u001b[43m]\u001b[49m\u001b[43m,\u001b[49m\u001b[43m \u001b[49m\u001b[43mrow\u001b[49m\u001b[43m[\u001b[49m\u001b[38;5;124;43m'\u001b[39;49m\u001b[38;5;124;43mtarget\u001b[39;49m\u001b[38;5;124;43m'\u001b[39;49m\u001b[43m]\u001b[49m\u001b[43m,\u001b[49m\u001b[43m \u001b[49m\u001b[38;5;241;43m0\u001b[39;49m\u001b[43m,\u001b[49m\u001b[43m \u001b[49m\u001b[43mw\u001b[49m\u001b[43m)\u001b[49m\u001b[43m,\u001b[49m\u001b[43m \u001b[49m\u001b[43maxis\u001b[49m\u001b[43m \u001b[49m\u001b[38;5;241;43m=\u001b[39;49m\u001b[43m \u001b[49m\u001b[38;5;241;43m1\u001b[39;49m\u001b[43m)\u001b[49m\n\u001b[0;32m      8\u001b[0m     confusion_matrix(df_small_test_final[\u001b[38;5;124m'\u001b[39m\u001b[38;5;124msign\u001b[39m\u001b[38;5;124m'\u001b[39m], df_small_test_final[\u001b[38;5;124m'\u001b[39m\u001b[38;5;124msign prediction\u001b[39m\u001b[38;5;124m'\u001b[39m])\n\u001b[0;32m      9\u001b[0m     acc_temp \u001b[38;5;241m=\u001b[39m accuracy_score(df_small_test_final[\u001b[38;5;124m'\u001b[39m\u001b[38;5;124msign\u001b[39m\u001b[38;5;124m'\u001b[39m], df_small_test_final[\u001b[38;5;124m'\u001b[39m\u001b[38;5;124msign prediction\u001b[39m\u001b[38;5;124m'\u001b[39m],  normalize\u001b[38;5;241m=\u001b[39m\u001b[38;5;28;01mTrue\u001b[39;00m, sample_weight\u001b[38;5;241m=\u001b[39m\u001b[38;5;28;01mNone\u001b[39;00m)\n",
      "File \u001b[1;32m~\\Videos\\New folder\\lib\\site-packages\\pandas\\core\\frame.py:8839\u001b[0m, in \u001b[0;36mDataFrame.apply\u001b[1;34m(self, func, axis, raw, result_type, args, **kwargs)\u001b[0m\n\u001b[0;32m   8828\u001b[0m \u001b[38;5;28;01mfrom\u001b[39;00m \u001b[38;5;21;01mpandas\u001b[39;00m\u001b[38;5;21;01m.\u001b[39;00m\u001b[38;5;21;01mcore\u001b[39;00m\u001b[38;5;21;01m.\u001b[39;00m\u001b[38;5;21;01mapply\u001b[39;00m \u001b[38;5;28;01mimport\u001b[39;00m frame_apply\n\u001b[0;32m   8830\u001b[0m op \u001b[38;5;241m=\u001b[39m frame_apply(\n\u001b[0;32m   8831\u001b[0m     \u001b[38;5;28mself\u001b[39m,\n\u001b[0;32m   8832\u001b[0m     func\u001b[38;5;241m=\u001b[39mfunc,\n\u001b[1;32m   (...)\u001b[0m\n\u001b[0;32m   8837\u001b[0m     kwargs\u001b[38;5;241m=\u001b[39mkwargs,\n\u001b[0;32m   8838\u001b[0m )\n\u001b[1;32m-> 8839\u001b[0m \u001b[38;5;28;01mreturn\u001b[39;00m \u001b[43mop\u001b[49m\u001b[38;5;241;43m.\u001b[39;49m\u001b[43mapply\u001b[49m\u001b[43m(\u001b[49m\u001b[43m)\u001b[49m\u001b[38;5;241m.\u001b[39m__finalize__(\u001b[38;5;28mself\u001b[39m, method\u001b[38;5;241m=\u001b[39m\u001b[38;5;124m\"\u001b[39m\u001b[38;5;124mapply\u001b[39m\u001b[38;5;124m\"\u001b[39m)\n",
      "File \u001b[1;32m~\\Videos\\New folder\\lib\\site-packages\\pandas\\core\\apply.py:727\u001b[0m, in \u001b[0;36mFrameApply.apply\u001b[1;34m(self)\u001b[0m\n\u001b[0;32m    724\u001b[0m \u001b[38;5;28;01melif\u001b[39;00m \u001b[38;5;28mself\u001b[39m\u001b[38;5;241m.\u001b[39mraw:\n\u001b[0;32m    725\u001b[0m     \u001b[38;5;28;01mreturn\u001b[39;00m \u001b[38;5;28mself\u001b[39m\u001b[38;5;241m.\u001b[39mapply_raw()\n\u001b[1;32m--> 727\u001b[0m \u001b[38;5;28;01mreturn\u001b[39;00m \u001b[38;5;28;43mself\u001b[39;49m\u001b[38;5;241;43m.\u001b[39;49m\u001b[43mapply_standard\u001b[49m\u001b[43m(\u001b[49m\u001b[43m)\u001b[49m\n",
      "File \u001b[1;32m~\\Videos\\New folder\\lib\\site-packages\\pandas\\core\\apply.py:851\u001b[0m, in \u001b[0;36mFrameApply.apply_standard\u001b[1;34m(self)\u001b[0m\n\u001b[0;32m    850\u001b[0m \u001b[38;5;28;01mdef\u001b[39;00m \u001b[38;5;21mapply_standard\u001b[39m(\u001b[38;5;28mself\u001b[39m):\n\u001b[1;32m--> 851\u001b[0m     results, res_index \u001b[38;5;241m=\u001b[39m \u001b[38;5;28;43mself\u001b[39;49m\u001b[38;5;241;43m.\u001b[39;49m\u001b[43mapply_series_generator\u001b[49m\u001b[43m(\u001b[49m\u001b[43m)\u001b[49m\n\u001b[0;32m    853\u001b[0m     \u001b[38;5;66;03m# wrap results\u001b[39;00m\n\u001b[0;32m    854\u001b[0m     \u001b[38;5;28;01mreturn\u001b[39;00m \u001b[38;5;28mself\u001b[39m\u001b[38;5;241m.\u001b[39mwrap_results(results, res_index)\n",
      "File \u001b[1;32m~\\Videos\\New folder\\lib\\site-packages\\pandas\\core\\apply.py:867\u001b[0m, in \u001b[0;36mFrameApply.apply_series_generator\u001b[1;34m(self)\u001b[0m\n\u001b[0;32m    864\u001b[0m \u001b[38;5;28;01mwith\u001b[39;00m option_context(\u001b[38;5;124m\"\u001b[39m\u001b[38;5;124mmode.chained_assignment\u001b[39m\u001b[38;5;124m\"\u001b[39m, \u001b[38;5;28;01mNone\u001b[39;00m):\n\u001b[0;32m    865\u001b[0m     \u001b[38;5;28;01mfor\u001b[39;00m i, v \u001b[38;5;129;01min\u001b[39;00m \u001b[38;5;28menumerate\u001b[39m(series_gen):\n\u001b[0;32m    866\u001b[0m         \u001b[38;5;66;03m# ignore SettingWithCopy here in case the user mutates\u001b[39;00m\n\u001b[1;32m--> 867\u001b[0m         results[i] \u001b[38;5;241m=\u001b[39m \u001b[38;5;28;43mself\u001b[39;49m\u001b[38;5;241;43m.\u001b[39;49m\u001b[43mf\u001b[49m\u001b[43m(\u001b[49m\u001b[43mv\u001b[49m\u001b[43m)\u001b[49m\n\u001b[0;32m    868\u001b[0m         \u001b[38;5;28;01mif\u001b[39;00m \u001b[38;5;28misinstance\u001b[39m(results[i], ABCSeries):\n\u001b[0;32m    869\u001b[0m             \u001b[38;5;66;03m# If we have a view on v, we need to make a copy because\u001b[39;00m\n\u001b[0;32m    870\u001b[0m             \u001b[38;5;66;03m#  series_generator will swap out the underlying data\u001b[39;00m\n\u001b[0;32m    871\u001b[0m             results[i] \u001b[38;5;241m=\u001b[39m results[i]\u001b[38;5;241m.\u001b[39mcopy(deep\u001b[38;5;241m=\u001b[39m\u001b[38;5;28;01mFalse\u001b[39;00m)\n",
      "Input \u001b[1;32mIn [374]\u001b[0m, in \u001b[0;36m<lambda>\u001b[1;34m(row)\u001b[0m\n\u001b[0;32m      5\u001b[0m \u001b[38;5;28;01mfor\u001b[39;00m w \u001b[38;5;129;01min\u001b[39;00m [i \u001b[38;5;241m/\u001b[39m \u001b[38;5;241m10\u001b[39m \u001b[38;5;28;01mfor\u001b[39;00m i \u001b[38;5;129;01min\u001b[39;00m \u001b[38;5;28mrange\u001b[39m(\u001b[38;5;241m0\u001b[39m, \u001b[38;5;241m11\u001b[39m)]:\n\u001b[0;32m      6\u001b[0m     zz \u001b[38;5;241m=\u001b[39m np\u001b[38;5;241m.\u001b[39mzeros(df_small_test_final\u001b[38;5;241m.\u001b[39mshape[\u001b[38;5;241m0\u001b[39m])\n\u001b[1;32m----> 7\u001b[0m     df_small_test_final[\u001b[38;5;124m'\u001b[39m\u001b[38;5;124msign prediction\u001b[39m\u001b[38;5;124m'\u001b[39m] \u001b[38;5;241m=\u001b[39m df_small_test_final\u001b[38;5;241m.\u001b[39mapply(\u001b[38;5;28;01mlambda\u001b[39;00m row : \u001b[43msignPrediction\u001b[49m\u001b[43m(\u001b[49m\u001b[43mG\u001b[49m\u001b[43m,\u001b[49m\u001b[43m \u001b[49m\u001b[38;5;241;43m5\u001b[39;49m\u001b[43m,\u001b[49m\u001b[43m \u001b[49m\u001b[43mrow\u001b[49m\u001b[43m[\u001b[49m\u001b[38;5;124;43m'\u001b[39;49m\u001b[38;5;124;43msource\u001b[39;49m\u001b[38;5;124;43m'\u001b[39;49m\u001b[43m]\u001b[49m\u001b[43m,\u001b[49m\u001b[43m \u001b[49m\u001b[43mrow\u001b[49m\u001b[43m[\u001b[49m\u001b[38;5;124;43m'\u001b[39;49m\u001b[38;5;124;43mtarget\u001b[39;49m\u001b[38;5;124;43m'\u001b[39;49m\u001b[43m]\u001b[49m\u001b[43m,\u001b[49m\u001b[43m \u001b[49m\u001b[38;5;241;43m0\u001b[39;49m\u001b[43m,\u001b[49m\u001b[43m \u001b[49m\u001b[43mw\u001b[49m\u001b[43m)\u001b[49m, axis \u001b[38;5;241m=\u001b[39m \u001b[38;5;241m1\u001b[39m)\n\u001b[0;32m      8\u001b[0m     confusion_matrix(df_small_test_final[\u001b[38;5;124m'\u001b[39m\u001b[38;5;124msign\u001b[39m\u001b[38;5;124m'\u001b[39m], df_small_test_final[\u001b[38;5;124m'\u001b[39m\u001b[38;5;124msign prediction\u001b[39m\u001b[38;5;124m'\u001b[39m])\n\u001b[0;32m      9\u001b[0m     acc_temp \u001b[38;5;241m=\u001b[39m accuracy_score(df_small_test_final[\u001b[38;5;124m'\u001b[39m\u001b[38;5;124msign\u001b[39m\u001b[38;5;124m'\u001b[39m], df_small_test_final[\u001b[38;5;124m'\u001b[39m\u001b[38;5;124msign prediction\u001b[39m\u001b[38;5;124m'\u001b[39m],  normalize\u001b[38;5;241m=\u001b[39m\u001b[38;5;28;01mTrue\u001b[39;00m, sample_weight\u001b[38;5;241m=\u001b[39m\u001b[38;5;28;01mNone\u001b[39;00m)\n",
      "Input \u001b[1;32mIn [371]\u001b[0m, in \u001b[0;36msignPrediction\u001b[1;34m(G, k, u, v, threshold, w1, sign_tag)\u001b[0m\n\u001b[0;32m     13\u001b[0m x \u001b[38;5;241m=\u001b[39m np\u001b[38;5;241m.\u001b[39mzeros(n)\n\u001b[0;32m     14\u001b[0m \u001b[38;5;28;01mfor\u001b[39;00m i \u001b[38;5;129;01min\u001b[39;00m \u001b[38;5;28mrange\u001b[39m(n):\n\u001b[1;32m---> 15\u001b[0m     x[i] \u001b[38;5;241m=\u001b[39m \u001b[43mgetInterClusterSimiliarity\u001b[49m\u001b[43m(\u001b[49m\u001b[43mmain_clusters\u001b[49m\u001b[43m[\u001b[49m\u001b[43mu_c\u001b[49m\u001b[43m]\u001b[49m\u001b[43m,\u001b[49m\u001b[43m \u001b[49m\u001b[43mmain_clusters\u001b[49m\u001b[43m[\u001b[49m\u001b[38;5;28;43mint\u001b[39;49m\u001b[43m(\u001b[49m\u001b[43mS_c\u001b[49m\u001b[43m[\u001b[49m\u001b[43mi\u001b[49m\u001b[43m]\u001b[49m\u001b[43m)\u001b[49m\u001b[43m]\u001b[49m\u001b[43m,\u001b[49m\u001b[43m \u001b[49m\u001b[43ms_AB\u001b[49m\u001b[43m)\u001b[49m\n\u001b[0;32m     16\u001b[0m     \u001b[38;5;28;01mif\u001b[39;00m locationOfANode(main_clusters, u) \u001b[38;5;241m==\u001b[39m locationOfANode(main_clusters, S_c[i]):\n\u001b[0;32m     17\u001b[0m         x[i] \u001b[38;5;241m=\u001b[39m w1 \u001b[38;5;241m*\u001b[39m x[i] \n",
      "Input \u001b[1;32mIn [367]\u001b[0m, in \u001b[0;36mgetInterClusterSimiliarity\u001b[1;34m(cl1, cl2, common_neighbors)\u001b[0m\n\u001b[0;32m     48\u001b[0m \u001b[38;5;28;01mdef\u001b[39;00m \u001b[38;5;21mgetInterClusterSimiliarity\u001b[39m(cl1, cl2, common_neighbors):\n\u001b[0;32m     49\u001b[0m     y1 \u001b[38;5;241m=\u001b[39m getClusterSimiliarity(cl1, common_neighbors)\n\u001b[1;32m---> 50\u001b[0m     y2 \u001b[38;5;241m=\u001b[39m \u001b[43mgetClusterSimiliarity\u001b[49m\u001b[43m(\u001b[49m\u001b[43mcl2\u001b[49m\u001b[43m,\u001b[49m\u001b[43m \u001b[49m\u001b[43mcommon_neighbors\u001b[49m\u001b[43m)\u001b[49m\n\u001b[0;32m     51\u001b[0m     \u001b[38;5;28;01mreturn\u001b[39;00m getSimiliarity(y1, y2)\n",
      "Input \u001b[1;32mIn [367]\u001b[0m, in \u001b[0;36mgetClusterSimiliarity\u001b[1;34m(Cluster, common_neighbors, sign_tag)\u001b[0m\n\u001b[0;32m     28\u001b[0m \u001b[38;5;66;03m#x = []\u001b[39;00m\n\u001b[0;32m     29\u001b[0m \u001b[38;5;28;01mfor\u001b[39;00m u \u001b[38;5;129;01min\u001b[39;00m Cluster:\n\u001b[1;32m---> 30\u001b[0m     \u001b[38;5;28;01mif\u001b[39;00m (u, v) \u001b[38;5;129;01min\u001b[39;00m \u001b[43mG\u001b[49m\u001b[38;5;241;43m.\u001b[39;49m\u001b[43medges\u001b[49m():\n\u001b[0;32m     31\u001b[0m         x\u001b[38;5;241m.\u001b[39mappend(sign_map[(u, v)])\n\u001b[0;32m     32\u001b[0m         \u001b[38;5;66;03m#print(\"u\", u , \"v\" , v)\u001b[39;00m\n",
      "File \u001b[1;32m~\\Videos\\New folder\\lib\\site-packages\\networkx\\classes\\digraph.py:900\u001b[0m, in \u001b[0;36mDiGraph.edges\u001b[1;34m(self)\u001b[0m\n\u001b[0;32m    839\u001b[0m \u001b[38;5;129m@property\u001b[39m\n\u001b[0;32m    840\u001b[0m \u001b[38;5;28;01mdef\u001b[39;00m \u001b[38;5;21medges\u001b[39m(\u001b[38;5;28mself\u001b[39m):\n\u001b[0;32m    841\u001b[0m     \u001b[38;5;124;03m\"\"\"An OutEdgeView of the DiGraph as G.edges or G.edges().\u001b[39;00m\n\u001b[0;32m    842\u001b[0m \n\u001b[0;32m    843\u001b[0m \u001b[38;5;124;03m    edges(self, nbunch=None, data=False, default=None)\u001b[39;00m\n\u001b[1;32m   (...)\u001b[0m\n\u001b[0;32m    898\u001b[0m \n\u001b[0;32m    899\u001b[0m \u001b[38;5;124;03m    \"\"\"\u001b[39;00m\n\u001b[1;32m--> 900\u001b[0m     \u001b[38;5;28;01mreturn\u001b[39;00m \u001b[43mOutEdgeView\u001b[49m\u001b[43m(\u001b[49m\u001b[38;5;28;43mself\u001b[39;49m\u001b[43m)\u001b[49m\n",
      "File \u001b[1;32m~\\Videos\\New folder\\lib\\site-packages\\networkx\\classes\\reportviews.py:1066\u001b[0m, in \u001b[0;36mOutEdgeView.__init__\u001b[1;34m(self, G)\u001b[0m\n\u001b[0;32m   1064\u001b[0m \u001b[38;5;28;01mdef\u001b[39;00m \u001b[38;5;21m__init__\u001b[39m(\u001b[38;5;28mself\u001b[39m, G):\n\u001b[0;32m   1065\u001b[0m     \u001b[38;5;28mself\u001b[39m\u001b[38;5;241m.\u001b[39m_graph \u001b[38;5;241m=\u001b[39m G\n\u001b[1;32m-> 1066\u001b[0m     \u001b[38;5;28mself\u001b[39m\u001b[38;5;241m.\u001b[39m_adjdict \u001b[38;5;241m=\u001b[39m G\u001b[38;5;241m.\u001b[39m_succ \u001b[38;5;28;01mif\u001b[39;00m \u001b[38;5;28;43mhasattr\u001b[39;49m\u001b[43m(\u001b[49m\u001b[43mG\u001b[49m\u001b[43m,\u001b[49m\u001b[43m \u001b[49m\u001b[38;5;124;43m\"\u001b[39;49m\u001b[38;5;124;43msucc\u001b[39;49m\u001b[38;5;124;43m\"\u001b[39;49m\u001b[43m)\u001b[49m \u001b[38;5;28;01melse\u001b[39;00m G\u001b[38;5;241m.\u001b[39m_adj\n\u001b[0;32m   1067\u001b[0m     \u001b[38;5;28mself\u001b[39m\u001b[38;5;241m.\u001b[39m_nodes_nbrs \u001b[38;5;241m=\u001b[39m \u001b[38;5;28mself\u001b[39m\u001b[38;5;241m.\u001b[39m_adjdict\u001b[38;5;241m.\u001b[39mitems\n",
      "File \u001b[1;32m~\\Videos\\New folder\\lib\\site-packages\\networkx\\classes\\digraph.py:361\u001b[0m, in \u001b[0;36mDiGraph.succ\u001b[1;34m(self)\u001b[0m\n\u001b[0;32m    342\u001b[0m \u001b[38;5;129m@property\u001b[39m\n\u001b[0;32m    343\u001b[0m \u001b[38;5;28;01mdef\u001b[39;00m \u001b[38;5;21msucc\u001b[39m(\u001b[38;5;28mself\u001b[39m):\n\u001b[0;32m    344\u001b[0m     \u001b[38;5;124;03m\"\"\"Graph adjacency object holding the successors of each node.\u001b[39;00m\n\u001b[0;32m    345\u001b[0m \n\u001b[0;32m    346\u001b[0m \u001b[38;5;124;03m    This object is a read-only dict-like structure with node keys\u001b[39;00m\n\u001b[1;32m   (...)\u001b[0m\n\u001b[0;32m    359\u001b[0m \u001b[38;5;124;03m    For directed graphs, `G.adj` is identical to `G.succ`.\u001b[39;00m\n\u001b[0;32m    360\u001b[0m \u001b[38;5;124;03m    \"\"\"\u001b[39;00m\n\u001b[1;32m--> 361\u001b[0m     \u001b[38;5;28;01mreturn\u001b[39;00m \u001b[43mAdjacencyView\u001b[49m\u001b[43m(\u001b[49m\u001b[38;5;28;43mself\u001b[39;49m\u001b[38;5;241;43m.\u001b[39;49m\u001b[43m_succ\u001b[49m\u001b[43m)\u001b[49m\n",
      "File \u001b[1;32m~\\Videos\\New folder\\lib\\site-packages\\networkx\\classes\\coreviews.py:44\u001b[0m, in \u001b[0;36mAtlasView.__init__\u001b[1;34m(self, d)\u001b[0m\n\u001b[0;32m     41\u001b[0m \u001b[38;5;28;01mdef\u001b[39;00m \u001b[38;5;21m__setstate__\u001b[39m(\u001b[38;5;28mself\u001b[39m, state):\n\u001b[0;32m     42\u001b[0m     \u001b[38;5;28mself\u001b[39m\u001b[38;5;241m.\u001b[39m_atlas \u001b[38;5;241m=\u001b[39m state[\u001b[38;5;124m\"\u001b[39m\u001b[38;5;124m_atlas\u001b[39m\u001b[38;5;124m\"\u001b[39m]\n\u001b[1;32m---> 44\u001b[0m \u001b[38;5;28;01mdef\u001b[39;00m \u001b[38;5;21m__init__\u001b[39m(\u001b[38;5;28mself\u001b[39m, d):\n\u001b[0;32m     45\u001b[0m     \u001b[38;5;28mself\u001b[39m\u001b[38;5;241m.\u001b[39m_atlas \u001b[38;5;241m=\u001b[39m d\n\u001b[0;32m     47\u001b[0m \u001b[38;5;28;01mdef\u001b[39;00m \u001b[38;5;21m__len__\u001b[39m(\u001b[38;5;28mself\u001b[39m):\n",
      "\u001b[1;31mKeyboardInterrupt\u001b[0m: "
     ]
    }
   ],
   "source": [
    "acc_x = [i / 10 for i in range(0, 11)]\n",
    "f_x = [i / 10 for i in range(0, 11)]\n",
    "acc_y = []\n",
    "f_y = []\n",
    "for w in [i / 10 for i in range(0, 11)]:\n",
    "    zz = np.zeros(df_small_test_final.shape[0])\n",
    "    df_small_test_final['sign prediction'] = df_small_test_final.apply(lambda row : signPrediction(G, 5, row['source'], row['target'], 0, w), axis = 1)\n",
    "    confusion_matrix(df_small_test_final['sign'], df_small_test_final['sign prediction'])\n",
    "    acc_temp = accuracy_score(df_small_test_final['sign'], df_small_test_final['sign prediction'],  normalize=True, sample_weight=None)\n",
    "    f_temp = f1_score(df_small_test_final['sign'], df_small_test_final['sign prediction'])\n",
    "    acc_y.append(acc_temp)\n",
    "    f_y.append(f_temp)\n",
    "    "
   ]
  },
  {
   "cell_type": "code",
   "execution_count": null,
   "metadata": {},
   "outputs": [],
   "source": [
    "plt.plot(acc_x, acc_y)\n",
    "plt.title('Accuracy per weight')"
   ]
  },
  {
   "cell_type": "code",
   "execution_count": null,
   "metadata": {},
   "outputs": [],
   "source": [
    "plt.plot(f_x, f_y)\n",
    "plt.title('F1 per weight')"
   ]
  },
  {
   "cell_type": "code",
   "execution_count": null,
   "metadata": {},
   "outputs": [],
   "source": [
    "print(acc_y)"
   ]
  },
  {
   "cell_type": "code",
   "execution_count": null,
   "metadata": {},
   "outputs": [],
   "source": [
    "print(f_y)"
   ]
  },
  {
   "cell_type": "code",
   "execution_count": null,
   "metadata": {},
   "outputs": [],
   "source": []
  }
 ],
 "metadata": {
  "kernelspec": {
   "display_name": "Python 3 (ipykernel)",
   "language": "python",
   "name": "python3"
  },
  "language_info": {
   "codemirror_mode": {
    "name": "ipython",
    "version": 3
   },
   "file_extension": ".py",
   "mimetype": "text/x-python",
   "name": "python",
   "nbconvert_exporter": "python",
   "pygments_lexer": "ipython3",
   "version": "3.9.12"
  }
 },
 "nbformat": 4,
 "nbformat_minor": 4
}
